{
  "nbformat": 4,
  "nbformat_minor": 0,
  "metadata": {
    "colab": {
      "name": "named-entity-recognition-and-similarity-detection-using-spacy.ipynb",
      "provenance": [],
      "toc_visible": true,
      "include_colab_link": true
    },
    "kernelspec": {
      "name": "python3",
      "display_name": "Python 3"
    }
  },
  "cells": [
    {
      "cell_type": "markdown",
      "metadata": {
        "id": "view-in-github",
        "colab_type": "text"
      },
      "source": [
        "<a href=\"https://colab.research.google.com/github/rahiakela/python-for-programmers-practice/blob/natural-language-processing/named_entity_recognition_and_similarity_detection_using_spacy.ipynb\" target=\"_parent\"><img src=\"https://colab.research.google.com/assets/colab-badge.svg\" alt=\"Open In Colab\"/></a>"
      ]
    },
    {
      "cell_type": "markdown",
      "metadata": {
        "id": "yNNLQS1aSEQg",
        "colab_type": "text"
      },
      "source": [
        "# NAMED ENTITY RECOGNITION WITH SPACY"
      ]
    },
    {
      "cell_type": "markdown",
      "metadata": {
        "id": "eQbT5USlSFDS",
        "colab_type": "text"
      },
      "source": [
        "NLP can determine what a text is about. A key aspect of this is named entity recognition, which attempts to locate and categorize items like dates, times, quantities, places, people, things, organizations and more. In this section, we’ll use the named entity recognition capabilities in the spaCy NLP library , to analyze text.\n",
        "\n",
        "You may also want to check out [Textacy](https://github.com/chartbeat-labs/textacy) an NLP library built on spaCy that supports additional NLP tasks."
      ]
    },
    {
      "cell_type": "markdown",
      "metadata": {
        "id": "miNqc-1iTNcu",
        "colab_type": "text"
      },
      "source": [
        "## Loading the Language Model"
      ]
    },
    {
      "cell_type": "markdown",
      "metadata": {
        "id": "0aqjUAuWTS7f",
        "colab_type": "text"
      },
      "source": [
        "The first step in using spaCy is to load the language model representing the natural language\n",
        "of the text you’re analyzing. To do this, you’ll call the spacy module’s load function."
      ]
    },
    {
      "cell_type": "code",
      "metadata": {
        "id": "VGOGjIiRTTgB",
        "colab_type": "code",
        "colab": {}
      },
      "source": [
        "import spacy\n",
        "\n",
        "nlp = spacy.load('en')"
      ],
      "execution_count": 0,
      "outputs": []
    },
    {
      "cell_type": "markdown",
      "metadata": {
        "id": "5jN-qQ_OTkZw",
        "colab_type": "text"
      },
      "source": [
        "## Creating a spaCy Doc"
      ]
    },
    {
      "cell_type": "markdown",
      "metadata": {
        "id": "cv7hzdyyTlak",
        "colab_type": "text"
      },
      "source": [
        "Next, you use the nlp object to create a spaCy Doc object representing the document to\n",
        "process. Here we used a sentence from the introduction to the World Wide Web in many of\n",
        "our books."
      ]
    },
    {
      "cell_type": "code",
      "metadata": {
        "id": "wOpToloDTh99",
        "colab_type": "code",
        "colab": {}
      },
      "source": [
        "document = nlp('In 1994, Tim BernersLee founded the World Wide Web Consortium (W3C), devoted to developing web technologies.')"
      ],
      "execution_count": 0,
      "outputs": []
    },
    {
      "cell_type": "markdown",
      "metadata": {
        "id": "qZWQ5bpYT9o4",
        "colab_type": "text"
      },
      "source": [
        "## Getting the Named Entities"
      ]
    },
    {
      "cell_type": "markdown",
      "metadata": {
        "id": "MLBeijn9T-b8",
        "colab_type": "text"
      },
      "source": [
        "The Doc object’s ents property returns a tuple of Span objects representing the named entities found in the Doc. Each Span has many properties."
      ]
    },
    {
      "cell_type": "code",
      "metadata": {
        "id": "vIYdANsvT70M",
        "colab_type": "code",
        "colab": {
          "base_uri": "https://localhost:8080/",
          "height": 70
        },
        "outputId": "342447a2-577a-4fd6-ea6a-80b253484cfe"
      },
      "source": [
        "for entity in document.ents:\n",
        "  print(f'{entity.text} : {entity.label_}')"
      ],
      "execution_count": 7,
      "outputs": [
        {
          "output_type": "stream",
          "text": [
            "1994 : DATE\n",
            "Tim BernersLee : PERSON\n",
            "the World Wide Web Consortium (W3C : ORG\n"
          ],
          "name": "stdout"
        }
      ]
    },
    {
      "cell_type": "markdown",
      "metadata": {
        "id": "M-_loVMxUvcb",
        "colab_type": "text"
      },
      "source": [
        "Each Span’s text property returns the entity as a string, and the label_ property returns a string indicating the entity’s kind. Here, spaCy found three entities representing a DATE (1994), a PERSON (Tim BernersLee)\n",
        "and an ORG (organization; the World Wide Web Consortium)."
      ]
    },
    {
      "cell_type": "markdown",
      "metadata": {
        "id": "V9yevScyVnSM",
        "colab_type": "text"
      },
      "source": [
        "# SIMILARITY DETECTION WITH SPACY"
      ]
    },
    {
      "cell_type": "markdown",
      "metadata": {
        "id": "C5UDr9ugVouy",
        "colab_type": "text"
      },
      "source": [
        "Similarity detection is the process of analyzing documents to determine how alike they are. One possible similarity detection technique is word frequency counting. \n",
        "\n",
        "For example, some people believe that the works of William Shakespeare actually might have been written by Sir Francis Bacon, Christopher Marlowe or others. Comparing the word frequencies of their works with those of Shakespeare can reveal writingstyle similarities.\n",
        "\n",
        "Various machinelearning techniques can be used to study document similarity. However, as is often the case in Python, there are libraries such as\n",
        "spaCy and Gensim that can do this for you. Here, we’ll use spaCy’s similarity detection features to compare Doc objects representing Shakespeare’s Romeo and Juliet with Christopher Marlowe’s Edward the Second."
      ]
    },
    {
      "cell_type": "markdown",
      "metadata": {
        "id": "cwkDdbYUbfJD",
        "colab_type": "text"
      },
      "source": [
        "## Creating the spaCy Docs"
      ]
    },
    {
      "cell_type": "markdown",
      "metadata": {
        "id": "rV8MnyNybh9S",
        "colab_type": "text"
      },
      "source": [
        "Next, we create two Doc objects—one for Romeo and Juliet and one for Edward the Second:"
      ]
    },
    {
      "cell_type": "code",
      "metadata": {
        "id": "G840HtrLUT6b",
        "colab_type": "code",
        "colab": {}
      },
      "source": [
        "from pathlib import Path\n",
        "\n",
        "document1 = nlp(Path('romeo-and-juliet.txt').read_text())\n",
        "document2 = nlp(Path('edward-the-second.txt').read_text())"
      ],
      "execution_count": 0,
      "outputs": []
    },
    {
      "cell_type": "markdown",
      "metadata": {
        "id": "Fc9ASNqeb6Vn",
        "colab_type": "text"
      },
      "source": [
        "## Comparing the Books’ Similarity"
      ]
    },
    {
      "cell_type": "markdown",
      "metadata": {
        "id": "myVMixYMcAJt",
        "colab_type": "text"
      },
      "source": [
        "Finally, we use the Doc class’s similarity method to get a value from 0.0 (not similar) to\n",
        "1.0 (identical) indicating how similar the documents are:"
      ]
    },
    {
      "cell_type": "code",
      "metadata": {
        "id": "TfLq9KmccArS",
        "colab_type": "code",
        "colab": {
          "base_uri": "https://localhost:8080/",
          "height": 90
        },
        "outputId": "4f9431aa-4c12-4bd3-b360-971c569be233"
      },
      "source": [
        "document1.similarity(document2)"
      ],
      "execution_count": 9,
      "outputs": [
        {
          "output_type": "stream",
          "text": [
            "/usr/lib/python3.6/runpy.py:193: ModelsWarning: [W007] The model you're using has no word vectors loaded, so the result of the Doc.similarity method will be based on the tagger, parser and NER, which may not give useful similarity judgements. This may happen if you're using one of the small models, e.g. `en_core_web_sm`, which don't ship with word vectors and only use context-sensitive tensors. You can always add your own word vectors, or use one of the larger models instead if available.\n",
            "  \"__main__\", mod_spec)\n"
          ],
          "name": "stderr"
        },
        {
          "output_type": "execute_result",
          "data": {
            "text/plain": [
              "0.9128401577782687"
            ]
          },
          "metadata": {
            "tags": []
          },
          "execution_count": 9
        }
      ]
    },
    {
      "cell_type": "markdown",
      "metadata": {
        "id": "2fBXDcldcR9J",
        "colab_type": "text"
      },
      "source": [
        "spaCy believes these two documents have significant similarities."
      ]
    },
    {
      "cell_type": "code",
      "metadata": {
        "id": "27_FQkGQcF00",
        "colab_type": "code",
        "colab": {}
      },
      "source": [
        "document1 = nlp('I am very happy today.')\n",
        "document2 = nlp('I am very very happy today.')"
      ],
      "execution_count": 0,
      "outputs": []
    },
    {
      "cell_type": "code",
      "metadata": {
        "id": "nQojGdRwcdel",
        "colab_type": "code",
        "colab": {
          "base_uri": "https://localhost:8080/",
          "height": 90
        },
        "outputId": "bfeea51f-e072-4dbd-cb55-ca03d1b6ce1c"
      },
      "source": [
        "document1.similarity(document2)"
      ],
      "execution_count": 12,
      "outputs": [
        {
          "output_type": "stream",
          "text": [
            "/usr/lib/python3.6/runpy.py:193: ModelsWarning: [W007] The model you're using has no word vectors loaded, so the result of the Doc.similarity method will be based on the tagger, parser and NER, which may not give useful similarity judgements. This may happen if you're using one of the small models, e.g. `en_core_web_sm`, which don't ship with word vectors and only use context-sensitive tensors. You can always add your own word vectors, or use one of the larger models instead if available.\n",
            "  \"__main__\", mod_spec)\n"
          ],
          "name": "stderr"
        },
        {
          "output_type": "execute_result",
          "data": {
            "text/plain": [
              "0.950185623440308"
            ]
          },
          "metadata": {
            "tags": []
          },
          "execution_count": 12
        }
      ]
    },
    {
      "cell_type": "code",
      "metadata": {
        "id": "_0J__KjZchLf",
        "colab_type": "code",
        "colab": {
          "base_uri": "https://localhost:8080/",
          "height": 90
        },
        "outputId": "334e8ca9-6d3f-4fa5-9ff8-8f952c29cbdd"
      },
      "source": [
        "document1 = nlp('I am very happy today.')\n",
        "document2 = nlp('I am not happy today.')\n",
        "document1.similarity(document2)"
      ],
      "execution_count": 14,
      "outputs": [
        {
          "output_type": "stream",
          "text": [
            "/usr/lib/python3.6/runpy.py:193: ModelsWarning: [W007] The model you're using has no word vectors loaded, so the result of the Doc.similarity method will be based on the tagger, parser and NER, which may not give useful similarity judgements. This may happen if you're using one of the small models, e.g. `en_core_web_sm`, which don't ship with word vectors and only use context-sensitive tensors. You can always add your own word vectors, or use one of the larger models instead if available.\n",
            "  \"__main__\", mod_spec)\n"
          ],
          "name": "stderr"
        },
        {
          "output_type": "execute_result",
          "data": {
            "text/plain": [
              "0.9522217818907655"
            ]
          },
          "metadata": {
            "tags": []
          },
          "execution_count": 14
        }
      ]
    },
    {
      "cell_type": "code",
      "metadata": {
        "id": "BNry7BDkcmf4",
        "colab_type": "code",
        "colab": {}
      },
      "source": [
        ""
      ],
      "execution_count": 0,
      "outputs": []
    }
  ]
}