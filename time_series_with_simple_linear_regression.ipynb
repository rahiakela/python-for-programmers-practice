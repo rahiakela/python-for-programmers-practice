{
  "nbformat": 4,
  "nbformat_minor": 0,
  "metadata": {
    "colab": {
      "name": "time-series-with-simple-linear-regression.ipynb",
      "provenance": [],
      "toc_visible": true,
      "include_colab_link": true
    },
    "kernelspec": {
      "name": "python3",
      "display_name": "Python 3"
    }
  },
  "cells": [
    {
      "cell_type": "markdown",
      "metadata": {
        "id": "view-in-github",
        "colab_type": "text"
      },
      "source": [
        "<a href=\"https://colab.research.google.com/github/rahiakela/python-for-programmers-practice/blob/object-oriented-programming/time_series_with_simple_linear_regression.ipynb\" target=\"_parent\"><img src=\"https://colab.research.google.com/assets/colab-badge.svg\" alt=\"Open In Colab\"/></a>"
      ]
    },
    {
      "cell_type": "markdown",
      "metadata": {
        "id": "EhOhmreg8FGd",
        "colab_type": "text"
      },
      "source": [
        "# Time Series with Simple Linear Regression"
      ]
    },
    {
      "cell_type": "markdown",
      "metadata": {
        "id": "SW9f__oc8HbL",
        "colab_type": "text"
      },
      "source": [
        "## Motivation"
      ]
    },
    {
      "cell_type": "markdown",
      "metadata": {
        "id": "2SLVfXLo8WqC",
        "colab_type": "text"
      },
      "source": [
        "We’ll discuss time series, which are sequences of values (called observations) associated with points in time. Some examples are:-\n",
        "* daily closing stock prices, \n",
        "* hourly temperature readings, \n",
        "* the changing positions of a plane in flight, \n",
        "* annual crop yields and\n",
        "* quarterly company profits. \n",
        "\n",
        "Perhaps the ultimate time series is the stream of time-stamped tweets coming from Twitter users worldwide.\n",
        "\n",
        "In this section, we’ll use a technique called simple linear regression to make predictions from time series data. We’ll use the 1895 through 2018 January average high temperatures in New York City to predict future average January high temperatures and to estimate the average January high temperatures for years preceding 1895.\n",
        "\n",
        "This would be our through practical guide as follow:-\n",
        "* In the **Machine Learning** using the scikit-learn library\n",
        "* In the **Deep Learning** using recurrent neural networks (RNNs) to analyze time series"
      ]
    },
    {
      "cell_type": "markdown",
      "metadata": {
        "id": "AaXfZj8T94E0",
        "colab_type": "text"
      },
      "source": [
        "## Time Series"
      ]
    },
    {
      "cell_type": "markdown",
      "metadata": {
        "id": "YXLnwE1c95ey",
        "colab_type": "text"
      },
      "source": [
        "The data we’ll use is a time series in which the observations are ordered by year.\n",
        "* **Univariate** - time series have one observation per time, such as the average of the January high temperatures in New York City for a particular year.\n",
        "\n",
        "* **Multivariate** - time series have two or more observations per time, such as temperature, humidity and barometric pressure readings in a weather application. \n",
        "\n",
        "Here, we’ll analyze a univariate time series.\n",
        "\n",
        "Two tasks often performed with time series are:\n",
        "* **Time series analysis** - which looks at existing time series data for patterns, helping data analysts understand the data. A common analysis task is to look for seasonality in the data.\n",
        "* **Time series forecasting** - which uses past data to predict the future.\n",
        "\n",
        "We’ll perform time series forecasting in this section."
      ]
    },
    {
      "cell_type": "markdown",
      "metadata": {
        "id": "vUfBRVfnAQHX",
        "colab_type": "text"
      },
      "source": [
        "## Simple Linear Regression"
      ]
    },
    {
      "cell_type": "markdown",
      "metadata": {
        "id": "P22EMRIlAUvm",
        "colab_type": "text"
      },
      "source": [
        "Using a technique called simple linear regression, we’ll make predictions by finding a linear relationship between the months (January of each year) and New York City’s average January high temperatures.\n",
        "\n",
        "Given a collection of values representing:-\n",
        "* **Independent variable** - (the month/year combination) and \n",
        "* **Dependent variable** - (the average high temperature for that month/year), \n",
        "\n",
        "Simple linear regression describes the relationship between these variables with a straight line, known as the regression line."
      ]
    },
    {
      "cell_type": "markdown",
      "metadata": {
        "id": "-IYFsoHtBYdx",
        "colab_type": "text"
      },
      "source": [
        "## Linear Relationships"
      ]
    },
    {
      "cell_type": "markdown",
      "metadata": {
        "id": "rUrKDs3bBZw3",
        "colab_type": "text"
      },
      "source": [
        "To understand the general concept of a linear relationship, consider Fahrenheit and Celsius temperatures. Given a Fahrenheit temperature, we can calculate the corresponding Celsius temperature using the following formula:\n",
        "\n",
        "$$c = 5 / 9 * (f - 32)$$\n",
        "\n",
        "In this formula:-\n",
        "* **f** (the Fahrenheit temperature) is the independent variable, and\n",
        "* **c** (the Celsius temperature) is the dependent variable\n",
        "\n",
        "Each value of **c** depends on the value of **f** used in the calculation."
      ]
    },
    {
      "cell_type": "code",
      "metadata": {
        "id": "7-mHGxKqCsps",
        "colab_type": "code",
        "colab": {}
      },
      "source": [
        "c = lambda f: 5 / 9 * (f - 32)\n",
        "temp = [(f, c(f)) for f in range(0, 101, 10)]"
      ],
      "execution_count": 0,
      "outputs": []
    },
    {
      "cell_type": "markdown",
      "metadata": {
        "id": "6od9uU24DQwC",
        "colab_type": "text"
      },
      "source": [
        "Let's plot to display the linear relationship between the Fahrenheit and Celsius temperatures."
      ]
    },
    {
      "cell_type": "code",
      "metadata": {
        "id": "uBNnc8YqDCnq",
        "colab_type": "code",
        "outputId": "7b5dc477-fc7c-4cf9-c631-ff48ab895b74",
        "colab": {
          "base_uri": "https://localhost:8080/",
          "height": 283
        }
      },
      "source": [
        "import pandas as pd\n",
        " \n",
        "temps_df = pd.DataFrame(temp, columns=['Fahrenheit', 'Celsius'])\n",
        "axes = temps_df.plot(x='Fahrenheit', y='Celsius', style='.-')\n",
        "y_label = axes.set_ylabel('Celsius')"
      ],
      "execution_count": 2,
      "outputs": [
        {
          "output_type": "display_data",
          "data": {
            "image/png": "[encoded data removed]",
            "text/plain": [
              "<Figure size 432x288 with 1 Axes>"
            ]
          },
          "metadata": {
            "tags": []
          }
        }
      ]
    },
    {
      "cell_type": "markdown",
      "metadata": {
        "id": "oQ86RGfXV3Rb",
        "colab_type": "text"
      },
      "source": [
        "## Components of the Simple Linear Regression Equation"
      ]
    },
    {
      "cell_type": "markdown",
      "metadata": {
        "id": "Ph8nCIIlWB8A",
        "colab_type": "text"
      },
      "source": [
        "The points along any straight line (in two dimensions) like those shown in the preceding graph can be calculated with the equation:\n",
        "\n",
        "$$y = mx + b$$\n",
        "\n",
        "where\n",
        "  * m is the line’s slope\n",
        "  * b is the line’s intercept with the y-axis (at x = 0)\n",
        "  * x is the independent variable (the date in this example), and\n",
        "  * y is the dependent variable (the temperature in this example).\n",
        "\n",
        "In simple linear regression, y is the predicted value for a given x.  "
      ]
    },
    {
      "cell_type": "markdown",
      "metadata": {
        "id": "mnXWAlCqaREa",
        "colab_type": "text"
      },
      "source": [
        "## Data Preparation & Analysis"
      ]
    },
    {
      "cell_type": "markdown",
      "metadata": {
        "id": "KzOVaAfnadvP",
        "colab_type": "text"
      },
      "source": [
        "### Loading the Average High Temperatures into a DataFrame"
      ]
    },
    {
      "cell_type": "code",
      "metadata": {
        "id": "wlsnzVrzDaC6",
        "colab_type": "code",
        "colab": {
          "base_uri": "https://localhost:8080/",
          "height": 197
        },
        "outputId": "19d492a0-3c99-47db-881d-6589c9420f2f"
      },
      "source": [
        "nyc = pd.read_csv('ave_hi_nyc_jan_1895-2018.csv')\n",
        "nyc.head()"
      ],
      "execution_count": 3,
      "outputs": [
        {
          "output_type": "execute_result",
          "data": {
            "text/html": [
              "<div>\n",
              "<style scoped>\n",
              "    .dataframe tbody tr th:only-of-type {\n",
              "        vertical-align: middle;\n",
              "    }\n",
              "\n",
              "    .dataframe tbody tr th {\n",
              "        vertical-align: top;\n",
              "    }\n",
              "\n",
              "    .dataframe thead th {\n",
              "        text-align: right;\n",
              "    }\n",
              "</style>\n",
              "<table border=\"1\" class=\"dataframe\">\n",
              "  <thead>\n",
              "    <tr style=\"text-align: right;\">\n",
              "      <th></th>\n",
              "      <th>Date</th>\n",
              "      <th>Value</th>\n",
              "      <th>Anomaly</th>\n",
              "    </tr>\n",
              "  </thead>\n",
              "  <tbody>\n",
              "    <tr>\n",
              "      <th>0</th>\n",
              "      <td>189501</td>\n",
              "      <td>34.2</td>\n",
              "      <td>-3.2</td>\n",
              "    </tr>\n",
              "    <tr>\n",
              "      <th>1</th>\n",
              "      <td>189601</td>\n",
              "      <td>34.7</td>\n",
              "      <td>-2.7</td>\n",
              "    </tr>\n",
              "    <tr>\n",
              "      <th>2</th>\n",
              "      <td>189701</td>\n",
              "      <td>35.5</td>\n",
              "      <td>-1.9</td>\n",
              "    </tr>\n",
              "    <tr>\n",
              "      <th>3</th>\n",
              "      <td>189801</td>\n",
              "      <td>39.6</td>\n",
              "      <td>2.2</td>\n",
              "    </tr>\n",
              "    <tr>\n",
              "      <th>4</th>\n",
              "      <td>189901</td>\n",
              "      <td>36.4</td>\n",
              "      <td>-1.0</td>\n",
              "    </tr>\n",
              "  </tbody>\n",
              "</table>\n",
              "</div>"
            ],
            "text/plain": [
              "     Date  Value  Anomaly\n",
              "0  189501   34.2     -3.2\n",
              "1  189601   34.7     -2.7\n",
              "2  189701   35.5     -1.9\n",
              "3  189801   39.6      2.2\n",
              "4  189901   36.4     -1.0"
            ]
          },
          "metadata": {
            "tags": []
          },
          "execution_count": 3
        }
      ]
    },
    {
      "cell_type": "code",
      "metadata": {
        "id": "H251Kbedarl1",
        "colab_type": "code",
        "colab": {
          "base_uri": "https://localhost:8080/",
          "height": 197
        },
        "outputId": "83dfeff9-7de7-4b9e-fe07-e35d842d5eeb"
      },
      "source": [
        "nyc.tail()"
      ],
      "execution_count": 4,
      "outputs": [
        {
          "output_type": "execute_result",
          "data": {
            "text/html": [
              "<div>\n",
              "<style scoped>\n",
              "    .dataframe tbody tr th:only-of-type {\n",
              "        vertical-align: middle;\n",
              "    }\n",
              "\n",
              "    .dataframe tbody tr th {\n",
              "        vertical-align: top;\n",
              "    }\n",
              "\n",
              "    .dataframe thead th {\n",
              "        text-align: right;\n",
              "    }\n",
              "</style>\n",
              "<table border=\"1\" class=\"dataframe\">\n",
              "  <thead>\n",
              "    <tr style=\"text-align: right;\">\n",
              "      <th></th>\n",
              "      <th>Date</th>\n",
              "      <th>Value</th>\n",
              "      <th>Anomaly</th>\n",
              "    </tr>\n",
              "  </thead>\n",
              "  <tbody>\n",
              "    <tr>\n",
              "      <th>119</th>\n",
              "      <td>201401</td>\n",
              "      <td>35.5</td>\n",
              "      <td>-1.9</td>\n",
              "    </tr>\n",
              "    <tr>\n",
              "      <th>120</th>\n",
              "      <td>201501</td>\n",
              "      <td>36.1</td>\n",
              "      <td>-1.3</td>\n",
              "    </tr>\n",
              "    <tr>\n",
              "      <th>121</th>\n",
              "      <td>201601</td>\n",
              "      <td>40.8</td>\n",
              "      <td>3.4</td>\n",
              "    </tr>\n",
              "    <tr>\n",
              "      <th>122</th>\n",
              "      <td>201701</td>\n",
              "      <td>42.8</td>\n",
              "      <td>5.4</td>\n",
              "    </tr>\n",
              "    <tr>\n",
              "      <th>123</th>\n",
              "      <td>201801</td>\n",
              "      <td>38.7</td>\n",
              "      <td>1.3</td>\n",
              "    </tr>\n",
              "  </tbody>\n",
              "</table>\n",
              "</div>"
            ],
            "text/plain": [
              "       Date  Value  Anomaly\n",
              "119  201401   35.5     -1.9\n",
              "120  201501   36.1     -1.3\n",
              "121  201601   40.8      3.4\n",
              "122  201701   42.8      5.4\n",
              "123  201801   38.7      1.3"
            ]
          },
          "metadata": {
            "tags": []
          },
          "execution_count": 4
        }
      ]
    },
    {
      "cell_type": "markdown",
      "metadata": {
        "id": "XOAXccL1a1Wj",
        "colab_type": "text"
      },
      "source": [
        "### Cleaning the Data"
      ]
    },
    {
      "cell_type": "code",
      "metadata": {
        "id": "eAwO6B0nczX9",
        "colab_type": "code",
        "colab": {
          "base_uri": "https://localhost:8080/",
          "height": 197
        },
        "outputId": "8764e7a4-c8ca-48aa-e53f-fedf9ac913b5"
      },
      "source": [
        "# rename column label\n",
        "nyc.columns = ['Date', 'Temperature', 'Anomaly']\n",
        "nyc.head()"
      ],
      "execution_count": 5,
      "outputs": [
        {
          "output_type": "execute_result",
          "data": {
            "text/html": [
              "<div>\n",
              "<style scoped>\n",
              "    .dataframe tbody tr th:only-of-type {\n",
              "        vertical-align: middle;\n",
              "    }\n",
              "\n",
              "    .dataframe tbody tr th {\n",
              "        vertical-align: top;\n",
              "    }\n",
              "\n",
              "    .dataframe thead th {\n",
              "        text-align: right;\n",
              "    }\n",
              "</style>\n",
              "<table border=\"1\" class=\"dataframe\">\n",
              "  <thead>\n",
              "    <tr style=\"text-align: right;\">\n",
              "      <th></th>\n",
              "      <th>Date</th>\n",
              "      <th>Temperature</th>\n",
              "      <th>Anomaly</th>\n",
              "    </tr>\n",
              "  </thead>\n",
              "  <tbody>\n",
              "    <tr>\n",
              "      <th>0</th>\n",
              "      <td>189501</td>\n",
              "      <td>34.2</td>\n",
              "      <td>-3.2</td>\n",
              "    </tr>\n",
              "    <tr>\n",
              "      <th>1</th>\n",
              "      <td>189601</td>\n",
              "      <td>34.7</td>\n",
              "      <td>-2.7</td>\n",
              "    </tr>\n",
              "    <tr>\n",
              "      <th>2</th>\n",
              "      <td>189701</td>\n",
              "      <td>35.5</td>\n",
              "      <td>-1.9</td>\n",
              "    </tr>\n",
              "    <tr>\n",
              "      <th>3</th>\n",
              "      <td>189801</td>\n",
              "      <td>39.6</td>\n",
              "      <td>2.2</td>\n",
              "    </tr>\n",
              "    <tr>\n",
              "      <th>4</th>\n",
              "      <td>189901</td>\n",
              "      <td>36.4</td>\n",
              "      <td>-1.0</td>\n",
              "    </tr>\n",
              "  </tbody>\n",
              "</table>\n",
              "</div>"
            ],
            "text/plain": [
              "     Date  Temperature  Anomaly\n",
              "0  189501         34.2     -3.2\n",
              "1  189601         34.7     -2.7\n",
              "2  189701         35.5     -1.9\n",
              "3  189801         39.6      2.2\n",
              "4  189901         36.4     -1.0"
            ]
          },
          "metadata": {
            "tags": []
          },
          "execution_count": 5
        }
      ]
    },
    {
      "cell_type": "code",
      "metadata": {
        "id": "6SjCrvgwdEt1",
        "colab_type": "code",
        "colab": {
          "base_uri": "https://localhost:8080/",
          "height": 33
        },
        "outputId": "f02c2385-d8ed-417d-d379-43816cfbd6d3"
      },
      "source": [
        "# let’s check the column’s type\n",
        "nyc.Date.dtype"
      ],
      "execution_count": 6,
      "outputs": [
        {
          "output_type": "execute_result",
          "data": {
            "text/plain": [
              "dtype('int64')"
            ]
          },
          "metadata": {
            "tags": []
          },
          "execution_count": 6
        }
      ]
    },
    {
      "cell_type": "markdown",
      "metadata": {
        "id": "N9WNdsn4djIN",
        "colab_type": "text"
      },
      "source": [
        "The values are integers, so we can divide by 100 to truncate the last two digits. \n",
        "\n",
        "Recall that each column in a DataFrame is a Series. Calling Series method floordiv performs integer division on every element of the Series"
      ]
    },
    {
      "cell_type": "code",
      "metadata": {
        "id": "8aQrECOFdWBA",
        "colab_type": "code",
        "colab": {
          "base_uri": "https://localhost:8080/",
          "height": 197
        },
        "outputId": "22b179b7-895d-4295-c256-9db2411b6533"
      },
      "source": [
        "nyc.Date = nyc.Date.floordiv(100)\n",
        "nyc.head()"
      ],
      "execution_count": 7,
      "outputs": [
        {
          "output_type": "execute_result",
          "data": {
            "text/html": [
              "<div>\n",
              "<style scoped>\n",
              "    .dataframe tbody tr th:only-of-type {\n",
              "        vertical-align: middle;\n",
              "    }\n",
              "\n",
              "    .dataframe tbody tr th {\n",
              "        vertical-align: top;\n",
              "    }\n",
              "\n",
              "    .dataframe thead th {\n",
              "        text-align: right;\n",
              "    }\n",
              "</style>\n",
              "<table border=\"1\" class=\"dataframe\">\n",
              "  <thead>\n",
              "    <tr style=\"text-align: right;\">\n",
              "      <th></th>\n",
              "      <th>Date</th>\n",
              "      <th>Temperature</th>\n",
              "      <th>Anomaly</th>\n",
              "    </tr>\n",
              "  </thead>\n",
              "  <tbody>\n",
              "    <tr>\n",
              "      <th>0</th>\n",
              "      <td>1895</td>\n",
              "      <td>34.2</td>\n",
              "      <td>-3.2</td>\n",
              "    </tr>\n",
              "    <tr>\n",
              "      <th>1</th>\n",
              "      <td>1896</td>\n",
              "      <td>34.7</td>\n",
              "      <td>-2.7</td>\n",
              "    </tr>\n",
              "    <tr>\n",
              "      <th>2</th>\n",
              "      <td>1897</td>\n",
              "      <td>35.5</td>\n",
              "      <td>-1.9</td>\n",
              "    </tr>\n",
              "    <tr>\n",
              "      <th>3</th>\n",
              "      <td>1898</td>\n",
              "      <td>39.6</td>\n",
              "      <td>2.2</td>\n",
              "    </tr>\n",
              "    <tr>\n",
              "      <th>4</th>\n",
              "      <td>1899</td>\n",
              "      <td>36.4</td>\n",
              "      <td>-1.0</td>\n",
              "    </tr>\n",
              "  </tbody>\n",
              "</table>\n",
              "</div>"
            ],
            "text/plain": [
              "   Date  Temperature  Anomaly\n",
              "0  1895         34.2     -3.2\n",
              "1  1896         34.7     -2.7\n",
              "2  1897         35.5     -1.9\n",
              "3  1898         39.6      2.2\n",
              "4  1899         36.4     -1.0"
            ]
          },
          "metadata": {
            "tags": []
          },
          "execution_count": 7
        }
      ]
    },
    {
      "cell_type": "markdown",
      "metadata": {
        "id": "30R9AAFteBiz",
        "colab_type": "text"
      },
      "source": [
        "### Calculating Basic Descriptive Statistics for the Dataset"
      ]
    },
    {
      "cell_type": "code",
      "metadata": {
        "id": "dZ0utUXpdx3X",
        "colab_type": "code",
        "colab": {
          "base_uri": "https://localhost:8080/",
          "height": 167
        },
        "outputId": "3560d57a-8a3e-4509-c024-a29cad271ecd"
      },
      "source": [
        "pd.set_option('precision', 2)\n",
        "\n",
        "nyc.Temperature.describe()"
      ],
      "execution_count": 8,
      "outputs": [
        {
          "output_type": "execute_result",
          "data": {
            "text/plain": [
              "count    124.00\n",
              "mean      37.60\n",
              "std        4.54\n",
              "min       26.10\n",
              "25%       34.58\n",
              "50%       37.60\n",
              "75%       40.60\n",
              "max       47.60\n",
              "Name: Temperature, dtype: float64"
            ]
          },
          "metadata": {
            "tags": []
          },
          "execution_count": 8
        }
      ]
    },
    {
      "cell_type": "markdown",
      "metadata": {
        "id": "eG5nJlAngPFg",
        "colab_type": "text"
      },
      "source": [
        "## Forecasting Future Average High Temperatures"
      ]
    },
    {
      "cell_type": "markdown",
      "metadata": {
        "id": "vBqQCekygQJD",
        "colab_type": "text"
      },
      "source": [
        "The SciPy (Scientific Python) library is widely used for engineering, science and math in Python. Its stats module provides function linregress, which calculates a regression line’s slope and intercept for a given set of data points."
      ]
    },
    {
      "cell_type": "code",
      "metadata": {
        "id": "3Rabwc6zeUPO",
        "colab_type": "code",
        "colab": {}
      },
      "source": [
        "from scipy import stats\n",
        "\n",
        "linear_regression = stats.linregress(x=nyc.Date, y=nyc.Temperature)"
      ],
      "execution_count": 0,
      "outputs": []
    },
    {
      "cell_type": "markdown",
      "metadata": {
        "id": "PNqx2LJzhJnk",
        "colab_type": "text"
      },
      "source": [
        "Function linregress receives two one-dimensional arrays of the same length representing the data points’ x- and y-coordinates. The keyword arguments x and y represent the independent and dependent variables, respectively. \n",
        "\n",
        "The object returned by linregress contains the regression line’s slope and intercept"
      ]
    },
    {
      "cell_type": "code",
      "metadata": {
        "id": "5KempxCrgzRJ",
        "colab_type": "code",
        "colab": {
          "base_uri": "https://localhost:8080/",
          "height": 33
        },
        "outputId": "d93d5b71-fd14-40c3-accd-9af7c7cb14b0"
      },
      "source": [
        "linear_regression.slope"
      ],
      "execution_count": 11,
      "outputs": [
        {
          "output_type": "execute_result",
          "data": {
            "text/plain": [
              "0.014771361132966163"
            ]
          },
          "metadata": {
            "tags": []
          },
          "execution_count": 11
        }
      ]
    },
    {
      "cell_type": "code",
      "metadata": {
        "id": "jvpFO-oAh8f4",
        "colab_type": "code",
        "colab": {
          "base_uri": "https://localhost:8080/",
          "height": 33
        },
        "outputId": "3e5f6690-ffa0-4ca5-d9ee-a4807212dd6c"
      },
      "source": [
        "linear_regression.intercept"
      ],
      "execution_count": 12,
      "outputs": [
        {
          "output_type": "execute_result",
          "data": {
            "text/plain": [
              "8.694993233674289"
            ]
          },
          "metadata": {
            "tags": []
          },
          "execution_count": 12
        }
      ]
    },
    {
      "cell_type": "markdown",
      "metadata": {
        "id": "3hhdxaodiNtf",
        "colab_type": "text"
      },
      "source": [
        "We can use these values with the simple linear regression equation for a straight line, $$y = mx + b$$ to predict the average January temperature in New York City for a given year. \n",
        "\n",
        "Let’s predict the average Fahrenheit temperature for January of 2019. In the following calculation, linear_regression.slope is m, 2019 is x (the date value for which you’d like to predict the temperature) and linear_regression.intercept is b."
      ]
    },
    {
      "cell_type": "code",
      "metadata": {
        "id": "1PFv7pHFh_Ak",
        "colab_type": "code",
        "colab": {
          "base_uri": "https://localhost:8080/",
          "height": 33
        },
        "outputId": "f13696c4-9462-4118-d5c4-1d058bca7d63"
      },
      "source": [
        "linear_regression.slope * 2019 + linear_regression.intercept"
      ],
      "execution_count": 13,
      "outputs": [
        {
          "output_type": "execute_result",
          "data": {
            "text/plain": [
              "38.51837136113297"
            ]
          },
          "metadata": {
            "tags": []
          },
          "execution_count": 13
        }
      ]
    },
    {
      "cell_type": "markdown",
      "metadata": {
        "id": "mQ3sOjbwkzOx",
        "colab_type": "text"
      },
      "source": [
        "We also can approximate what the average temperature might have been in the years before 1895.\n",
        " \n",
        "For example, let’s approximate the average temperature for January of 1890."
      ]
    },
    {
      "cell_type": "code",
      "metadata": {
        "id": "U0AquDnCkrol",
        "colab_type": "code",
        "colab": {
          "base_uri": "https://localhost:8080/",
          "height": 33
        },
        "outputId": "bf123961-4893-49f8-d8b5-f147fc6ba0fe"
      },
      "source": [
        "linear_regression.slope * 1890 + linear_regression.intercept"
      ],
      "execution_count": 15,
      "outputs": [
        {
          "output_type": "execute_result",
          "data": {
            "text/plain": [
              "36.612865774980335"
            ]
          },
          "metadata": {
            "tags": []
          },
          "execution_count": 15
        }
      ]
    },
    {
      "cell_type": "markdown",
      "metadata": {
        "id": "rR2TRk9MlUMu",
        "colab_type": "text"
      },
      "source": [
        "## Plotting the Average High Temperatures and a Regression Line"
      ]
    },
    {
      "cell_type": "markdown",
      "metadata": {
        "id": "QerK6XMGlVdJ",
        "colab_type": "text"
      },
      "source": [
        "let’s use Seaborn’s regplot function to plot each data point with the dates on the x-axis and the temperatures on the y-axis. The regplot function creates the scatter plot or scattergram in which the scattered dots represent the Temperatures for the given Dates, and the straight line displayed through the points is the regression line."
      ]
    },
    {
      "cell_type": "code",
      "metadata": {
        "id": "PFaPJAlclBuE",
        "colab_type": "code",
        "colab": {
          "base_uri": "https://localhost:8080/",
          "height": 283
        },
        "outputId": "8ae99067-4d1f-4a47-82ae-0dae5d013a00"
      },
      "source": [
        "import seaborn as sns\n",
        "\n",
        "sns.set_style('whitegrid')\n",
        "axes = sns.regplot(x=nyc.Date, y = nyc.Temperature)"
      ],
      "execution_count": 18,
      "outputs": [
        {
          "output_type": "display_data",
          "data": {
            "image/png": "[encoded data removed]",
            "text/plain": [
              "<Figure size 432x288 with 1 Axes>"
            ]
          },
          "metadata": {
            "tags": []
          }
        }
      ]
    },
    {
      "cell_type": "markdown",
      "metadata": {
        "id": "S9RxFVN5nDZN",
        "colab_type": "text"
      },
      "source": [
        "In the preceding graph, this is purely an issue of the graph’s height—Seaborn and Matplotlib auto-scale the axes, based on the data’s range of values.\n",
        "\n",
        "We can scale the y-axis range of values to emphasize the linear relationship. Here, we scaled the y-axis from a 21.5-degree range to a 60-degree range (from 10 to 70 degrees)."
      ]
    },
    {
      "cell_type": "code",
      "metadata": {
        "id": "x7Ht0TyYnNcv",
        "colab_type": "code",
        "colab": {
          "base_uri": "https://localhost:8080/",
          "height": 300
        },
        "outputId": "bec7369a-65d0-4999-bbd8-feff547a9897"
      },
      "source": [
        "axes = sns.regplot(x=nyc.Date, y = nyc.Temperature)\n",
        "axes.set_ylim(10, 70)"
      ],
      "execution_count": 22,
      "outputs": [
        {
          "output_type": "execute_result",
          "data": {
            "text/plain": [
              "(10, 70)"
            ]
          },
          "metadata": {
            "tags": []
          },
          "execution_count": 22
        },
        {
          "output_type": "display_data",
          "data": {
            "image/png": "[encoded data removed]",
            "text/plain": [
              "<Figure size 432x288 with 1 Axes>"
            ]
          },
          "metadata": {
            "tags": []
          }
        }
      ]
    },
    {
      "cell_type": "code",
      "metadata": {
        "id": "m11mqXIdnRtQ",
        "colab_type": "code",
        "colab": {}
      },
      "source": [
        ""
      ],
      "execution_count": 0,
      "outputs": []
    }
  ]
}