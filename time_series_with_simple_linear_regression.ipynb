{
  "nbformat": 4,
  "nbformat_minor": 0,
  "metadata": {
    "colab": {
      "name": "time-series-with-simple-linear-regression.ipynb",
      "provenance": [],
      "include_colab_link": true
    },
    "kernelspec": {
      "name": "python3",
      "display_name": "Python 3"
    }
  },
  "cells": [
    {
      "cell_type": "markdown",
      "metadata": {
        "id": "view-in-github",
        "colab_type": "text"
      },
      "source": [
        "<a href=\"https://colab.research.google.com/github/rahiakela/python-for-programmers-practice/blob/object-oriented-programming/time_series_with_simple_linear_regression.ipynb\" target=\"_parent\"><img src=\"https://colab.research.google.com/assets/colab-badge.svg\" alt=\"Open In Colab\"/></a>"
      ]
    },
    {
      "cell_type": "markdown",
      "metadata": {
        "id": "EhOhmreg8FGd",
        "colab_type": "text"
      },
      "source": [
        "# Time Series with Simple Linear Regression"
      ]
    },
    {
      "cell_type": "markdown",
      "metadata": {
        "id": "SW9f__oc8HbL",
        "colab_type": "text"
      },
      "source": [
        "## Motivation"
      ]
    },
    {
      "cell_type": "markdown",
      "metadata": {
        "id": "2SLVfXLo8WqC",
        "colab_type": "text"
      },
      "source": [
        "We’ll discuss time series, which are sequences of values (called observations) associated with points in time. Some examples are:-\n",
        "* daily closing stock prices, \n",
        "* hourly temperature readings, \n",
        "* the changing positions of a plane in flight, \n",
        "* annual crop yields and\n",
        "* quarterly company profits. \n",
        "\n",
        "Perhaps the ultimate time series is the stream of time-stamped tweets coming from Twitter users worldwide.\n",
        "\n",
        "In this section, we’ll use a technique called simple linear regression to make predictions from time series data. We’ll use the 1895 through 2018 January average high temperatures in New York City to predict future average January high temperatures and to estimate the average January high temperatures for years preceding 1895.\n",
        "\n",
        "This would be our through practical guide as follow:-\n",
        "* In the **Machine Learning** using the scikit-learn library\n",
        "* In the **Deep Learning** using recurrent neural networks (RNNs) to analyze time series"
      ]
    },
    {
      "cell_type": "markdown",
      "metadata": {
        "id": "AaXfZj8T94E0",
        "colab_type": "text"
      },
      "source": [
        "## Time Series"
      ]
    },
    {
      "cell_type": "markdown",
      "metadata": {
        "id": "YXLnwE1c95ey",
        "colab_type": "text"
      },
      "source": [
        "The data we’ll use is a time series in which the observations are ordered by year.\n",
        "* **Univariate** - time series have one observation per time, such as the average of the January high temperatures in New York City for a particular year.\n",
        "\n",
        "* **Multivariate** - time series have two or more observations per time, such as temperature, humidity and barometric pressure readings in a weather application. \n",
        "\n",
        "Here, we’ll analyze a univariate time series.\n",
        "\n",
        "Two tasks often performed with time series are:\n",
        "* **Time series analysis** - which looks at existing time series data for patterns, helping data analysts understand the data. A common analysis task is to look for seasonality in the data.\n",
        "* **Time series forecasting** - which uses past data to predict the future.\n",
        "\n",
        "We’ll perform time series forecasting in this section."
      ]
    },
    {
      "cell_type": "markdown",
      "metadata": {
        "id": "vUfBRVfnAQHX",
        "colab_type": "text"
      },
      "source": [
        "## Simple Linear Regression"
      ]
    },
    {
      "cell_type": "markdown",
      "metadata": {
        "id": "P22EMRIlAUvm",
        "colab_type": "text"
      },
      "source": [
        "Using a technique called simple linear regression, we’ll make predictions by finding a linear relationship between the months (January of each year) and New York City’s average January high temperatures.\n",
        "\n",
        "Given a collection of values representing:-\n",
        "* **Independent variable** - (the month/year combination) and \n",
        "* **Dependent variable** - (the average high temperature for that month/year), \n",
        "\n",
        "Simple linear regression describes the relationship between these variables with a straight line, known as the regression line."
      ]
    },
    {
      "cell_type": "markdown",
      "metadata": {
        "id": "-IYFsoHtBYdx",
        "colab_type": "text"
      },
      "source": [
        "## Linear Relationships"
      ]
    },
    {
      "cell_type": "markdown",
      "metadata": {
        "id": "rUrKDs3bBZw3",
        "colab_type": "text"
      },
      "source": [
        "To understand the general concept of a linear relationship, consider Fahrenheit and Celsius temperatures. Given a Fahrenheit temperature, we can calculate the corresponding Celsius temperature using the following formula:\n",
        "\n",
        "$$c = 5 / 9 * (f - 32)$$\n",
        "\n",
        "In this formula:-\n",
        "* **f** (the Fahrenheit temperature) is the independent variable, and\n",
        "* **c** (the Celsius temperature) is the dependent variable\n",
        "\n",
        "Each value of **c** depends on the value of **f** used in the calculation."
      ]
    },
    {
      "cell_type": "code",
      "metadata": {
        "id": "7-mHGxKqCsps",
        "colab_type": "code",
        "colab": {}
      },
      "source": [
        "c = lambda f: 5 / 9 * (f - 32)\n",
        "temp = [(f, c(f)) for f in range(0, 101, 10)]"
      ],
      "execution_count": 0,
      "outputs": []
    },
    {
      "cell_type": "markdown",
      "metadata": {
        "id": "6od9uU24DQwC",
        "colab_type": "text"
      },
      "source": [
        "Let's plot to display the linear relationship between the Fahrenheit and Celsius temperatures."
      ]
    },
    {
      "cell_type": "code",
      "metadata": {
        "id": "uBNnc8YqDCnq",
        "colab_type": "code",
        "colab": {
          "base_uri": "https://localhost:8080/",
          "height": 283
        },
        "outputId": "09ef2f62-9913-405b-8ac5-af511f037b36"
      },
      "source": [
        "import pandas as pd\n",
        " \n",
        "temps_df = pd.DataFrame(temp, columns=['Fahrenheit', 'Celsius'])\n",
        "axes = temps_df.plot(x='Fahrenheit', y='Celsius', style='.-')\n",
        "y_label = axes.set_ylabel('Celsius')"
      ],
      "execution_count": 6,
      "outputs": [
        {
          "output_type": "display_data",
          "data": {
            "image/png": "[encoded data removed]",
            "text/plain": [
              "<Figure size 432x288 with 1 Axes>"
            ]
          },
          "metadata": {
            "tags": []
          }
        }
      ]
    },
    {
      "cell_type": "code",
      "metadata": {
        "id": "wlsnzVrzDaC6",
        "colab_type": "code",
        "colab": {}
      },
      "source": [
        ""
      ],
      "execution_count": 0,
      "outputs": []
    }
  ]
}