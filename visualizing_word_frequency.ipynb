{
  "nbformat": 4,
  "nbformat_minor": 0,
  "metadata": {
    "colab": {
      "name": "visualizing-word-frequency.ipynb",
      "provenance": [],
      "toc_visible": true,
      "include_colab_link": true
    },
    "kernelspec": {
      "name": "python3",
      "display_name": "Python 3"
    }
  },
  "cells": [
    {
      "cell_type": "markdown",
      "metadata": {
        "id": "view-in-github",
        "colab_type": "text"
      },
      "source": [
        "<a href=\"https://colab.research.google.com/github/rahiakela/python-for-programmers-practice/blob/natural-language-processing/visualizing_word_frequency.ipynb\" target=\"_parent\"><img src=\"https://colab.research.google.com/assets/colab-badge.svg\" alt=\"Open In Colab\"/></a>"
      ]
    },
    {
      "cell_type": "markdown",
      "metadata": {
        "id": "vkxGuk5E55eX",
        "colab_type": "text"
      },
      "source": [
        "# VISUALIZING WORD FREQUENCIES WITH BAR CHARTS AND WORD CLOUDS"
      ]
    },
    {
      "cell_type": "markdown",
      "metadata": {
        "id": "WHEg0ozG574C",
        "colab_type": "text"
      },
      "source": [
        "There’s often more than one way to visualize\n",
        "data, and sometimes one is superior to others. For example, you might be interested in word\n",
        "frequencies relative to one another, or you may just be interested in relative uses of words in\n",
        "a corpus. In this section, we’ll look at two ways to visualize word frequencies:\n",
        "* A bar chart that quantitatively visualizes the top 20 words in Romeo and Juliet as bars representing each word and its frequency.\n",
        "* A word cloud that qualitatively visualizes more frequently occurring words in bigger fonts and less frequently occurring words in smaller fonts.\n",
        "\n",
        "Let’s visualize Romeo and Juliet’s top 20 words that are not stop words. To do this, we’ll use\n",
        "features from TextBlob, NLTK and pandas. Pandas visualization capabilities are based on\n",
        "Matplotlib:"
      ]
    },
    {
      "cell_type": "markdown",
      "metadata": {
        "id": "il3C46Q66r1x",
        "colab_type": "text"
      },
      "source": [
        "## Setup"
      ]
    },
    {
      "cell_type": "code",
      "metadata": {
        "id": "_2DXtcDY6YdE",
        "colab_type": "code",
        "colab": {
          "base_uri": "https://localhost:8080/",
          "height": 0
        },
        "outputId": "b4d95868-4c20-4559-9c22-730dc3968f8e"
      },
      "source": [
        "import textblob\n",
        "from textblob import TextBlob\n",
        "from pathlib import Path\n",
        "\n",
        "!python -m textblob.download_corpora"
      ],
      "execution_count": 6,
      "outputs": [
        {
          "output_type": "stream",
          "text": [
            "[nltk_data] Downloading package brown to /root/nltk_data...\n",
            "[nltk_data]   Package brown is already up-to-date!\n",
            "[nltk_data] Downloading package punkt to /root/nltk_data...\n",
            "[nltk_data]   Package punkt is already up-to-date!\n",
            "[nltk_data] Downloading package wordnet to /root/nltk_data...\n",
            "[nltk_data]   Package wordnet is already up-to-date!\n",
            "[nltk_data] Downloading package averaged_perceptron_tagger to\n",
            "[nltk_data]     /root/nltk_data...\n",
            "[nltk_data]   Package averaged_perceptron_tagger is already up-to-\n",
            "[nltk_data]       date!\n",
            "[nltk_data] Downloading package conll2000 to /root/nltk_data...\n",
            "[nltk_data]   Package conll2000 is already up-to-date!\n",
            "[nltk_data] Downloading package movie_reviews to /root/nltk_data...\n",
            "[nltk_data]   Package movie_reviews is already up-to-date!\n",
            "Finished.\n"
          ],
          "name": "stdout"
        }
      ]
    },
    {
      "cell_type": "markdown",
      "metadata": {
        "id": "InjeA-H67Qza",
        "colab_type": "text"
      },
      "source": [
        "## Loading the Data"
      ]
    },
    {
      "cell_type": "code",
      "metadata": {
        "id": "g16mglmA7LVV",
        "colab_type": "code",
        "colab": {}
      },
      "source": [
        "blob = TextBlob(Path('romeo-and-juliet.txt').read_text())"
      ],
      "execution_count": 0,
      "outputs": []
    },
    {
      "cell_type": "markdown",
      "metadata": {
        "id": "4kDcR4e_8GUP",
        "colab_type": "text"
      },
      "source": [
        " Download NLTK:"
      ]
    },
    {
      "cell_type": "code",
      "metadata": {
        "id": "mOnQwG2r8JVa",
        "colab_type": "code",
        "colab": {
          "base_uri": "https://localhost:8080/",
          "height": 0
        },
        "outputId": "ae2e2d40-2c61-4cc1-ac52-87d8e1ee41d2"
      },
      "source": [
        "import nltk\n",
        "\n",
        "nltk.download('stopwords')"
      ],
      "execution_count": 1,
      "outputs": [
        {
          "output_type": "stream",
          "text": [
            "[nltk_data] Downloading package stopwords to /root/nltk_data...\n",
            "[nltk_data]   Unzipping corpora/stopwords.zip.\n"
          ],
          "name": "stdout"
        },
        {
          "output_type": "execute_result",
          "data": {
            "text/plain": [
              "True"
            ]
          },
          "metadata": {
            "tags": []
          },
          "execution_count": 1
        }
      ]
    },
    {
      "cell_type": "markdown",
      "metadata": {
        "id": "zMnOkeRZ7rZ2",
        "colab_type": "text"
      },
      "source": [
        "Next, load the NLTK stopwords:"
      ]
    },
    {
      "cell_type": "code",
      "metadata": {
        "id": "T3l9CAnG7ktf",
        "colab_type": "code",
        "colab": {}
      },
      "source": [
        "from nltk.corpus import stopwords\n",
        "\n",
        "stop_words = stopwords.words('english')"
      ],
      "execution_count": 0,
      "outputs": []
    },
    {
      "cell_type": "markdown",
      "metadata": {
        "id": "zqui8hl1-A-B",
        "colab_type": "text"
      },
      "source": [
        "## Getting the Word Frequencies"
      ]
    },
    {
      "cell_type": "markdown",
      "metadata": {
        "id": "jNq15Quz-IGK",
        "colab_type": "text"
      },
      "source": [
        "To visualize the top 20 words, we need each word and its frequency."
      ]
    },
    {
      "cell_type": "code",
      "metadata": {
        "id": "91JRdO0A739p",
        "colab_type": "code",
        "colab": {}
      },
      "source": [
        "items = blob.word_counts.items()"
      ],
      "execution_count": 0,
      "outputs": []
    },
    {
      "cell_type": "markdown",
      "metadata": {
        "id": "ztQYI8hP-n5L",
        "colab_type": "text"
      },
      "source": [
        "## Eliminating the Stop Words"
      ]
    },
    {
      "cell_type": "markdown",
      "metadata": {
        "id": "MFdNBVOY-omI",
        "colab_type": "text"
      },
      "source": [
        "Next, let’s use a list comprehension to eliminate any tuples containing stop words"
      ]
    },
    {
      "cell_type": "code",
      "metadata": {
        "id": "NxQ5DxZW-QXF",
        "colab_type": "code",
        "colab": {
          "base_uri": "https://localhost:8080/",
          "height": 0
        },
        "outputId": "fdef5136-5078-452b-826c-5891e2e72142"
      },
      "source": [
        "items = [item for item in items if item[0] not in stop_words]\n",
        "items[:5]"
      ],
      "execution_count": 12,
      "outputs": [
        {
          "output_type": "execute_result",
          "data": {
            "text/plain": [
              "[('\\ufeff', 1), ('ebook', 2), ('one', 70), ('project', 28), ('gutenberg', 22)]"
            ]
          },
          "metadata": {
            "tags": []
          },
          "execution_count": 12
        }
      ]
    },
    {
      "cell_type": "markdown",
      "metadata": {
        "id": "ID5brQIH_JQ6",
        "colab_type": "text"
      },
      "source": [
        "## Sorting the Words by Frequency"
      ]
    },
    {
      "cell_type": "markdown",
      "metadata": {
        "id": "PMKLgCbv_MXD",
        "colab_type": "text"
      },
      "source": [
        "To determine the top 20 words, let’s sort the tuples in items in descending order by frequency. We can use builtin function sorted with a key argument to sort the tuples by the frequency element in each tuple. To specify the tuple element to sort by, use the itemgetter function from the Python Standard Library’s operator module:"
      ]
    },
    {
      "cell_type": "code",
      "metadata": {
        "id": "pbGQ5Mnd-5wK",
        "colab_type": "code",
        "colab": {
          "base_uri": "https://localhost:8080/",
          "height": 0
        },
        "outputId": "8de58386-77c9-4b53-8529-7f3d98571ba6"
      },
      "source": [
        "from operator import itemgetter\n",
        "\n",
        "sorted_items = sorted(items, key=itemgetter(1), reverse=True)\n",
        "sorted_items[:5]"
      ],
      "execution_count": 15,
      "outputs": [
        {
          "output_type": "execute_result",
          "data": {
            "text/plain": [
              "[('and', 774), ('the', 748), ('i', 656), ('to', 580), ('a', 484)]"
            ]
          },
          "metadata": {
            "tags": []
          },
          "execution_count": 15
        }
      ]
    },
    {
      "cell_type": "markdown",
      "metadata": {
        "id": "MZq80CAp_y4h",
        "colab_type": "text"
      },
      "source": [
        "## Getting the Top 20 Words"
      ]
    },
    {
      "cell_type": "markdown",
      "metadata": {
        "id": "ESOBGxGe_zmQ",
        "colab_type": "text"
      },
      "source": [
        "we use a slice to get the top 20 words from sorted_items. When TextBlob\n",
        "tokenizes a corpus, it splits all contractions at their apostrophes and counts the total number\n",
        "of apostrophes as one of the “words.”"
      ]
    },
    {
      "cell_type": "code",
      "metadata": {
        "id": "WhLbFnNw_pRK",
        "colab_type": "code",
        "colab": {
          "base_uri": "https://localhost:8080/",
          "height": 35
        },
        "outputId": "72adec4e-d5ec-47ea-bfff-6d912d0ff2d4"
      },
      "source": [
        "sorted_items[0]"
      ],
      "execution_count": 16,
      "outputs": [
        {
          "output_type": "execute_result",
          "data": {
            "text/plain": [
              "('and', 774)"
            ]
          },
          "metadata": {
            "tags": []
          },
          "execution_count": 16
        }
      ]
    },
    {
      "cell_type": "code",
      "metadata": {
        "id": "hmP3WNK1AEP-",
        "colab_type": "code",
        "colab": {
          "base_uri": "https://localhost:8080/",
          "height": 372
        },
        "outputId": "37caf06b-9bbc-48e4-9345-3ab1f39c4f52"
      },
      "source": [
        "top20 = sorted_items[1:21]\n",
        "top20"
      ],
      "execution_count": 17,
      "outputs": [
        {
          "output_type": "execute_result",
          "data": {
            "text/plain": [
              "[('the', 748),\n",
              " ('i', 656),\n",
              " ('to', 580),\n",
              " ('a', 484),\n",
              " ('of', 476),\n",
              " ('is', 425),\n",
              " ('that', 373),\n",
              " ('my', 360),\n",
              " ('in', 328),\n",
              " ('you', 327),\n",
              " ('not', 298),\n",
              " ('s', 291),\n",
              " ('thou', 278),\n",
              " ('with', 268),\n",
              " ('for', 267),\n",
              " ('me', 265),\n",
              " ('this', 260),\n",
              " ('it', 237),\n",
              " ('be', 235),\n",
              " ('d', 224)]"
            ]
          },
          "metadata": {
            "tags": []
          },
          "execution_count": 17
        }
      ]
    },
    {
      "cell_type": "markdown",
      "metadata": {
        "id": "xNZAQhCIAVPe",
        "colab_type": "text"
      },
      "source": [
        "## Convert top20 to a DataFrame"
      ]
    },
    {
      "cell_type": "markdown",
      "metadata": {
        "id": "e18XqV8MAWJK",
        "colab_type": "text"
      },
      "source": [
        "let’s convert the top20 list of tuples to a pandas DataFrame so we can visualize it conveniently."
      ]
    },
    {
      "cell_type": "code",
      "metadata": {
        "id": "ns02eUl3ANNs",
        "colab_type": "code",
        "colab": {}
      },
      "source": [
        "import pandas as pd"
      ],
      "execution_count": 0,
      "outputs": []
    },
    {
      "cell_type": "code",
      "metadata": {
        "id": "CjcF5jSZAgeh",
        "colab_type": "code",
        "colab": {
          "base_uri": "https://localhost:8080/",
          "height": 634
        },
        "outputId": "031f9585-c7d0-47b1-c8e4-f179eb1f3fad"
      },
      "source": [
        "df = pd.DataFrame(top20, columns=['word', 'count'])\n",
        "df"
      ],
      "execution_count": 21,
      "outputs": [
        {
          "output_type": "execute_result",
          "data": {
            "text/html": [
              "<div>\n",
              "<style scoped>\n",
              "    .dataframe tbody tr th:only-of-type {\n",
              "        vertical-align: middle;\n",
              "    }\n",
              "\n",
              "    .dataframe tbody tr th {\n",
              "        vertical-align: top;\n",
              "    }\n",
              "\n",
              "    .dataframe thead th {\n",
              "        text-align: right;\n",
              "    }\n",
              "</style>\n",
              "<table border=\"1\" class=\"dataframe\">\n",
              "  <thead>\n",
              "    <tr style=\"text-align: right;\">\n",
              "      <th></th>\n",
              "      <th>word</th>\n",
              "      <th>count</th>\n",
              "    </tr>\n",
              "  </thead>\n",
              "  <tbody>\n",
              "    <tr>\n",
              "      <th>0</th>\n",
              "      <td>the</td>\n",
              "      <td>748</td>\n",
              "    </tr>\n",
              "    <tr>\n",
              "      <th>1</th>\n",
              "      <td>i</td>\n",
              "      <td>656</td>\n",
              "    </tr>\n",
              "    <tr>\n",
              "      <th>2</th>\n",
              "      <td>to</td>\n",
              "      <td>580</td>\n",
              "    </tr>\n",
              "    <tr>\n",
              "      <th>3</th>\n",
              "      <td>a</td>\n",
              "      <td>484</td>\n",
              "    </tr>\n",
              "    <tr>\n",
              "      <th>4</th>\n",
              "      <td>of</td>\n",
              "      <td>476</td>\n",
              "    </tr>\n",
              "    <tr>\n",
              "      <th>5</th>\n",
              "      <td>is</td>\n",
              "      <td>425</td>\n",
              "    </tr>\n",
              "    <tr>\n",
              "      <th>6</th>\n",
              "      <td>that</td>\n",
              "      <td>373</td>\n",
              "    </tr>\n",
              "    <tr>\n",
              "      <th>7</th>\n",
              "      <td>my</td>\n",
              "      <td>360</td>\n",
              "    </tr>\n",
              "    <tr>\n",
              "      <th>8</th>\n",
              "      <td>in</td>\n",
              "      <td>328</td>\n",
              "    </tr>\n",
              "    <tr>\n",
              "      <th>9</th>\n",
              "      <td>you</td>\n",
              "      <td>327</td>\n",
              "    </tr>\n",
              "    <tr>\n",
              "      <th>10</th>\n",
              "      <td>not</td>\n",
              "      <td>298</td>\n",
              "    </tr>\n",
              "    <tr>\n",
              "      <th>11</th>\n",
              "      <td>s</td>\n",
              "      <td>291</td>\n",
              "    </tr>\n",
              "    <tr>\n",
              "      <th>12</th>\n",
              "      <td>thou</td>\n",
              "      <td>278</td>\n",
              "    </tr>\n",
              "    <tr>\n",
              "      <th>13</th>\n",
              "      <td>with</td>\n",
              "      <td>268</td>\n",
              "    </tr>\n",
              "    <tr>\n",
              "      <th>14</th>\n",
              "      <td>for</td>\n",
              "      <td>267</td>\n",
              "    </tr>\n",
              "    <tr>\n",
              "      <th>15</th>\n",
              "      <td>me</td>\n",
              "      <td>265</td>\n",
              "    </tr>\n",
              "    <tr>\n",
              "      <th>16</th>\n",
              "      <td>this</td>\n",
              "      <td>260</td>\n",
              "    </tr>\n",
              "    <tr>\n",
              "      <th>17</th>\n",
              "      <td>it</td>\n",
              "      <td>237</td>\n",
              "    </tr>\n",
              "    <tr>\n",
              "      <th>18</th>\n",
              "      <td>be</td>\n",
              "      <td>235</td>\n",
              "    </tr>\n",
              "    <tr>\n",
              "      <th>19</th>\n",
              "      <td>d</td>\n",
              "      <td>224</td>\n",
              "    </tr>\n",
              "  </tbody>\n",
              "</table>\n",
              "</div>"
            ],
            "text/plain": [
              "    word  count\n",
              "0    the    748\n",
              "1      i    656\n",
              "2     to    580\n",
              "3      a    484\n",
              "4     of    476\n",
              "5     is    425\n",
              "6   that    373\n",
              "7     my    360\n",
              "8     in    328\n",
              "9    you    327\n",
              "10   not    298\n",
              "11     s    291\n",
              "12  thou    278\n",
              "13  with    268\n",
              "14   for    267\n",
              "15    me    265\n",
              "16  this    260\n",
              "17    it    237\n",
              "18    be    235\n",
              "19     d    224"
            ]
          },
          "metadata": {
            "tags": []
          },
          "execution_count": 21
        }
      ]
    },
    {
      "cell_type": "markdown",
      "metadata": {
        "id": "BmDzyXnAA2c7",
        "colab_type": "text"
      },
      "source": [
        "## Visualizing the DataFrame"
      ]
    },
    {
      "cell_type": "markdown",
      "metadata": {
        "id": "0hX9Hqu5A4oF",
        "colab_type": "text"
      },
      "source": [
        "To visualize the data, we’ll use the bar method of the DataFrame’s plot property. The arguments indicate which column’s data should be displayed along the x and y axes, and that we do not want to display a legend on the graph:"
      ]
    },
    {
      "cell_type": "code",
      "metadata": {
        "id": "RyzGYs4vAp4W",
        "colab_type": "code",
        "colab": {
          "base_uri": "https://localhost:8080/",
          "height": 292
        },
        "outputId": "1bbc4be1-96f8-4030-ee06-c64d1af5e6e0"
      },
      "source": [
        "axes = df.plot.bar(x='word', y='count', legend=False)"
      ],
      "execution_count": 23,
      "outputs": [
        {
          "output_type": "display_data",
          "data": {
            "image/png": "[encoded data removed]",
            "text/plain": [
              "<Figure size 432x288 with 1 Axes>"
            ]
          },
          "metadata": {
            "tags": []
          }
        }
      ]
    },
    {
      "cell_type": "markdown",
      "metadata": {
        "id": "vD4hhzjRBijf",
        "colab_type": "text"
      },
      "source": [
        "When you look at the initial bar chart that appears, you’ll notice that some of the words are\n",
        "truncated. To fix that, use Matplotlib’s gcf (get current figure) function to get the Matplotlib\n",
        "figure that pandas displayed, then call the figure’s tight_layout method. This compresses\n",
        "the bar chart to ensure all its components fit:"
      ]
    },
    {
      "cell_type": "code",
      "metadata": {
        "id": "w8ADyUufBRIa",
        "colab_type": "code",
        "colab": {
          "base_uri": "https://localhost:8080/",
          "height": 35
        },
        "outputId": "1b493ae1-ac31-4409-f7a7-70e660538d4e"
      },
      "source": [
        "import matplotlib.pyplot as plt\n",
        "\n",
        "plt.gcf().tight_layout()"
      ],
      "execution_count": 24,
      "outputs": [
        {
          "output_type": "display_data",
          "data": {
            "text/plain": [
              "<Figure size 432x288 with 0 Axes>"
            ]
          },
          "metadata": {
            "tags": []
          }
        }
      ]
    },
    {
      "cell_type": "code",
      "metadata": {
        "id": "OgPHNrqUBwrH",
        "colab_type": "code",
        "colab": {
          "base_uri": "https://localhost:8080/",
          "height": 292
        },
        "outputId": "f316df58-6fa7-4530-fee9-2feadf369352"
      },
      "source": [
        "axes = df.plot.bar(x='word', y='count', legend=False)"
      ],
      "execution_count": 28,
      "outputs": [
        {
          "output_type": "display_data",
          "data": {
            "image/png": "[encoded data removed]",
            "text/plain": [
              "<Figure size 432x288 with 1 Axes>"
            ]
          },
          "metadata": {
            "tags": []
          }
        }
      ]
    },
    {
      "cell_type": "markdown",
      "metadata": {
        "id": "WSK33wcBElNh",
        "colab_type": "text"
      },
      "source": [
        "# READABILITY ASSESSMENT WITH TEXTATISTIC"
      ]
    },
    {
      "cell_type": "markdown",
      "metadata": {
        "id": "cZ8sf3zLEn9z",
        "colab_type": "text"
      },
      "source": [
        "An interesting use of natural language processing is assessing text readability, which is affected by the vocabulary used, sentence structure, sentence length, topic and more.\n",
        "\n",
        "In this section, we’ll use the Textatistic library to assess readability. There are many formulas used in natural language processing to calculate readability. Textatistic uses five popular readability formulas—Flesch Reading Ease, FleschKincaid, Gunning Fog, Simple\n",
        "Measure of Gobbledygook (SMOG) and DaleChall."
      ]
    },
    {
      "cell_type": "code",
      "metadata": {
        "id": "UXRu1xcQDuqz",
        "colab_type": "code",
        "colab": {
          "base_uri": "https://localhost:8080/",
          "height": 339
        },
        "outputId": "97460d42-1649-44bd-98c9-a735684b5829"
      },
      "source": [
        "!pip install textatistic"
      ],
      "execution_count": 32,
      "outputs": [
        {
          "output_type": "stream",
          "text": [
            "Collecting textatistic\n",
            "  Downloading https://files.pythonhosted.org/packages/73/f8/74dade1df8998ce9a42cba21b3cdf284f3f273e7e22fbcab27955d213e61/textatistic-0.0.1.tar.gz\n",
            "Collecting pyhyphen>=2.0.5\n",
            "  Downloading https://files.pythonhosted.org/packages/aa/e7/97ff5a575bd0744c67b28316fccbbcf180806bb89424df94fca9c1f6ea8c/PyHyphen-3.0.1.tar.gz\n",
            "Collecting appdirs\n",
            "  Downloading https://files.pythonhosted.org/packages/56/eb/810e700ed1349edde4cbdc1b2a21e28cdf115f9faf263f6bbf8447c1abf3/appdirs-1.4.3-py2.py3-none-any.whl\n",
            "Requirement already satisfied: six in /usr/local/lib/python3.6/dist-packages (from pyhyphen>=2.0.5->textatistic) (1.12.0)\n",
            "Building wheels for collected packages: textatistic, pyhyphen\n",
            "  Building wheel for textatistic (setup.py) ... \u001b[?25l\u001b[?25hdone\n",
            "  Created wheel for textatistic: filename=textatistic-0.0.1-cp36-none-any.whl size=29057 sha256=0c98619dbc97cdd033550fc3dad2d22ce805c0f9273dbb252d88dbec5cb41857\n",
            "  Stored in directory: /root/.cache/pip/wheels/1d/ec/34/69c3cae349149cd91552c4c470efcbd08bbd21ba30b12e08ab\n",
            "  Building wheel for pyhyphen (setup.py) ... \u001b[?25l\u001b[?25hdone\n",
            "  Created wheel for pyhyphen: filename=PyHyphen-3.0.1-cp36-cp36m-linux_x86_64.whl size=57907 sha256=b351a3d0794f08fd97940c594365f90128ea39c1df096ba24dc7377f4ffa1ed3\n",
            "  Stored in directory: /root/.cache/pip/wheels/85/46/93/46c556b5f054568b7470c86c4f76ea628a9a8bdf5a355b9c63\n",
            "Successfully built textatistic pyhyphen\n",
            "Installing collected packages: appdirs, pyhyphen, textatistic\n",
            "Successfully installed appdirs-1.4.3 pyhyphen-3.0.1 textatistic-0.0.1\n"
          ],
          "name": "stdout"
        }
      ]
    },
    {
      "cell_type": "markdown",
      "metadata": {
        "id": "njq-2dLvFKzV",
        "colab_type": "text"
      },
      "source": [
        "## Calculating Statistics and Readability Scores"
      ]
    },
    {
      "cell_type": "markdown",
      "metadata": {
        "id": "wlfpgVk2FLgu",
        "colab_type": "text"
      },
      "source": [
        "First, let’s load Romeo and Juliet into the text variable"
      ]
    },
    {
      "cell_type": "code",
      "metadata": {
        "id": "Mj0DRsgmFD8c",
        "colab_type": "code",
        "colab": {}
      },
      "source": [
        "text = Path('romeo-and-juliet.txt').read_text()"
      ],
      "execution_count": 0,
      "outputs": []
    },
    {
      "cell_type": "markdown",
      "metadata": {
        "id": "OW8wrF7HFY-j",
        "colab_type": "text"
      },
      "source": [
        "Calculating statistics and readability scores requires a Textatistic object that’s initialized\n",
        "with the text you want to assess:"
      ]
    },
    {
      "cell_type": "code",
      "metadata": {
        "id": "FEltKbZVFaoX",
        "colab_type": "code",
        "colab": {
          "base_uri": "https://localhost:8080/",
          "height": 35
        },
        "outputId": "6572a01b-6fb0-41ee-89c2-aceceedbe998"
      },
      "source": [
        "from textatistic import Textatistic\n",
        "\n",
        "readability = Textatistic(text)\n",
        "readability"
      ],
      "execution_count": 34,
      "outputs": [
        {
          "output_type": "execute_result",
          "data": {
            "text/plain": [
              "<textatistic.textatistic.Textatistic at 0x7f7ab13cbbe0>"
            ]
          },
          "metadata": {
            "tags": []
          },
          "execution_count": 34
        }
      ]
    },
    {
      "cell_type": "code",
      "metadata": {
        "id": "BpCsx-CEFo5v",
        "colab_type": "code",
        "colab": {
          "base_uri": "https://localhost:8080/",
          "height": 35
        },
        "outputId": "d62730c6-6111-4c54-9ab1-75292cb7b271"
      },
      "source": [
        "%precision 3\n",
        "'%.3f'"
      ],
      "execution_count": 35,
      "outputs": [
        {
          "output_type": "execute_result",
          "data": {
            "text/plain": [
              "'%.3f'"
            ]
          },
          "metadata": {
            "tags": []
          },
          "execution_count": 35
        }
      ]
    },
    {
      "cell_type": "code",
      "metadata": {
        "id": "ndDk2fNgFzET",
        "colab_type": "code",
        "colab": {
          "base_uri": "https://localhost:8080/",
          "height": 212
        },
        "outputId": "afbf2511-e9e1-4bf7-fbee-275f615753d7"
      },
      "source": [
        "readability.dict()"
      ],
      "execution_count": 36,
      "outputs": [
        {
          "output_type": "execute_result",
          "data": {
            "text/plain": [
              "{'char_count': 121931,\n",
              " 'dalechall_score': 7.367,\n",
              " 'flesch_score': 100.642,\n",
              " 'fleschkincaid_score': 1.217,\n",
              " 'gunningfog_score': 4.127,\n",
              " 'notdalechall_count': 5883,\n",
              " 'polysyblword_count': 638,\n",
              " 'sent_count': 3472,\n",
              " 'smog_score': 5.578,\n",
              " 'sybl_count': 32308,\n",
              " 'word_count': 27878}"
            ]
          },
          "metadata": {
            "tags": []
          },
          "execution_count": 36
        }
      ]
    },
    {
      "cell_type": "markdown",
      "metadata": {
        "id": "tv54Hb8sF9U9",
        "colab_type": "text"
      },
      "source": [
        "Each of the values in the dictionary is also accessible via a Textatistic property of the same name as the keys shown in the preceding output. The statistics produced include:\n",
        "* char_count—The number of characters in the text.\n",
        "* word_count—The number of words in the text.\n",
        "* sent_count—The number of sentences in the text.\n",
        "* sybl_count—The number of syllables in the text."
      ]
    },
    {
      "cell_type": "code",
      "metadata": {
        "id": "yZDDodWlF2C8",
        "colab_type": "code",
        "colab": {
          "base_uri": "https://localhost:8080/",
          "height": 35
        },
        "outputId": "e60b285e-342e-41f2-89c4-266e42439d2a"
      },
      "source": [
        "readability.char_count"
      ],
      "execution_count": 38,
      "outputs": [
        {
          "output_type": "execute_result",
          "data": {
            "text/plain": [
              "121931"
            ]
          },
          "metadata": {
            "tags": []
          },
          "execution_count": 38
        }
      ]
    },
    {
      "cell_type": "code",
      "metadata": {
        "id": "wlhPy9-7GVoi",
        "colab_type": "code",
        "colab": {
          "base_uri": "https://localhost:8080/",
          "height": 35
        },
        "outputId": "e45c46fe-9225-429d-e177-3d17cd78b477"
      },
      "source": [
        "readability.word_count"
      ],
      "execution_count": 39,
      "outputs": [
        {
          "output_type": "execute_result",
          "data": {
            "text/plain": [
              "27878"
            ]
          },
          "metadata": {
            "tags": []
          },
          "execution_count": 39
        }
      ]
    },
    {
      "cell_type": "code",
      "metadata": {
        "id": "A8HFjA7oGdn2",
        "colab_type": "code",
        "colab": {
          "base_uri": "https://localhost:8080/",
          "height": 35
        },
        "outputId": "50724641-b0ae-41cc-98c1-e2bfe0682693"
      },
      "source": [
        "readability.sent_count"
      ],
      "execution_count": 40,
      "outputs": [
        {
          "output_type": "execute_result",
          "data": {
            "text/plain": [
              "3472"
            ]
          },
          "metadata": {
            "tags": []
          },
          "execution_count": 40
        }
      ]
    },
    {
      "cell_type": "code",
      "metadata": {
        "id": "VdATCtK2GfYk",
        "colab_type": "code",
        "colab": {}
      },
      "source": [
        ""
      ],
      "execution_count": 0,
      "outputs": []
    }
  ]
}