{
  "nbformat": 4,
  "nbformat_minor": 0,
  "metadata": {
    "colab": {
      "name": "text-blob-demo.ipynb",
      "provenance": [],
      "toc_visible": true,
      "include_colab_link": true
    },
    "kernelspec": {
      "name": "python3",
      "display_name": "Python 3"
    }
  },
  "cells": [
    {
      "cell_type": "markdown",
      "metadata": {
        "id": "view-in-github",
        "colab_type": "text"
      },
      "source": [
        "<a href=\"https://colab.research.google.com/github/rahiakela/python-for-programmers-practice/blob/natural-language-processing/text_blob_demo.ipynb\" target=\"_parent\"><img src=\"https://colab.research.google.com/assets/colab-badge.svg\" alt=\"Open In Colab\"/></a>"
      ]
    },
    {
      "cell_type": "markdown",
      "metadata": {
        "id": "VmQVnQim3q3i",
        "colab_type": "text"
      },
      "source": [
        "# TextBlob"
      ]
    },
    {
      "cell_type": "markdown",
      "metadata": {
        "id": "8_tuqLQ73sW2",
        "colab_type": "text"
      },
      "source": [
        "TextBlob is an objectoriented NLP textprocessing library that is built on the NLTK and pattern NLP libraries and simplifies many of their capabilities. Some of the NLP tasks TextBlob can perform include:\n",
        "\n",
        "* **Tokenization**—splitting text into pieces called tokens, which are meaningful units, such as words and numbers.\n",
        "* **Partsofspeech (POS) tagging**—identifying each word’s part of speech, such as noun, verb, adjective, etc.\n",
        "* **Noun phrase extraction**—locating groups of words that represent nouns, such as “red brick factory.”\n",
        "* **Sentiment analysis**—determining whether text has positive, neutral or negative sentiment.\n",
        "* **Inter-language translation and language detection** powered by Google Translate.\n",
        "* **Inflection** —pluralizing and singularizing words. There are other aspects of inflection that are not part of TextBlob.\n",
        "* **Spell checking and spelling correction**.\n",
        "* **Stemming**—reducing words to their stems by removing prefixes or suffixes. For example, the stem of “varieties” is “varieti.”\n",
        "* **Lemmatization**—like stemming, but produces real words based on the original words’ context. For example, the lemmatized form of “varieties” is “variety.”\n",
        "* **Word frequencies**—determining how often each word appears in a corpus.\n",
        "* **WordNet integration** for finding word definitions, synonyms and antonyms.\n",
        "* **Stop word elimination**—removing common words, such as a, an, the, I, we, you and more to analyze the important words in a corpus.\n",
        "* **ngrams**— producing sets of consecutive words in a corpus for use in identifying words that frequently appear adjacent to one another."
      ]
    },
    {
      "cell_type": "markdown",
      "metadata": {
        "id": "L7XAiqTx6sbo",
        "colab_type": "text"
      },
      "source": [
        "## Setup"
      ]
    },
    {
      "cell_type": "markdown",
      "metadata": {
        "id": "EkMDuKJj6vMB",
        "colab_type": "text"
      },
      "source": [
        "Now download the NLTK corpora used by TextBlob:"
      ]
    },
    {
      "cell_type": "code",
      "metadata": {
        "id": "BC-NTz-03RXa",
        "colab_type": "code",
        "outputId": "cfb6c715-75db-4500-b320-9bfdc9031a6c",
        "colab": {
          "base_uri": "https://localhost:8080/",
          "height": 0
        }
      },
      "source": [
        "import textblob\n",
        "from textblob import TextBlob\n",
        "\n",
        "!python -m textblob.download_corpora"
      ],
      "execution_count": 1,
      "outputs": [
        {
          "output_type": "stream",
          "text": [
            "[nltk_data] Downloading package brown to /root/nltk_data...\n",
            "[nltk_data]   Unzipping corpora/brown.zip.\n",
            "[nltk_data] Downloading package punkt to /root/nltk_data...\n",
            "[nltk_data]   Unzipping tokenizers/punkt.zip.\n",
            "[nltk_data] Downloading package wordnet to /root/nltk_data...\n",
            "[nltk_data]   Unzipping corpora/wordnet.zip.\n",
            "[nltk_data] Downloading package averaged_perceptron_tagger to\n",
            "[nltk_data]     /root/nltk_data...\n",
            "[nltk_data]   Unzipping taggers/averaged_perceptron_tagger.zip.\n",
            "[nltk_data] Downloading package conll2000 to /root/nltk_data...\n",
            "[nltk_data]   Unzipping corpora/conll2000.zip.\n",
            "[nltk_data] Downloading package movie_reviews to /root/nltk_data...\n",
            "[nltk_data]   Unzipping corpora/movie_reviews.zip.\n",
            "Finished.\n"
          ],
          "name": "stdout"
        }
      ]
    },
    {
      "cell_type": "markdown",
      "metadata": {
        "id": "3rQYAnqK6ZCQ",
        "colab_type": "text"
      },
      "source": [
        "## Create a TextBlob"
      ]
    },
    {
      "cell_type": "markdown",
      "metadata": {
        "id": "Uge1r35g6aHB",
        "colab_type": "text"
      },
      "source": [
        "TextBlob is the fundamental class for NLP with the textblob module. Let’s create a TextBlob containing two sentences:"
      ]
    },
    {
      "cell_type": "code",
      "metadata": {
        "id": "ufbhPGDL5g44",
        "colab_type": "code",
        "outputId": "a155402f-f8ce-45b9-957e-fce241f48713",
        "colab": {
          "base_uri": "https://localhost:8080/",
          "height": 0
        }
      },
      "source": [
        "text = 'Today is a beautiful day. Tomorrow looks like bad weather.'\n",
        "\n",
        "blob = TextBlob(text)\n",
        "blob"
      ],
      "execution_count": 2,
      "outputs": [
        {
          "output_type": "execute_result",
          "data": {
            "text/plain": [
              "TextBlob(\"Today is a beautiful day. Tomorrow looks like bad weather.\")"
            ]
          },
          "metadata": {
            "tags": []
          },
          "execution_count": 2
        }
      ]
    },
    {
      "cell_type": "markdown",
      "metadata": {
        "id": "FNzIhKOd6x9K",
        "colab_type": "text"
      },
      "source": [
        "## Tokenizing Text into Sentences and Words"
      ]
    },
    {
      "cell_type": "markdown",
      "metadata": {
        "id": "uPcCA9416zxm",
        "colab_type": "text"
      },
      "source": [
        "Natural language processing often requires tokenizing text before performing other NLP tasks. TextBlob provides convenient properties for accessing the sentences and words in TextBlobs. \n",
        "\n",
        "Let’s use the sentence property to get a list of Sentence objects:"
      ]
    },
    {
      "cell_type": "code",
      "metadata": {
        "id": "nVb9o8cf6fW3",
        "colab_type": "code",
        "outputId": "ad06000a-cac4-462d-bb64-84583c5c725d",
        "colab": {
          "base_uri": "https://localhost:8080/",
          "height": 0
        }
      },
      "source": [
        "blob.sentences"
      ],
      "execution_count": 3,
      "outputs": [
        {
          "output_type": "execute_result",
          "data": {
            "text/plain": [
              "[Sentence(\"Today is a beautiful day.\"),\n",
              " Sentence(\"Tomorrow looks like bad weather.\")]"
            ]
          },
          "metadata": {
            "tags": []
          },
          "execution_count": 3
        }
      ]
    },
    {
      "cell_type": "markdown",
      "metadata": {
        "id": "pA3g53E67LUE",
        "colab_type": "text"
      },
      "source": [
        "The words property returns a WordList object containing a list of Word objects,\n",
        "representing each word in the TextBlob with the punctuation removed:"
      ]
    },
    {
      "cell_type": "code",
      "metadata": {
        "id": "eJfrWIGG7Ekh",
        "colab_type": "code",
        "outputId": "cfd33977-6e97-4684-9bea-60913a62d9c6",
        "colab": {
          "base_uri": "https://localhost:8080/",
          "height": 0
        }
      },
      "source": [
        "blob.words"
      ],
      "execution_count": 4,
      "outputs": [
        {
          "output_type": "execute_result",
          "data": {
            "text/plain": [
              "WordList(['Today', 'is', 'a', 'beautiful', 'day', 'Tomorrow', 'looks', 'like', 'bad', 'weather'])"
            ]
          },
          "metadata": {
            "tags": []
          },
          "execution_count": 4
        }
      ]
    },
    {
      "cell_type": "code",
      "metadata": {
        "id": "P4zcs9B77O1x",
        "colab_type": "code",
        "outputId": "b84337e3-56ec-444c-b086-6c35c1ca230e",
        "colab": {
          "base_uri": "https://localhost:8080/",
          "height": 0
        }
      },
      "source": [
        "# get every word count\n",
        "blob.word_counts"
      ],
      "execution_count": 5,
      "outputs": [
        {
          "output_type": "execute_result",
          "data": {
            "text/plain": [
              "defaultdict(int,\n",
              "            {'a': 1,\n",
              "             'bad': 1,\n",
              "             'beautiful': 1,\n",
              "             'day': 1,\n",
              "             'is': 1,\n",
              "             'like': 1,\n",
              "             'looks': 1,\n",
              "             'today': 1,\n",
              "             'tomorrow': 1,\n",
              "             'weather': 1})"
            ]
          },
          "metadata": {
            "tags": []
          },
          "execution_count": 5
        }
      ]
    },
    {
      "cell_type": "markdown",
      "metadata": {
        "id": "tBSryTDg7mw0",
        "colab_type": "text"
      },
      "source": [
        "## Parts-of-Speech Tagging"
      ]
    },
    {
      "cell_type": "markdown",
      "metadata": {
        "id": "MnfQ1mAX7nwa",
        "colab_type": "text"
      },
      "source": [
        "Partsofspeech (POS) tagging is the process of evaluating words based on their context to determine each word’s part of speech. There are eight primary English parts of speech— nouns, pronouns, verbs, adjectives, adverbs,prepositions, conjunctions and interjections (words that express emotion and that are typically followed by punctuation, like “Yes!” or “Ha!”). Within each category there are many subcategories.\n",
        "\n",
        "The tags property returns a list of tuples, each containing a word and a string representing its part-of-speech tag:"
      ]
    },
    {
      "cell_type": "code",
      "metadata": {
        "id": "F2wGVYLI7cFA",
        "colab_type": "code",
        "outputId": "5063db3f-7d17-4c94-f530-b0acd9976b20",
        "colab": {
          "base_uri": "https://localhost:8080/",
          "height": 0
        }
      },
      "source": [
        "blob.tags"
      ],
      "execution_count": 6,
      "outputs": [
        {
          "output_type": "execute_result",
          "data": {
            "text/plain": [
              "[('Today', 'NN'),\n",
              " ('is', 'VBZ'),\n",
              " ('a', 'DT'),\n",
              " ('beautiful', 'JJ'),\n",
              " ('day', 'NN'),\n",
              " ('Tomorrow', 'NNP'),\n",
              " ('looks', 'VBZ'),\n",
              " ('like', 'IN'),\n",
              " ('bad', 'JJ'),\n",
              " ('weather', 'NN')]"
            ]
          },
          "metadata": {
            "tags": []
          },
          "execution_count": 6
        }
      ]
    },
    {
      "cell_type": "markdown",
      "metadata": {
        "id": "7lLw_VL18OGi",
        "colab_type": "text"
      },
      "source": [
        "Explanation:\n",
        "* **Today**, day and weather are tagged as NN—a singular noun or mass noun.\n",
        "* **is** and looks are tagged as VBZ—a third person singular present verb.\n",
        "* **a** is tagged as DT—a determiner.\n",
        "* **beautiful** and bad are tagged as JJ—an adjective.\n",
        "* **Tomorrow** is tagged as NNP—a proper singular noun.\n",
        "* **like** is tagged as IN—a subordinating conjunction or preposition.\n",
        "\n",
        "By default, TextBlob uses a PatternTagger to determine parts-of-speech.\n",
        "This class uses the partsofspeech tagging capabilities of the pattern library:"
      ]
    },
    {
      "cell_type": "markdown",
      "metadata": {
        "id": "9h9RZp9x9zQX",
        "colab_type": "text"
      },
      "source": [
        "## Extracting Noun Phrases"
      ]
    },
    {
      "cell_type": "markdown",
      "metadata": {
        "id": "-rjjMLRY90Oz",
        "colab_type": "text"
      },
      "source": [
        "A TextBlob’s noun_phrases property returns a WordList object containing a list of Word objects—one for each noun phrase in the text:"
      ]
    },
    {
      "cell_type": "code",
      "metadata": {
        "id": "6AgZm-V18Evh",
        "colab_type": "code",
        "outputId": "1f794644-0882-45dd-b7db-9bd979d54897",
        "colab": {
          "base_uri": "https://localhost:8080/",
          "height": 0
        }
      },
      "source": [
        "blob.noun_phrases"
      ],
      "execution_count": 7,
      "outputs": [
        {
          "output_type": "execute_result",
          "data": {
            "text/plain": [
              "WordList(['beautiful day', 'tomorrow', 'bad weather'])"
            ]
          },
          "metadata": {
            "tags": []
          },
          "execution_count": 7
        }
      ]
    },
    {
      "cell_type": "markdown",
      "metadata": {
        "id": "xTMUylK9-Rys",
        "colab_type": "text"
      },
      "source": [
        "Note that a Word representing a noun phrase can contain multiple words. A WordList is an extension of Python’s builtin list type. WordLists provide additional methods for stemming, lemmatizing, singularizing and pluralizing."
      ]
    },
    {
      "cell_type": "code",
      "metadata": {
        "id": "9HAY77v3-GaP",
        "colab_type": "code",
        "outputId": "a95e9692-15be-45ba-a631-745d3c12b8fc",
        "colab": {
          "base_uri": "https://localhost:8080/",
          "height": 0
        }
      },
      "source": [
        "blob.tokens"
      ],
      "execution_count": 8,
      "outputs": [
        {
          "output_type": "execute_result",
          "data": {
            "text/plain": [
              "WordList(['Today', 'is', 'a', 'beautiful', 'day', '.', 'Tomorrow', 'looks', 'like', 'bad', 'weather', '.'])"
            ]
          },
          "metadata": {
            "tags": []
          },
          "execution_count": 8
        }
      ]
    },
    {
      "cell_type": "markdown",
      "metadata": {
        "id": "E0Ii5RHCEurH",
        "colab_type": "text"
      },
      "source": [
        "## Sentiment Analysis with TextBlob’s Default Sentiment Analyzer"
      ]
    },
    {
      "cell_type": "markdown",
      "metadata": {
        "id": "YH_siSuYEx9I",
        "colab_type": "text"
      },
      "source": [
        "One of the most common and valuable NLP tasks is sentiment analysis, which determines whether text is positive, neutral or negative. For instance, companies might use this to determine whether people are speaking positively or negatively online about their products. \n",
        "\n",
        "Consider the positive word “good” and the negative word “bad.” Just because a sentence contains “good” or “bad” does not mean the sentence’s sentiment necessarily is positive or negative. \n",
        "\n",
        "For example, the sentence--\n",
        "The food is not good.\n",
        "clearly has negative sentiment. \n",
        "\n",
        "Similarly, the sentence--The movie was not bad.\n",
        "\n",
        "clearly has positive sentiment, though perhaps not as positive as something like\n",
        "\n",
        "The movie was excellent!\n",
        "\n",
        "Sentiment analysis is a complex machinelearning problem. However, libraries like TextBlob have pretrained machine learning models for performing sentiment analysis."
      ]
    },
    {
      "cell_type": "markdown",
      "metadata": {
        "id": "HT5N_QT7F7Fl",
        "colab_type": "text"
      },
      "source": [
        "### Getting the Sentiment of a TextBlob"
      ]
    },
    {
      "cell_type": "markdown",
      "metadata": {
        "id": "YonI9OlfF8Ne",
        "colab_type": "text"
      },
      "source": [
        "A TextBlob’s sentiment property returns a Sentiment object indicating whether the text is positive or negative and whether it’s objective or subjective:"
      ]
    },
    {
      "cell_type": "code",
      "metadata": {
        "id": "_HEy0WyX-cY9",
        "colab_type": "code",
        "outputId": "96ddeb23-d65d-4736-b45b-1ba9c9fad7d2",
        "colab": {
          "base_uri": "https://localhost:8080/",
          "height": 0
        }
      },
      "source": [
        "blob"
      ],
      "execution_count": 9,
      "outputs": [
        {
          "output_type": "execute_result",
          "data": {
            "text/plain": [
              "TextBlob(\"Today is a beautiful day. Tomorrow looks like bad weather.\")"
            ]
          },
          "metadata": {
            "tags": []
          },
          "execution_count": 9
        }
      ]
    },
    {
      "cell_type": "code",
      "metadata": {
        "id": "fzzVvT3HGJg7",
        "colab_type": "code",
        "outputId": "1dd9c2aa-d6b6-4886-ce6f-ead1085ce280",
        "colab": {
          "base_uri": "https://localhost:8080/",
          "height": 0
        }
      },
      "source": [
        "blob.sentiment"
      ],
      "execution_count": 10,
      "outputs": [
        {
          "output_type": "execute_result",
          "data": {
            "text/plain": [
              "Sentiment(polarity=0.07500000000000007, subjectivity=0.8333333333333333)"
            ]
          },
          "metadata": {
            "tags": []
          },
          "execution_count": 10
        }
      ]
    },
    {
      "cell_type": "markdown",
      "metadata": {
        "id": "k8S0MHZDGqFz",
        "colab_type": "text"
      },
      "source": [
        "the polarity indicates sentiment with a value from 1.0 (negative) to 1.0 (positive) with 0.0 being neutral. The subjectivity is a value from 0.0(objective) to 1.0 (subjective). Based on the values for our TextBlob, the overall sentiment is close to neutral, and the text is mostly subjective."
      ]
    },
    {
      "cell_type": "markdown",
      "metadata": {
        "id": "YqLRpMW6GxOX",
        "colab_type": "text"
      },
      "source": [
        "### Getting the polarity and subjectivity from the Sentiment Object"
      ]
    },
    {
      "cell_type": "markdown",
      "metadata": {
        "id": "y4ASzgY3GyRf",
        "colab_type": "text"
      },
      "source": [
        "The values displayed above probably provide more precision that you need in most cases.\n",
        "\n",
        "This can detract from numeric output’s readability. The IPython magic %precision allows you to specify the default precision for standalone float objects and float objects in builtin types like lists, dictionaries and tuples."
      ]
    },
    {
      "cell_type": "code",
      "metadata": {
        "id": "TVivM_FHGMzg",
        "colab_type": "code",
        "outputId": "87c260f9-b659-4eda-b20f-c3f9ab6acff0",
        "colab": {
          "base_uri": "https://localhost:8080/",
          "height": 0
        }
      },
      "source": [
        "%precision 3\n",
        "\n",
        "blob.sentiment.polarity"
      ],
      "execution_count": 11,
      "outputs": [
        {
          "output_type": "execute_result",
          "data": {
            "text/plain": [
              "0.075"
            ]
          },
          "metadata": {
            "tags": []
          },
          "execution_count": 11
        }
      ]
    },
    {
      "cell_type": "code",
      "metadata": {
        "id": "YYdPmhN8HV4t",
        "colab_type": "code",
        "outputId": "8327de31-dc63-4764-e50d-e76a66f95a2d",
        "colab": {
          "base_uri": "https://localhost:8080/",
          "height": 0
        }
      },
      "source": [
        "blob.sentiment.subjectivity"
      ],
      "execution_count": 12,
      "outputs": [
        {
          "output_type": "execute_result",
          "data": {
            "text/plain": [
              "0.833"
            ]
          },
          "metadata": {
            "tags": []
          },
          "execution_count": 12
        }
      ]
    },
    {
      "cell_type": "markdown",
      "metadata": {
        "id": "seRzZ154HvMd",
        "colab_type": "text"
      },
      "source": [
        "### Getting the Sentiment of a Sentence"
      ]
    },
    {
      "cell_type": "markdown",
      "metadata": {
        "id": "wJ6IbV5RHwHf",
        "colab_type": "text"
      },
      "source": [
        "You also can get the sentiment at the individual sentence level. \n",
        "\n",
        "Let’s use the sentence property to get a list of Sentence objects, then iterate through them and display each Sentence’s sentiment property:"
      ]
    },
    {
      "cell_type": "code",
      "metadata": {
        "id": "d9F23kwRHZbV",
        "colab_type": "code",
        "outputId": "5e1e53a8-d989-45a6-fd2f-cce8f868f801",
        "colab": {
          "base_uri": "https://localhost:8080/",
          "height": 0
        }
      },
      "source": [
        "for sentence in blob.sentences:\n",
        "  print(sentence.sentiment)"
      ],
      "execution_count": 13,
      "outputs": [
        {
          "output_type": "stream",
          "text": [
            "Sentiment(polarity=0.85, subjectivity=1.0)\n",
            "Sentiment(polarity=-0.6999999999999998, subjectivity=0.6666666666666666)\n"
          ],
          "name": "stdout"
        }
      ]
    },
    {
      "cell_type": "markdown",
      "metadata": {
        "id": "nDc7d9b_Igdu",
        "colab_type": "text"
      },
      "source": [
        "This might explain why the entire TextBlob’s sentiment is close to 0.0 (neutral)—one sentence is positive (0.85) and the other negative (0.6999999999999998)."
      ]
    },
    {
      "cell_type": "markdown",
      "metadata": {
        "id": "YqYP-MKbIlgK",
        "colab_type": "text"
      },
      "source": [
        "## Sentiment Analysis with the NaiveBayesAnalyzer"
      ]
    },
    {
      "cell_type": "markdown",
      "metadata": {
        "id": "1Y7u253FImqJ",
        "colab_type": "text"
      },
      "source": [
        "By default, a TextBlob and the Sentences and Words you get from it determine sentiment using a PatternAnalyzer, which uses the same sentiment analysis techniques as in the Pattern library. \n",
        "\n",
        "The TextBlob library also comes with a NaiveBayesAnalyzer which was trained on a database of movie reviews. Naive Bayes is a commonly used machine learning text classification algorithm."
      ]
    },
    {
      "cell_type": "code",
      "metadata": {
        "id": "dF5Ci4FtIRzH",
        "colab_type": "code",
        "outputId": "5e4d6f4f-f845-4762-e973-b56e84f7389a",
        "colab": {
          "base_uri": "https://localhost:8080/",
          "height": 0
        }
      },
      "source": [
        "from textblob.sentiments import NaiveBayesAnalyzer\n",
        "\n",
        "blob = TextBlob(text, analyzer=NaiveBayesAnalyzer())\n",
        "blob"
      ],
      "execution_count": 14,
      "outputs": [
        {
          "output_type": "execute_result",
          "data": {
            "text/plain": [
              "TextBlob(\"Today is a beautiful day. Tomorrow looks like bad weather.\")"
            ]
          },
          "metadata": {
            "tags": []
          },
          "execution_count": 14
        }
      ]
    },
    {
      "cell_type": "code",
      "metadata": {
        "id": "-vfcaLlEJar2",
        "colab_type": "code",
        "outputId": "7a07145d-4f61-4811-dc6f-b687a9c32f80",
        "colab": {
          "base_uri": "https://localhost:8080/",
          "height": 0
        }
      },
      "source": [
        "blob.sentiment"
      ],
      "execution_count": 15,
      "outputs": [
        {
          "output_type": "execute_result",
          "data": {
            "text/plain": [
              "Sentiment(classification='neg', p_pos=0.47662917962091056, p_neg=0.5233708203790892)"
            ]
          },
          "metadata": {
            "tags": []
          },
          "execution_count": 15
        }
      ]
    },
    {
      "cell_type": "markdown",
      "metadata": {
        "id": "Lhmhgs0WJtSK",
        "colab_type": "text"
      },
      "source": [
        "The overall sentiment is classified as negative (classification='neg'). The\n",
        "Sentiment object’s p_pos indicates that the TextBlob is 47.66% positive, and its p_neg indicates that the TextBlob is 52.34% negative. Since the overall sentiment is just slightly more negative we’d probably view this TextBlob’s sentiment as neutral overall.\n",
        "\n",
        "Now, let’s get the sentiment of each Sentence:"
      ]
    },
    {
      "cell_type": "code",
      "metadata": {
        "id": "kmwhL5CqJhS4",
        "colab_type": "code",
        "outputId": "5ffe4f19-cc00-4a5d-e1df-b6d59377434e",
        "colab": {
          "base_uri": "https://localhost:8080/",
          "height": 0
        }
      },
      "source": [
        "for sentence in blob.sentences:\n",
        "  print(sentence.sentiment)"
      ],
      "execution_count": 16,
      "outputs": [
        {
          "output_type": "stream",
          "text": [
            "Sentiment(classification='pos', p_pos=0.8117563121751951, p_neg=0.18824368782480477)\n",
            "Sentiment(classification='neg', p_pos=0.174363226578349, p_neg=0.8256367734216521)\n"
          ],
          "name": "stdout"
        }
      ]
    },
    {
      "cell_type": "markdown",
      "metadata": {
        "id": "ISX5_lAPKOys",
        "colab_type": "text"
      },
      "source": [
        "Rather than polarity and subjectivity, the Sentiment objects we get from\n",
        "the NaiveBayesAnalyzer contain a classification—'pos' (positive) or 'neg' (negative)—and p_pos (percentage positive) and p_neg (percentage negative) values from 0.0 to 1.0."
      ]
    },
    {
      "cell_type": "markdown",
      "metadata": {
        "id": "DCt8NaKGMaKf",
        "colab_type": "text"
      },
      "source": [
        "## Language Detection and Translation"
      ]
    },
    {
      "cell_type": "markdown",
      "metadata": {
        "id": "RKoi3OyDMbXG",
        "colab_type": "text"
      },
      "source": [
        "Inter-language translation also is great for people traveling to foreign countries. They can use translation apps to translate menus, road signs and more. There are even efforts at live speech translation so that you’ll be able to converse in real time with people who do not know your natural language.Some smartphones, can now work together with in ear headphones to provide nearlive\n",
        "translation of many languages.\n",
        "\n",
        "The TextBlob library uses Google Translate to detect a text’s language and translate TextBlobs, Sentences and Words into other languages. Let’s use detect_language method to detect the language of the text we’re manipulating ('en' is English):"
      ]
    },
    {
      "cell_type": "code",
      "metadata": {
        "id": "USqA8iEmJ8WV",
        "colab_type": "code",
        "outputId": "2ed9accf-1fce-413f-e57b-aed05ee93c5d",
        "colab": {
          "base_uri": "https://localhost:8080/",
          "height": 0
        }
      },
      "source": [
        "blob.detect_language()"
      ],
      "execution_count": 17,
      "outputs": [
        {
          "output_type": "execute_result",
          "data": {
            "text/plain": [
              "'en'"
            ]
          },
          "metadata": {
            "tags": []
          },
          "execution_count": 17
        }
      ]
    },
    {
      "cell_type": "markdown",
      "metadata": {
        "id": "uPkpfBMcM6K4",
        "colab_type": "text"
      },
      "source": [
        "Next, let’s use the translate method to translate the text to Spanish ('es') then detect the language on the result. The to keyword argument specifies the target language."
      ]
    },
    {
      "cell_type": "code",
      "metadata": {
        "id": "g_f2U2crM0Wt",
        "colab_type": "code",
        "outputId": "f24f03b0-0c8a-408c-b05a-7c82880bd9c1",
        "colab": {
          "base_uri": "https://localhost:8080/",
          "height": 0
        }
      },
      "source": [
        "spanish = blob.translate(to='es')\n",
        "spanish"
      ],
      "execution_count": 18,
      "outputs": [
        {
          "output_type": "execute_result",
          "data": {
            "text/plain": [
              "TextBlob(\"Hoy es un hermoso dia. Mañana parece mal tiempo.\")"
            ]
          },
          "metadata": {
            "tags": []
          },
          "execution_count": 18
        }
      ]
    },
    {
      "cell_type": "code",
      "metadata": {
        "id": "w8BfhPcENCfR",
        "colab_type": "code",
        "outputId": "ff304ca1-f5f0-48d9-947a-8042aa9fb4d6",
        "colab": {
          "base_uri": "https://localhost:8080/",
          "height": 0
        }
      },
      "source": [
        "spanish.detect_language()"
      ],
      "execution_count": 19,
      "outputs": [
        {
          "output_type": "execute_result",
          "data": {
            "text/plain": [
              "'es'"
            ]
          },
          "metadata": {
            "tags": []
          },
          "execution_count": 19
        }
      ]
    },
    {
      "cell_type": "markdown",
      "metadata": {
        "id": "tQESnA4dNOLE",
        "colab_type": "text"
      },
      "source": [
        "Next, let’s translate our TextBlob to simplified Chinese (specified as 'zh' or 'zhCN') then detect the language on the result:"
      ]
    },
    {
      "cell_type": "code",
      "metadata": {
        "id": "WFL9j8x-NIPG",
        "colab_type": "code",
        "outputId": "91bd237a-57b9-408a-e825-ea7564ba9e3d",
        "colab": {
          "base_uri": "https://localhost:8080/",
          "height": 0
        }
      },
      "source": [
        "chinese = blob.translate(to='zh')\n",
        "chinese"
      ],
      "execution_count": 20,
      "outputs": [
        {
          "output_type": "execute_result",
          "data": {
            "text/plain": [
              "TextBlob(\"今天是美好的一天。明天看起来天气不好。\")"
            ]
          },
          "metadata": {
            "tags": []
          },
          "execution_count": 20
        }
      ]
    },
    {
      "cell_type": "code",
      "metadata": {
        "id": "GICEtcxUNWbS",
        "colab_type": "code",
        "outputId": "5a429911-6f01-434b-ac14-d71b3df97452",
        "colab": {
          "base_uri": "https://localhost:8080/",
          "height": 0
        }
      },
      "source": [
        "chinese.detect_language()"
      ],
      "execution_count": 21,
      "outputs": [
        {
          "output_type": "execute_result",
          "data": {
            "text/plain": [
              "'zh-CN'"
            ]
          },
          "metadata": {
            "tags": []
          },
          "execution_count": 21
        }
      ]
    },
    {
      "cell_type": "code",
      "metadata": {
        "id": "e6AosrzkNdOm",
        "colab_type": "code",
        "outputId": "2bb37339-2558-436d-cc61-9e091803eec2",
        "colab": {
          "base_uri": "https://localhost:8080/",
          "height": 0
        }
      },
      "source": [
        "hindi = blob.translate(to='hi')\n",
        "hindi"
      ],
      "execution_count": 22,
      "outputs": [
        {
          "output_type": "execute_result",
          "data": {
            "text/plain": [
              "TextBlob(\"आज का दिन बहुत ही अच्छा है। कल खराब मौसम की तरह लग रहा है।\")"
            ]
          },
          "metadata": {
            "tags": []
          },
          "execution_count": 22
        }
      ]
    },
    {
      "cell_type": "code",
      "metadata": {
        "id": "xKeoeYXzON1L",
        "colab_type": "code",
        "outputId": "70eae52f-a258-41ff-9914-fdb2678ad5c3",
        "colab": {
          "base_uri": "https://localhost:8080/",
          "height": 0
        }
      },
      "source": [
        "hindi.detect_language()"
      ],
      "execution_count": 23,
      "outputs": [
        {
          "output_type": "execute_result",
          "data": {
            "text/plain": [
              "'hi'"
            ]
          },
          "metadata": {
            "tags": []
          },
          "execution_count": 23
        }
      ]
    },
    {
      "cell_type": "markdown",
      "metadata": {
        "id": "mr5F4IchOkLy",
        "colab_type": "text"
      },
      "source": [
        "In each of the preceding cases, Google Translate automatically detects the source language.\n",
        "You can specify a source language explicitly by passing the from_lang keyword argument to\n",
        "the translate method."
      ]
    },
    {
      "cell_type": "code",
      "metadata": {
        "id": "6ZnIVG-FOWC1",
        "colab_type": "code",
        "outputId": "e30ba6d8-db13-4cb5-c81b-ac386cfbe5f2",
        "colab": {
          "base_uri": "https://localhost:8080/",
          "height": 0
        }
      },
      "source": [
        "chinese = blob.translate(from_lang='en', to='zh')\n",
        "chinese"
      ],
      "execution_count": 24,
      "outputs": [
        {
          "output_type": "execute_result",
          "data": {
            "text/plain": [
              "TextBlob(\"今天是美好的一天。明天看起来天气不好。\")"
            ]
          },
          "metadata": {
            "tags": []
          },
          "execution_count": 24
        }
      ]
    },
    {
      "cell_type": "code",
      "metadata": {
        "id": "vaCs7rouOtHQ",
        "colab_type": "code",
        "outputId": "fcdbfb76-044f-4a14-e9e9-55eaf8ac5729",
        "colab": {
          "base_uri": "https://localhost:8080/",
          "height": 0
        }
      },
      "source": [
        "hindi = blob.translate(from_lang='en', to='hi')\n",
        "hindi"
      ],
      "execution_count": 25,
      "outputs": [
        {
          "output_type": "execute_result",
          "data": {
            "text/plain": [
              "TextBlob(\"आज का दिन बहुत ही अच्छा है। कल खराब मौसम की तरह लग रहा है।\")"
            ]
          },
          "metadata": {
            "tags": []
          },
          "execution_count": 25
        }
      ]
    },
    {
      "cell_type": "markdown",
      "metadata": {
        "id": "4KkZc09mPF2c",
        "colab_type": "text"
      },
      "source": [
        "Calling translate without arguments translates from the detected source language to English:"
      ]
    },
    {
      "cell_type": "code",
      "metadata": {
        "id": "l2YyIdMNO0El",
        "colab_type": "code",
        "outputId": "a115ea2a-3da7-492d-9e42-2187197fa5aa",
        "colab": {
          "base_uri": "https://localhost:8080/",
          "height": 0
        }
      },
      "source": [
        "chinese.translate()\n",
        "chinese"
      ],
      "execution_count": 26,
      "outputs": [
        {
          "output_type": "execute_result",
          "data": {
            "text/plain": [
              "TextBlob(\"今天是美好的一天。明天看起来天气不好。\")"
            ]
          },
          "metadata": {
            "tags": []
          },
          "execution_count": 26
        }
      ]
    },
    {
      "cell_type": "code",
      "metadata": {
        "id": "xIgQX7sSPMXW",
        "colab_type": "code",
        "outputId": "30b330ab-9b19-443b-a4f1-0f7fab21052f",
        "colab": {
          "base_uri": "https://localhost:8080/",
          "height": 0
        }
      },
      "source": [
        "hindi.translate()\n",
        "hindi"
      ],
      "execution_count": 27,
      "outputs": [
        {
          "output_type": "execute_result",
          "data": {
            "text/plain": [
              "TextBlob(\"आज का दिन बहुत ही अच्छा है। कल खराब मौसम की तरह लग रहा है।\")"
            ]
          },
          "metadata": {
            "tags": []
          },
          "execution_count": 27
        }
      ]
    },
    {
      "cell_type": "markdown",
      "metadata": {
        "id": "B9BkB5mBPjNW",
        "colab_type": "text"
      },
      "source": [
        "## Inflection: Pluralization and Singularization"
      ]
    },
    {
      "cell_type": "markdown",
      "metadata": {
        "id": "Tvknn0FpPkUq",
        "colab_type": "text"
      },
      "source": [
        "Inflections are different forms of the same words, such as singular and plural (like “person”\n",
        "and “people”) and different verb tenses (like “run” and “ran”). When you’re calculating word\n",
        "frequencies, you might first want to convert all inflected words to the same form for more\n",
        "accurate word frequencies. Words and WordLists each support converting words to their\n",
        "singular or plural forms.\n",
        "\n",
        "Let’s pluralize and singularize a couple of Word objects."
      ]
    },
    {
      "cell_type": "code",
      "metadata": {
        "id": "ct9A-t-uPc59",
        "colab_type": "code",
        "outputId": "1134c354-915f-4e44-8f70-1d33c50d806a",
        "colab": {
          "base_uri": "https://localhost:8080/",
          "height": 0
        }
      },
      "source": [
        "from textblob import Word\n",
        "\n",
        "index = Word('index')\n",
        "index"
      ],
      "execution_count": 28,
      "outputs": [
        {
          "output_type": "execute_result",
          "data": {
            "text/plain": [
              "'index'"
            ]
          },
          "metadata": {
            "tags": []
          },
          "execution_count": 28
        }
      ]
    },
    {
      "cell_type": "code",
      "metadata": {
        "id": "X4eAfmTMQnMx",
        "colab_type": "code",
        "outputId": "8a2b4d5e-ddac-4d17-8e51-16aa2015a08b",
        "colab": {
          "base_uri": "https://localhost:8080/",
          "height": 0
        }
      },
      "source": [
        "index.pluralize()"
      ],
      "execution_count": 29,
      "outputs": [
        {
          "output_type": "execute_result",
          "data": {
            "text/plain": [
              "'indices'"
            ]
          },
          "metadata": {
            "tags": []
          },
          "execution_count": 29
        }
      ]
    },
    {
      "cell_type": "code",
      "metadata": {
        "id": "m5EXnVOgQscO",
        "colab_type": "code",
        "colab": {}
      },
      "source": [
        "cacti = Word('cacti')"
      ],
      "execution_count": 0,
      "outputs": []
    },
    {
      "cell_type": "code",
      "metadata": {
        "id": "3vTFay82QyOG",
        "colab_type": "code",
        "outputId": "463c6ca6-55d0-4b0e-b78f-df2c89d928a6",
        "colab": {
          "base_uri": "https://localhost:8080/",
          "height": 0
        }
      },
      "source": [
        "cacti.singularize()"
      ],
      "execution_count": 31,
      "outputs": [
        {
          "output_type": "execute_result",
          "data": {
            "text/plain": [
              "'cactus'"
            ]
          },
          "metadata": {
            "tags": []
          },
          "execution_count": 31
        }
      ]
    },
    {
      "cell_type": "markdown",
      "metadata": {
        "id": "6BFCeuJ5Q5c-",
        "colab_type": "text"
      },
      "source": [
        "Pluralizing and singularizing are sophisticated tasks which, as you can see above, are not as\n",
        "simple as adding or removing an “s” or “es” at the end of a word."
      ]
    },
    {
      "cell_type": "code",
      "metadata": {
        "id": "oh5RCLaSQ0H3",
        "colab_type": "code",
        "colab": {}
      },
      "source": [
        "animals = TextBlob('dog cat fish bird').words"
      ],
      "execution_count": 0,
      "outputs": []
    },
    {
      "cell_type": "code",
      "metadata": {
        "id": "S3aSQ11sT_RM",
        "colab_type": "code",
        "outputId": "c3529edc-880a-413a-89e7-0ce507293137",
        "colab": {
          "base_uri": "https://localhost:8080/",
          "height": 0
        }
      },
      "source": [
        "animals.pluralize()"
      ],
      "execution_count": 33,
      "outputs": [
        {
          "output_type": "execute_result",
          "data": {
            "text/plain": [
              "WordList(['dogs', 'cats', 'fish', 'birds'])"
            ]
          },
          "metadata": {
            "tags": []
          },
          "execution_count": 33
        }
      ]
    },
    {
      "cell_type": "markdown",
      "metadata": {
        "id": "29iO3Cz6UGni",
        "colab_type": "text"
      },
      "source": [
        "## Spell Checking and Correction"
      ]
    },
    {
      "cell_type": "markdown",
      "metadata": {
        "id": "Pb2LfKVnUHiA",
        "colab_type": "text"
      },
      "source": [
        "You can check a Word’s spelling with its spellcheck method, which returns a list of tuples\n",
        "containing possible correct spellings and a confidence value. Let’s assume we meant to type\n",
        "the word “they” but we misspelled it as “theyr.” The spell checking results show two possible\n",
        "corrections with the word 'they' having the highest confidence value:"
      ]
    },
    {
      "cell_type": "code",
      "metadata": {
        "id": "YnCkY2LKUB8L",
        "colab_type": "code",
        "colab": {
          "base_uri": "https://localhost:8080/",
          "height": 35
        },
        "outputId": "1a3d0dbc-1e6c-495e-8219-f75e32e8ddeb"
      },
      "source": [
        "%precision 2\n",
        "'%.2f'"
      ],
      "execution_count": 34,
      "outputs": [
        {
          "output_type": "execute_result",
          "data": {
            "text/plain": [
              "'%.2f'"
            ]
          },
          "metadata": {
            "tags": []
          },
          "execution_count": 34
        }
      ]
    },
    {
      "cell_type": "code",
      "metadata": {
        "id": "we9r9YrbAvjL",
        "colab_type": "code",
        "colab": {
          "base_uri": "https://localhost:8080/",
          "height": 35
        },
        "outputId": "4d4e560f-0640-4fbb-a3c8-e46a954bdb27"
      },
      "source": [
        "word = Word('theyr')\n",
        "word.spellcheck()"
      ],
      "execution_count": 36,
      "outputs": [
        {
          "output_type": "execute_result",
          "data": {
            "text/plain": [
              "[('they', 0.57), ('their', 0.43)]"
            ]
          },
          "metadata": {
            "tags": []
          },
          "execution_count": 36
        }
      ]
    },
    {
      "cell_type": "markdown",
      "metadata": {
        "id": "RP_HH_KGBEiG",
        "colab_type": "text"
      },
      "source": [
        "TextBlobs, Sentences and Words all have a correct method that you can call to correct\n",
        "spelling. Calling correct on a Word returns the correctly spelled word that has the highest\n",
        "confidence value (as returned by spellcheck):"
      ]
    },
    {
      "cell_type": "code",
      "metadata": {
        "id": "a0F4gb9QA0k6",
        "colab_type": "code",
        "colab": {
          "base_uri": "https://localhost:8080/",
          "height": 35
        },
        "outputId": "deb4d14f-d5dc-4ab7-d92d-63820a9c1819"
      },
      "source": [
        "# chooses word with the highest confidence value\n",
        "word.correct()"
      ],
      "execution_count": 37,
      "outputs": [
        {
          "output_type": "execute_result",
          "data": {
            "text/plain": [
              "'they'"
            ]
          },
          "metadata": {
            "tags": []
          },
          "execution_count": 37
        }
      ]
    },
    {
      "cell_type": "markdown",
      "metadata": {
        "id": "EQJVc7_rBSBp",
        "colab_type": "text"
      },
      "source": [
        "Calling correct on a TextBlob or Sentence checks the spelling of each word. For each\n",
        "incorrect word, correct replaces it with the correctly spelled one that has the highest\n",
        "confidence value:"
      ]
    },
    {
      "cell_type": "code",
      "metadata": {
        "id": "sRz0wqJRBHlU",
        "colab_type": "code",
        "colab": {
          "base_uri": "https://localhost:8080/",
          "height": 35
        },
        "outputId": "914138b9-c6f5-481f-9aa3-edf0af35bf12"
      },
      "source": [
        "sentence = TextBlob('Ths sentense has missplled wrds.')\n",
        "sentence.correct()"
      ],
      "execution_count": 38,
      "outputs": [
        {
          "output_type": "execute_result",
          "data": {
            "text/plain": [
              "TextBlob(\"The sentence has misspelled words.\")"
            ]
          },
          "metadata": {
            "tags": []
          },
          "execution_count": 38
        }
      ]
    },
    {
      "cell_type": "markdown",
      "metadata": {
        "id": "EA95QoS7BlF7",
        "colab_type": "text"
      },
      "source": [
        "## Normalization: Stemming and Lemmatization"
      ]
    },
    {
      "cell_type": "markdown",
      "metadata": {
        "id": "7KhEFrNFBl9p",
        "colab_type": "text"
      },
      "source": [
        "Stemming removes a prefix or suffix from a word leaving only a stem, which may or may\n",
        "not be a real word. Lemmatization is similar, but factors in the word’s part of speech and\n",
        "meaning and results in a real word.\n",
        "\n",
        "Stemming and lemmatization are normalization operations, in which you prepare words\n",
        "for analysis. \n",
        "\n",
        "For example, before calculating statistics on words in a body of text, you might\n",
        "convert all words to lowercase so that capitalized and lowercase words are not treated\n",
        "differently. Sometimes, you might want to use a word’s root to represent the word’s many\n",
        "forms. \n",
        "\n",
        "For example, in a given application, you might want to treat all of the following words\n",
        "as “program”: program, programs, programmer, programming and programmed.\n",
        "\n",
        "Words and WordLists each support stemming and lemmatization via the methods stem and\n",
        "lemmatize. Let’s use both on a Word:"
      ]
    },
    {
      "cell_type": "code",
      "metadata": {
        "id": "FkAPu6_6BcIw",
        "colab_type": "code",
        "colab": {
          "base_uri": "https://localhost:8080/",
          "height": 35
        },
        "outputId": "31019e16-63e8-4f67-d143-d623a68bf0fa"
      },
      "source": [
        "word = Word('varieties')\n",
        "word.stem()"
      ],
      "execution_count": 39,
      "outputs": [
        {
          "output_type": "execute_result",
          "data": {
            "text/plain": [
              "'varieti'"
            ]
          },
          "metadata": {
            "tags": []
          },
          "execution_count": 39
        }
      ]
    },
    {
      "cell_type": "code",
      "metadata": {
        "id": "ZkovqMxJCIAU",
        "colab_type": "code",
        "colab": {
          "base_uri": "https://localhost:8080/",
          "height": 35
        },
        "outputId": "af59616d-df93-468a-976c-79e4864d3a1f"
      },
      "source": [
        "word.lemmatize()"
      ],
      "execution_count": 40,
      "outputs": [
        {
          "output_type": "execute_result",
          "data": {
            "text/plain": [
              "'variety'"
            ]
          },
          "metadata": {
            "tags": []
          },
          "execution_count": 40
        }
      ]
    },
    {
      "cell_type": "markdown",
      "metadata": {
        "id": "LD0KCFaOCat-",
        "colab_type": "text"
      },
      "source": [
        "## Word Frequencies"
      ]
    },
    {
      "cell_type": "markdown",
      "metadata": {
        "id": "eFSXlK1PCbsN",
        "colab_type": "text"
      },
      "source": [
        "Various techniques for detecting similarity between documents rely on word frequencies. As\n",
        "you’ll see here, TextBlob automatically counts word frequencies. \n",
        "\n",
        "First, let’s load the ebook\n",
        "for Shakespeare’s Romeo and Juliet into a TextBlob. To do so, we’ll use the Path class\n",
        "from the Python Standard Library’s pathlib module:"
      ]
    },
    {
      "cell_type": "code",
      "metadata": {
        "id": "nRFJ5S7qCL-A",
        "colab_type": "code",
        "colab": {
          "base_uri": "https://localhost:8080/",
          "height": 35
        },
        "outputId": "45888f78-7c50-4010-c770-c8ea26bb7102"
      },
      "source": [
        "import sys  \n",
        "from importlib import reload\n",
        "reload(sys)  \n",
        "sys.getdefaultencoding() # use this for Python3\n",
        "\n",
        "url ='romeo-and-juliet.txt'\n",
        "file=open(url)\n",
        "t=file.read()\n",
        "print(type(t))\n",
        "\n",
        "blob = TextBlob(t)"
      ],
      "execution_count": 51,
      "outputs": [
        {
          "output_type": "stream",
          "text": [
            "<class 'str'>\n"
          ],
          "name": "stdout"
        }
      ]
    },
    {
      "cell_type": "markdown",
      "metadata": {
        "id": "tJM0GTg-D76C",
        "colab_type": "text"
      },
      "source": [
        "You can access the word frequencies through the TextBlob’s word_counts dictionary.\n",
        "Let’s get the counts of several words in the play:"
      ]
    },
    {
      "cell_type": "code",
      "metadata": {
        "id": "fg8Y8nbXC2pG",
        "colab_type": "code",
        "colab": {
          "base_uri": "https://localhost:8080/",
          "height": 35
        },
        "outputId": "3b3ae0d2-2881-48aa-e051-86e620e9578a"
      },
      "source": [
        "blob.word_counts['juliet']"
      ],
      "execution_count": 52,
      "outputs": [
        {
          "output_type": "execute_result",
          "data": {
            "text/plain": [
              "68"
            ]
          },
          "metadata": {
            "tags": []
          },
          "execution_count": 52
        }
      ]
    },
    {
      "cell_type": "code",
      "metadata": {
        "id": "IenxTzKMEB_R",
        "colab_type": "code",
        "colab": {
          "base_uri": "https://localhost:8080/",
          "height": 35
        },
        "outputId": "01ca4121-eadf-4900-98a5-96b11ae14565"
      },
      "source": [
        "blob.word_counts['romeo']"
      ],
      "execution_count": 53,
      "outputs": [
        {
          "output_type": "execute_result",
          "data": {
            "text/plain": [
              "158"
            ]
          },
          "metadata": {
            "tags": []
          },
          "execution_count": 53
        }
      ]
    },
    {
      "cell_type": "code",
      "metadata": {
        "id": "PeX1StP6Fjtk",
        "colab_type": "code",
        "colab": {
          "base_uri": "https://localhost:8080/",
          "height": 35
        },
        "outputId": "84461247-a49f-4baa-8e41-4c5d3a0c4a26"
      },
      "source": [
        "blob.word_counts['thou']"
      ],
      "execution_count": 54,
      "outputs": [
        {
          "output_type": "execute_result",
          "data": {
            "text/plain": [
              "278"
            ]
          },
          "metadata": {
            "tags": []
          },
          "execution_count": 54
        }
      ]
    },
    {
      "cell_type": "markdown",
      "metadata": {
        "id": "x_4M2Dk-Fvf5",
        "colab_type": "text"
      },
      "source": [
        "If you already have tokenized a TextBlob into a WordList, you can count specific words in\n",
        "the list via the count method:"
      ]
    },
    {
      "cell_type": "code",
      "metadata": {
        "id": "wA7WudCBFnzb",
        "colab_type": "code",
        "colab": {
          "base_uri": "https://localhost:8080/",
          "height": 35
        },
        "outputId": "8f640fa1-c7a6-4785-87b8-6105c852a27c"
      },
      "source": [
        "blob.words.count('joy')"
      ],
      "execution_count": 55,
      "outputs": [
        {
          "output_type": "execute_result",
          "data": {
            "text/plain": [
              "14"
            ]
          },
          "metadata": {
            "tags": []
          },
          "execution_count": 55
        }
      ]
    },
    {
      "cell_type": "code",
      "metadata": {
        "id": "9Cz8sROmF0CB",
        "colab_type": "code",
        "colab": {
          "base_uri": "https://localhost:8080/",
          "height": 35
        },
        "outputId": "4eea23f0-1699-4ae9-f255-5a9aa7b7b920"
      },
      "source": [
        "blob.noun_phrases.count('lady capulet')"
      ],
      "execution_count": 58,
      "outputs": [
        {
          "output_type": "execute_result",
          "data": {
            "text/plain": [
              "0"
            ]
          },
          "metadata": {
            "tags": []
          },
          "execution_count": 58
        }
      ]
    },
    {
      "cell_type": "markdown",
      "metadata": {
        "id": "bQqrhsqCGMGV",
        "colab_type": "text"
      },
      "source": [
        "## Getting Definitions, Synonyms and Antonyms from WordNet"
      ]
    },
    {
      "cell_type": "markdown",
      "metadata": {
        "id": "AQjO0KBGGM5O",
        "colab_type": "text"
      },
      "source": [
        "WordNet is a word database created by Princeton University. The TextBlob library uses\n",
        "the NLTK library’s WordNet interface, enabling you to look up word definitions, and get\n",
        "synonyms and antonyms."
      ]
    },
    {
      "cell_type": "code",
      "metadata": {
        "id": "k5ZSDIE6F5Xc",
        "colab_type": "code",
        "colab": {}
      },
      "source": [
        "happy = Word('happy')"
      ],
      "execution_count": 0,
      "outputs": []
    },
    {
      "cell_type": "markdown",
      "metadata": {
        "id": "BV8e02lCGeCg",
        "colab_type": "text"
      },
      "source": [
        "The Word class’s definitions property returns a list of all the word’s definitions in the\n",
        "WordNet database:"
      ]
    },
    {
      "cell_type": "code",
      "metadata": {
        "id": "Xi-4e7BoGa4l",
        "colab_type": "code",
        "colab": {
          "base_uri": "https://localhost:8080/",
          "height": 88
        },
        "outputId": "aabd2a3d-54d5-4274-ffc3-d737a8130d4a"
      },
      "source": [
        "# Getting Definitions\n",
        "happy.definitions"
      ],
      "execution_count": 60,
      "outputs": [
        {
          "output_type": "execute_result",
          "data": {
            "text/plain": [
              "['enjoying or showing or marked by joy or pleasure',\n",
              " 'marked by good fortune',\n",
              " 'eagerly disposed to act or to be of service',\n",
              " 'well expressed and to the point']"
            ]
          },
          "metadata": {
            "tags": []
          },
          "execution_count": 60
        }
      ]
    },
    {
      "cell_type": "markdown",
      "metadata": {
        "id": "SK-RGQGeGzQi",
        "colab_type": "text"
      },
      "source": [
        "You can get a Word’s synsets—that is, its sets of synonyms—via the synsets property."
      ]
    },
    {
      "cell_type": "code",
      "metadata": {
        "id": "f8khCwe1GgW0",
        "colab_type": "code",
        "colab": {
          "base_uri": "https://localhost:8080/",
          "height": 88
        },
        "outputId": "66359557-4d77-4071-b844-83164e57d2f0"
      },
      "source": [
        "# Getting Synonyms\n",
        "happy.synsets"
      ],
      "execution_count": 61,
      "outputs": [
        {
          "output_type": "execute_result",
          "data": {
            "text/plain": [
              "[Synset('happy.a.01'),\n",
              " Synset('felicitous.s.02'),\n",
              " Synset('glad.s.02'),\n",
              " Synset('happy.s.04')]"
            ]
          },
          "metadata": {
            "tags": []
          },
          "execution_count": 61
        }
      ]
    },
    {
      "cell_type": "markdown",
      "metadata": {
        "id": "4HhjkJWvHR_3",
        "colab_type": "text"
      },
      "source": [
        "You can iterate through the synsets list to find the original word’s synonyms. Each Synset\n",
        "has a lemmas method that returns a list of Lemma objects representing the synonyms. A\n",
        "Lemma’s name method returns the synonymous word as a string. \n",
        "\n",
        "In the following code, for\n",
        "each Synset in the synsets list, the nested for loop iterates through that Synset’s\n",
        "Lemmas (if any). Then we add the synonym to the set named synonyms. We used a set\n",
        "collection because it automatically eliminates any duplicates we add to it:"
      ]
    },
    {
      "cell_type": "code",
      "metadata": {
        "id": "Y0HUAoJjG39Y",
        "colab_type": "code",
        "colab": {
          "base_uri": "https://localhost:8080/",
          "height": 35
        },
        "outputId": "383e5d02-c3ad-46fb-8ff0-5d4651708fab"
      },
      "source": [
        "synonyms = set()\n",
        "\n",
        "for synset in happy.synsets:\n",
        "  for lemma in synset.lemmas():\n",
        "    synonyms.add(lemma.name())\n",
        "\n",
        "synonyms    "
      ],
      "execution_count": 63,
      "outputs": [
        {
          "output_type": "execute_result",
          "data": {
            "text/plain": [
              "{'felicitous', 'glad', 'happy', 'well-chosen'}"
            ]
          },
          "metadata": {
            "tags": []
          },
          "execution_count": 63
        }
      ]
    },
    {
      "cell_type": "markdown",
      "metadata": {
        "id": "x_z3mXwYH5Y1",
        "colab_type": "text"
      },
      "source": [
        "If the word represented by a Lemma has antonyms in the WordNet database, invoking the\n",
        "Lemma’s antonyms method returns a list of Lemmas representing the antonyms (or an empty\n",
        "list if there are no antonyms in the database)."
      ]
    },
    {
      "cell_type": "code",
      "metadata": {
        "id": "jKaLHQ9kHHUr",
        "colab_type": "code",
        "colab": {
          "base_uri": "https://localhost:8080/",
          "height": 35
        },
        "outputId": "ae82d9a9-9a01-482e-c919-4bd50c546b7d"
      },
      "source": [
        "# Getting Antonyms\n",
        "lemmas = happy.synsets[0].lemmas()\n",
        "lemmas"
      ],
      "execution_count": 64,
      "outputs": [
        {
          "output_type": "execute_result",
          "data": {
            "text/plain": [
              "[Lemma('happy.a.01.happy')]"
            ]
          },
          "metadata": {
            "tags": []
          },
          "execution_count": 64
        }
      ]
    },
    {
      "cell_type": "markdown",
      "metadata": {
        "id": "vFROOqzjIHwW",
        "colab_type": "text"
      },
      "source": [
        "In this case, lemmas returned a list of one Lemma element. We can now check whether the\n",
        "database has any corresponding antonyms for that Lemma:"
      ]
    },
    {
      "cell_type": "code",
      "metadata": {
        "id": "yYV5Ql7fIDjP",
        "colab_type": "code",
        "colab": {
          "base_uri": "https://localhost:8080/",
          "height": 35
        },
        "outputId": "434fd6cd-34b1-4c41-d00d-535cbb80cb59"
      },
      "source": [
        "lemmas[0].antonyms()"
      ],
      "execution_count": 65,
      "outputs": [
        {
          "output_type": "execute_result",
          "data": {
            "text/plain": [
              "[Lemma('unhappy.a.01.unhappy')]"
            ]
          },
          "metadata": {
            "tags": []
          },
          "execution_count": 65
        }
      ]
    },
    {
      "cell_type": "markdown",
      "metadata": {
        "id": "BrxqSMI4ITks",
        "colab_type": "text"
      },
      "source": [
        "The result is list of Lemmas representing the antonym(s). Here, we see that the one antonym\n",
        "for 'happy' in the database is 'unhappy'."
      ]
    },
    {
      "cell_type": "markdown",
      "metadata": {
        "id": "679pov80IUFV",
        "colab_type": "text"
      },
      "source": [
        "## Deleting Stop Words"
      ]
    },
    {
      "cell_type": "markdown",
      "metadata": {
        "id": "huPaY1-MIWeu",
        "colab_type": "text"
      },
      "source": [
        "Stop words are common words in text that are often removed from text before analyzing it\n",
        "because they typically do not provide useful information."
      ]
    },
    {
      "cell_type": "code",
      "metadata": {
        "id": "PJST42cPIOAB",
        "colab_type": "code",
        "colab": {}
      },
      "source": [
        "import nltk"
      ],
      "execution_count": 0,
      "outputs": []
    },
    {
      "cell_type": "code",
      "metadata": {
        "id": "A3YwjuR8InJ1",
        "colab_type": "code",
        "colab": {
          "base_uri": "https://localhost:8080/",
          "height": 70
        },
        "outputId": "2eb5621c-5db7-4c32-c093-9dae1f575521"
      },
      "source": [
        "nltk.download('stopwords')"
      ],
      "execution_count": 67,
      "outputs": [
        {
          "output_type": "stream",
          "text": [
            "[nltk_data] Downloading package stopwords to /root/nltk_data...\n",
            "[nltk_data]   Unzipping corpora/stopwords.zip.\n"
          ],
          "name": "stdout"
        },
        {
          "output_type": "execute_result",
          "data": {
            "text/plain": [
              "True"
            ]
          },
          "metadata": {
            "tags": []
          },
          "execution_count": 67
        }
      ]
    },
    {
      "cell_type": "markdown",
      "metadata": {
        "id": "Rq1-lguwIuQY",
        "colab_type": "text"
      },
      "source": [
        "First import stopwords from\n",
        "the nltk.corpus module, then use stopwords method words to load the 'english'\n",
        "stop words list:"
      ]
    },
    {
      "cell_type": "code",
      "metadata": {
        "id": "PFHqAsxfIpLQ",
        "colab_type": "code",
        "colab": {}
      },
      "source": [
        "from nltk.corpus import stopwords\n",
        "\n",
        "stops = stopwords.words('english')"
      ],
      "execution_count": 0,
      "outputs": []
    },
    {
      "cell_type": "code",
      "metadata": {
        "id": "i_UpORs5I1O7",
        "colab_type": "code",
        "colab": {}
      },
      "source": [
        "blob = TextBlob('Today is a beautiful day.')"
      ],
      "execution_count": 0,
      "outputs": []
    },
    {
      "cell_type": "code",
      "metadata": {
        "id": "PvhyaOMNI7Uh",
        "colab_type": "code",
        "colab": {
          "base_uri": "https://localhost:8080/",
          "height": 35
        },
        "outputId": "9a60a1cc-8f1c-4498-eccd-714522815f0d"
      },
      "source": [
        "[word for word in blob.words if word not in stops]"
      ],
      "execution_count": 70,
      "outputs": [
        {
          "output_type": "execute_result",
          "data": {
            "text/plain": [
              "['Today', 'beautiful', 'day']"
            ]
          },
          "metadata": {
            "tags": []
          },
          "execution_count": 70
        }
      ]
    },
    {
      "cell_type": "markdown",
      "metadata": {
        "id": "TixiJEF3JMNF",
        "colab_type": "text"
      },
      "source": [
        "## n-grams"
      ]
    },
    {
      "cell_type": "markdown",
      "metadata": {
        "id": "axzf9zXsJM5v",
        "colab_type": "text"
      },
      "source": [
        "An ngram is a sequence of n text items, such as letters in words or words in a sentence. In natural language processing, ngrams\n",
        "can be used to identify letters or words that frequently\n",
        "appear adjacent to one another.\n",
        "\n",
        "For text based user input, this can help predict the next\n",
        "letter or word a user will type—such as when completing items in IPython with tabcompletion\n",
        "or when entering a message to a friend in your favorite smartphone messaging\n",
        "app. \n",
        "\n",
        "For speech-to-text, ngrams\n",
        "might be used to improve the quality of the transcription.\n",
        "Ngrams are a form of cooccurrence\n",
        "in which words or letters appear near each other in a\n",
        "body of text."
      ]
    },
    {
      "cell_type": "code",
      "metadata": {
        "id": "FpIzWAZFJGK9",
        "colab_type": "code",
        "colab": {
          "base_uri": "https://localhost:8080/",
          "height": 159
        },
        "outputId": "072c822d-4b98-42e3-8d57-e24a802b09a7"
      },
      "source": [
        "text = 'Today is a beautiful day. Tomorrow looks like bad weather.'\n",
        "blob = TextBlob(text)\n",
        "blob.ngrams()"
      ],
      "execution_count": 71,
      "outputs": [
        {
          "output_type": "execute_result",
          "data": {
            "text/plain": [
              "[WordList(['Today', 'is', 'a']),\n",
              " WordList(['is', 'a', 'beautiful']),\n",
              " WordList(['a', 'beautiful', 'day']),\n",
              " WordList(['beautiful', 'day', 'Tomorrow']),\n",
              " WordList(['day', 'Tomorrow', 'looks']),\n",
              " WordList(['Tomorrow', 'looks', 'like']),\n",
              " WordList(['looks', 'like', 'bad']),\n",
              " WordList(['like', 'bad', 'weather'])]"
            ]
          },
          "metadata": {
            "tags": []
          },
          "execution_count": 71
        }
      ]
    },
    {
      "cell_type": "markdown",
      "metadata": {
        "id": "Zcy5UasmJ5Nf",
        "colab_type": "text"
      },
      "source": [
        "The following produces ngrams\n",
        "consisting of five words:"
      ]
    },
    {
      "cell_type": "code",
      "metadata": {
        "id": "6gWJ-HeCJx0Q",
        "colab_type": "code",
        "colab": {
          "base_uri": "https://localhost:8080/",
          "height": 124
        },
        "outputId": "c3c9beb0-99b4-4b53-ad98-46f8e3f014b3"
      },
      "source": [
        "blob.ngrams(n=5)"
      ],
      "execution_count": 72,
      "outputs": [
        {
          "output_type": "execute_result",
          "data": {
            "text/plain": [
              "[WordList(['Today', 'is', 'a', 'beautiful', 'day']),\n",
              " WordList(['is', 'a', 'beautiful', 'day', 'Tomorrow']),\n",
              " WordList(['a', 'beautiful', 'day', 'Tomorrow', 'looks']),\n",
              " WordList(['beautiful', 'day', 'Tomorrow', 'looks', 'like']),\n",
              " WordList(['day', 'Tomorrow', 'looks', 'like', 'bad']),\n",
              " WordList(['Tomorrow', 'looks', 'like', 'bad', 'weather'])]"
            ]
          },
          "metadata": {
            "tags": []
          },
          "execution_count": 72
        }
      ]
    },
    {
      "cell_type": "code",
      "metadata": {
        "id": "ZihFO53bJ9KE",
        "colab_type": "code",
        "colab": {}
      },
      "source": [
        ""
      ],
      "execution_count": 0,
      "outputs": []
    }
  ]
}