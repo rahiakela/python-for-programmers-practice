{
  "nbformat": 4,
  "nbformat_minor": 0,
  "metadata": {
    "colab": {
      "name": "text-blob-demo.ipynb",
      "provenance": [],
      "toc_visible": true,
      "include_colab_link": true
    },
    "kernelspec": {
      "name": "python3",
      "display_name": "Python 3"
    }
  },
  "cells": [
    {
      "cell_type": "markdown",
      "metadata": {
        "id": "view-in-github",
        "colab_type": "text"
      },
      "source": [
        "<a href=\"https://colab.research.google.com/github/rahiakela/python-for-programmers-practice/blob/natural-language-processing/text_blob_demo.ipynb\" target=\"_parent\"><img src=\"https://colab.research.google.com/assets/colab-badge.svg\" alt=\"Open In Colab\"/></a>"
      ]
    },
    {
      "cell_type": "markdown",
      "metadata": {
        "id": "VmQVnQim3q3i",
        "colab_type": "text"
      },
      "source": [
        "# TextBlob"
      ]
    },
    {
      "cell_type": "markdown",
      "metadata": {
        "id": "8_tuqLQ73sW2",
        "colab_type": "text"
      },
      "source": [
        "TextBlob is an objectoriented NLP textprocessing library that is built on the NLTK and pattern NLP libraries and simplifies many of their capabilities. Some of the NLP tasks TextBlob can perform include:\n",
        "\n",
        "* **Tokenization**—splitting text into pieces called tokens, which are meaningful units, such as words and numbers.\n",
        "* **Partsofspeech (POS) tagging**—identifying each word’s part of speech, such as noun, verb, adjective, etc.\n",
        "* **Noun phrase extraction**—locating groups of words that represent nouns, such as “red brick factory.”\n",
        "* **Sentiment analysis**—determining whether text has positive, neutral or negative sentiment.\n",
        "* **Inter-language translation and language detection** powered by Google Translate.\n",
        "* **Inflection** —pluralizing and singularizing words. There are other aspects of inflection that are not part of TextBlob.\n",
        "* **Spell checking and spelling correction**.\n",
        "* **Stemming**—reducing words to their stems by removing prefixes or suffixes. For example, the stem of “varieties” is “varieti.”\n",
        "* **Lemmatization**—like stemming, but produces real words based on the original words’ context. For example, the lemmatized form of “varieties” is “variety.”\n",
        "* **Word frequencies**—determining how often each word appears in a corpus.\n",
        "* **WordNet integration** for finding word definitions, synonyms and antonyms.\n",
        "* **Stop word elimination**—removing common words, such as a, an, the, I, we, you and more to analyze the important words in a corpus.\n",
        "* **ngrams**— producing sets of consecutive words in a corpus for use in identifying words that frequently appear adjacent to one another."
      ]
    },
    {
      "cell_type": "markdown",
      "metadata": {
        "id": "L7XAiqTx6sbo",
        "colab_type": "text"
      },
      "source": [
        "## Setup"
      ]
    },
    {
      "cell_type": "markdown",
      "metadata": {
        "id": "EkMDuKJj6vMB",
        "colab_type": "text"
      },
      "source": [
        "Now download the NLTK corpora used by TextBlob:"
      ]
    },
    {
      "cell_type": "code",
      "metadata": {
        "id": "BC-NTz-03RXa",
        "colab_type": "code",
        "outputId": "0e9560f4-0b9b-44f3-eed6-bbf7ac92f20f",
        "colab": {
          "base_uri": "https://localhost:8080/",
          "height": 266
        }
      },
      "source": [
        "import textblob\n",
        "from textblob import TextBlob\n",
        "\n",
        "!python -m textblob.download_corpora"
      ],
      "execution_count": 1,
      "outputs": [
        {
          "output_type": "stream",
          "text": [
            "[nltk_data] Downloading package brown to /root/nltk_data...\n",
            "[nltk_data]   Unzipping corpora/brown.zip.\n",
            "[nltk_data] Downloading package punkt to /root/nltk_data...\n",
            "[nltk_data]   Unzipping tokenizers/punkt.zip.\n",
            "[nltk_data] Downloading package wordnet to /root/nltk_data...\n",
            "[nltk_data]   Unzipping corpora/wordnet.zip.\n",
            "[nltk_data] Downloading package averaged_perceptron_tagger to\n",
            "[nltk_data]     /root/nltk_data...\n",
            "[nltk_data]   Unzipping taggers/averaged_perceptron_tagger.zip.\n",
            "[nltk_data] Downloading package conll2000 to /root/nltk_data...\n",
            "[nltk_data]   Unzipping corpora/conll2000.zip.\n",
            "[nltk_data] Downloading package movie_reviews to /root/nltk_data...\n",
            "[nltk_data]   Unzipping corpora/movie_reviews.zip.\n",
            "Finished.\n"
          ],
          "name": "stdout"
        }
      ]
    },
    {
      "cell_type": "markdown",
      "metadata": {
        "id": "3rQYAnqK6ZCQ",
        "colab_type": "text"
      },
      "source": [
        "## Create a TextBlob"
      ]
    },
    {
      "cell_type": "markdown",
      "metadata": {
        "id": "Uge1r35g6aHB",
        "colab_type": "text"
      },
      "source": [
        "TextBlob is the fundamental class for NLP with the textblob module. Let’s create a TextBlob containing two sentences:"
      ]
    },
    {
      "cell_type": "code",
      "metadata": {
        "id": "ufbhPGDL5g44",
        "colab_type": "code",
        "outputId": "a63c2c19-b88a-4bab-dfc3-a188864976e4",
        "colab": {
          "base_uri": "https://localhost:8080/",
          "height": 35
        }
      },
      "source": [
        "text = 'Today is a beautiful day. Tomorrow looks like bad weather.'\n",
        "\n",
        "blob = TextBlob(text)\n",
        "blob"
      ],
      "execution_count": 2,
      "outputs": [
        {
          "output_type": "execute_result",
          "data": {
            "text/plain": [
              "TextBlob(\"Today is a beautiful day. Tomorrow looks like bad weather.\")"
            ]
          },
          "metadata": {
            "tags": []
          },
          "execution_count": 2
        }
      ]
    },
    {
      "cell_type": "markdown",
      "metadata": {
        "id": "FNzIhKOd6x9K",
        "colab_type": "text"
      },
      "source": [
        "## Tokenizing Text into Sentences and Words"
      ]
    },
    {
      "cell_type": "markdown",
      "metadata": {
        "id": "uPcCA9416zxm",
        "colab_type": "text"
      },
      "source": [
        "Natural language processing often requires tokenizing text before performing other NLP tasks. TextBlob provides convenient properties for accessing the sentences and words in TextBlobs. \n",
        "\n",
        "Let’s use the sentence property to get a list of Sentence objects:"
      ]
    },
    {
      "cell_type": "code",
      "metadata": {
        "id": "nVb9o8cf6fW3",
        "colab_type": "code",
        "outputId": "720af531-c734-47db-db3a-210cc53b5d27",
        "colab": {
          "base_uri": "https://localhost:8080/",
          "height": 52
        }
      },
      "source": [
        "blob.sentences"
      ],
      "execution_count": 3,
      "outputs": [
        {
          "output_type": "execute_result",
          "data": {
            "text/plain": [
              "[Sentence(\"Today is a beautiful day.\"),\n",
              " Sentence(\"Tomorrow looks like bad weather.\")]"
            ]
          },
          "metadata": {
            "tags": []
          },
          "execution_count": 3
        }
      ]
    },
    {
      "cell_type": "markdown",
      "metadata": {
        "id": "pA3g53E67LUE",
        "colab_type": "text"
      },
      "source": [
        "The words property returns a WordList object containing a list of Word objects,\n",
        "representing each word in the TextBlob with the punctuation removed:"
      ]
    },
    {
      "cell_type": "code",
      "metadata": {
        "id": "eJfrWIGG7Ekh",
        "colab_type": "code",
        "outputId": "ff2d1df0-2053-4051-d534-74997e9c262d",
        "colab": {
          "base_uri": "https://localhost:8080/",
          "height": 35
        }
      },
      "source": [
        "blob.words"
      ],
      "execution_count": 4,
      "outputs": [
        {
          "output_type": "execute_result",
          "data": {
            "text/plain": [
              "WordList(['Today', 'is', 'a', 'beautiful', 'day', 'Tomorrow', 'looks', 'like', 'bad', 'weather'])"
            ]
          },
          "metadata": {
            "tags": []
          },
          "execution_count": 4
        }
      ]
    },
    {
      "cell_type": "code",
      "metadata": {
        "id": "P4zcs9B77O1x",
        "colab_type": "code",
        "outputId": "c44fdaf4-8842-4751-9276-7934fd9d51ce",
        "colab": {
          "base_uri": "https://localhost:8080/",
          "height": 212
        }
      },
      "source": [
        "# get every word count\n",
        "blob.word_counts"
      ],
      "execution_count": 5,
      "outputs": [
        {
          "output_type": "execute_result",
          "data": {
            "text/plain": [
              "defaultdict(int,\n",
              "            {'a': 1,\n",
              "             'bad': 1,\n",
              "             'beautiful': 1,\n",
              "             'day': 1,\n",
              "             'is': 1,\n",
              "             'like': 1,\n",
              "             'looks': 1,\n",
              "             'today': 1,\n",
              "             'tomorrow': 1,\n",
              "             'weather': 1})"
            ]
          },
          "metadata": {
            "tags": []
          },
          "execution_count": 5
        }
      ]
    },
    {
      "cell_type": "markdown",
      "metadata": {
        "id": "tBSryTDg7mw0",
        "colab_type": "text"
      },
      "source": [
        "## Parts-of-Speech Tagging"
      ]
    },
    {
      "cell_type": "markdown",
      "metadata": {
        "id": "MnfQ1mAX7nwa",
        "colab_type": "text"
      },
      "source": [
        "Partsofspeech (POS) tagging is the process of evaluating words based on their context to determine each word’s part of speech. There are eight primary English parts of speech— nouns, pronouns, verbs, adjectives, adverbs,prepositions, conjunctions and interjections (words that express emotion and that are typically followed by punctuation, like “Yes!” or “Ha!”). Within each category there are many subcategories.\n",
        "\n",
        "The tags property returns a list of tuples, each containing a word and a string representing its part-of-speech tag:"
      ]
    },
    {
      "cell_type": "code",
      "metadata": {
        "id": "F2wGVYLI7cFA",
        "colab_type": "code",
        "outputId": "f477adf5-523a-4375-93ed-cdd982724c54",
        "colab": {
          "base_uri": "https://localhost:8080/",
          "height": 195
        }
      },
      "source": [
        "blob.tags"
      ],
      "execution_count": 6,
      "outputs": [
        {
          "output_type": "execute_result",
          "data": {
            "text/plain": [
              "[('Today', 'NN'),\n",
              " ('is', 'VBZ'),\n",
              " ('a', 'DT'),\n",
              " ('beautiful', 'JJ'),\n",
              " ('day', 'NN'),\n",
              " ('Tomorrow', 'NNP'),\n",
              " ('looks', 'VBZ'),\n",
              " ('like', 'IN'),\n",
              " ('bad', 'JJ'),\n",
              " ('weather', 'NN')]"
            ]
          },
          "metadata": {
            "tags": []
          },
          "execution_count": 6
        }
      ]
    },
    {
      "cell_type": "markdown",
      "metadata": {
        "id": "7lLw_VL18OGi",
        "colab_type": "text"
      },
      "source": [
        "Explanation:\n",
        "* **Today**, day and weather are tagged as NN—a singular noun or mass noun.\n",
        "* **is** and looks are tagged as VBZ—a third person singular present verb.\n",
        "* **a** is tagged as DT—a determiner.\n",
        "* **beautiful** and bad are tagged as JJ—an adjective.\n",
        "* **Tomorrow** is tagged as NNP—a proper singular noun.\n",
        "* **like** is tagged as IN—a subordinating conjunction or preposition.\n",
        "\n",
        "By default, TextBlob uses a PatternTagger to determine parts-of-speech.\n",
        "This class uses the partsofspeech tagging capabilities of the pattern library:"
      ]
    },
    {
      "cell_type": "markdown",
      "metadata": {
        "id": "9h9RZp9x9zQX",
        "colab_type": "text"
      },
      "source": [
        "## Extracting Noun Phrases"
      ]
    },
    {
      "cell_type": "markdown",
      "metadata": {
        "id": "-rjjMLRY90Oz",
        "colab_type": "text"
      },
      "source": [
        "A TextBlob’s noun_phrases property returns a WordList object containing a list of Word objects—one for each noun phrase in the text:"
      ]
    },
    {
      "cell_type": "code",
      "metadata": {
        "id": "6AgZm-V18Evh",
        "colab_type": "code",
        "outputId": "bca2a03b-a8ee-4d41-8699-98f39b9c3c5f",
        "colab": {
          "base_uri": "https://localhost:8080/",
          "height": 35
        }
      },
      "source": [
        "blob.noun_phrases"
      ],
      "execution_count": 7,
      "outputs": [
        {
          "output_type": "execute_result",
          "data": {
            "text/plain": [
              "WordList(['beautiful day', 'tomorrow', 'bad weather'])"
            ]
          },
          "metadata": {
            "tags": []
          },
          "execution_count": 7
        }
      ]
    },
    {
      "cell_type": "markdown",
      "metadata": {
        "id": "xTMUylK9-Rys",
        "colab_type": "text"
      },
      "source": [
        "Note that a Word representing a noun phrase can contain multiple words. A WordList is an extension of Python’s builtin list type. WordLists provide additional methods for stemming, lemmatizing, singularizing and pluralizing."
      ]
    },
    {
      "cell_type": "code",
      "metadata": {
        "id": "9HAY77v3-GaP",
        "colab_type": "code",
        "outputId": "85c22266-0040-4f6c-ecfe-1e5e4a85d1ed",
        "colab": {
          "base_uri": "https://localhost:8080/",
          "height": 35
        }
      },
      "source": [
        "blob.tokens"
      ],
      "execution_count": 8,
      "outputs": [
        {
          "output_type": "execute_result",
          "data": {
            "text/plain": [
              "WordList(['Today', 'is', 'a', 'beautiful', 'day', '.', 'Tomorrow', 'looks', 'like', 'bad', 'weather', '.'])"
            ]
          },
          "metadata": {
            "tags": []
          },
          "execution_count": 8
        }
      ]
    },
    {
      "cell_type": "markdown",
      "metadata": {
        "id": "E0Ii5RHCEurH",
        "colab_type": "text"
      },
      "source": [
        "## Sentiment Analysis with TextBlob’s Default Sentiment Analyzer"
      ]
    },
    {
      "cell_type": "markdown",
      "metadata": {
        "id": "YH_siSuYEx9I",
        "colab_type": "text"
      },
      "source": [
        "One of the most common and valuable NLP tasks is sentiment analysis, which determines whether text is positive, neutral or negative. For instance, companies might use this to determine whether people are speaking positively or negatively online about their products. \n",
        "\n",
        "Consider the positive word “good” and the negative word “bad.” Just because a sentence contains “good” or “bad” does not mean the sentence’s sentiment necessarily is positive or negative. \n",
        "\n",
        "For example, the sentence--\n",
        "The food is not good.\n",
        "clearly has negative sentiment. \n",
        "\n",
        "Similarly, the sentence--The movie was not bad.\n",
        "\n",
        "clearly has positive sentiment, though perhaps not as positive as something like\n",
        "\n",
        "The movie was excellent!\n",
        "\n",
        "Sentiment analysis is a complex machinelearning problem. However, libraries like TextBlob have pretrained machine learning models for performing sentiment analysis."
      ]
    },
    {
      "cell_type": "markdown",
      "metadata": {
        "id": "HT5N_QT7F7Fl",
        "colab_type": "text"
      },
      "source": [
        "### Getting the Sentiment of a TextBlob"
      ]
    },
    {
      "cell_type": "markdown",
      "metadata": {
        "id": "YonI9OlfF8Ne",
        "colab_type": "text"
      },
      "source": [
        "A TextBlob’s sentiment property returns a Sentiment object indicating whether the text is positive or negative and whether it’s objective or subjective:"
      ]
    },
    {
      "cell_type": "code",
      "metadata": {
        "id": "_HEy0WyX-cY9",
        "colab_type": "code",
        "outputId": "ff6d9865-b904-4fec-ce14-40022d3141bb",
        "colab": {
          "base_uri": "https://localhost:8080/",
          "height": 35
        }
      },
      "source": [
        "blob"
      ],
      "execution_count": 9,
      "outputs": [
        {
          "output_type": "execute_result",
          "data": {
            "text/plain": [
              "TextBlob(\"Today is a beautiful day. Tomorrow looks like bad weather.\")"
            ]
          },
          "metadata": {
            "tags": []
          },
          "execution_count": 9
        }
      ]
    },
    {
      "cell_type": "code",
      "metadata": {
        "id": "fzzVvT3HGJg7",
        "colab_type": "code",
        "outputId": "843fa573-7d57-40e6-edbe-0f6efa4d5026",
        "colab": {
          "base_uri": "https://localhost:8080/",
          "height": 35
        }
      },
      "source": [
        "blob.sentiment"
      ],
      "execution_count": 10,
      "outputs": [
        {
          "output_type": "execute_result",
          "data": {
            "text/plain": [
              "Sentiment(polarity=0.07500000000000007, subjectivity=0.8333333333333333)"
            ]
          },
          "metadata": {
            "tags": []
          },
          "execution_count": 10
        }
      ]
    },
    {
      "cell_type": "markdown",
      "metadata": {
        "id": "k8S0MHZDGqFz",
        "colab_type": "text"
      },
      "source": [
        "the polarity indicates sentiment with a value from 1.0 (negative) to 1.0 (positive) with 0.0 being neutral. The subjectivity is a value from 0.0(objective) to 1.0 (subjective). Based on the values for our TextBlob, the overall sentiment is close to neutral, and the text is mostly subjective."
      ]
    },
    {
      "cell_type": "markdown",
      "metadata": {
        "id": "YqLRpMW6GxOX",
        "colab_type": "text"
      },
      "source": [
        "### Getting the polarity and subjectivity from the Sentiment Object"
      ]
    },
    {
      "cell_type": "markdown",
      "metadata": {
        "id": "y4ASzgY3GyRf",
        "colab_type": "text"
      },
      "source": [
        "The values displayed above probably provide more precision that you need in most cases.\n",
        "\n",
        "This can detract from numeric output’s readability. The IPython magic %precision allows you to specify the default precision for standalone float objects and float objects in builtin types like lists, dictionaries and tuples."
      ]
    },
    {
      "cell_type": "code",
      "metadata": {
        "id": "TVivM_FHGMzg",
        "colab_type": "code",
        "outputId": "9aeea45c-cc19-4f8d-fc04-84bf72cb6b83",
        "colab": {
          "base_uri": "https://localhost:8080/",
          "height": 35
        }
      },
      "source": [
        "%precision 3\n",
        "\n",
        "blob.sentiment.polarity"
      ],
      "execution_count": 11,
      "outputs": [
        {
          "output_type": "execute_result",
          "data": {
            "text/plain": [
              "0.075"
            ]
          },
          "metadata": {
            "tags": []
          },
          "execution_count": 11
        }
      ]
    },
    {
      "cell_type": "code",
      "metadata": {
        "id": "YYdPmhN8HV4t",
        "colab_type": "code",
        "outputId": "a4884e82-26ac-44c1-c971-a44bf7d2afe4",
        "colab": {
          "base_uri": "https://localhost:8080/",
          "height": 35
        }
      },
      "source": [
        "blob.sentiment.subjectivity"
      ],
      "execution_count": 12,
      "outputs": [
        {
          "output_type": "execute_result",
          "data": {
            "text/plain": [
              "0.833"
            ]
          },
          "metadata": {
            "tags": []
          },
          "execution_count": 12
        }
      ]
    },
    {
      "cell_type": "markdown",
      "metadata": {
        "id": "seRzZ154HvMd",
        "colab_type": "text"
      },
      "source": [
        "### Getting the Sentiment of a Sentence"
      ]
    },
    {
      "cell_type": "markdown",
      "metadata": {
        "id": "wJ6IbV5RHwHf",
        "colab_type": "text"
      },
      "source": [
        "You also can get the sentiment at the individual sentence level. \n",
        "\n",
        "Let’s use the sentence property to get a list of Sentence objects, then iterate through them and display each Sentence’s sentiment property:"
      ]
    },
    {
      "cell_type": "code",
      "metadata": {
        "id": "d9F23kwRHZbV",
        "colab_type": "code",
        "outputId": "5bf4d739-8921-438f-c364-b6a327b73557",
        "colab": {
          "base_uri": "https://localhost:8080/",
          "height": 52
        }
      },
      "source": [
        "for sentence in blob.sentences:\n",
        "  print(sentence.sentiment)"
      ],
      "execution_count": 13,
      "outputs": [
        {
          "output_type": "stream",
          "text": [
            "Sentiment(polarity=0.85, subjectivity=1.0)\n",
            "Sentiment(polarity=-0.6999999999999998, subjectivity=0.6666666666666666)\n"
          ],
          "name": "stdout"
        }
      ]
    },
    {
      "cell_type": "markdown",
      "metadata": {
        "id": "nDc7d9b_Igdu",
        "colab_type": "text"
      },
      "source": [
        "This might explain why the entire TextBlob’s sentiment is close to 0.0 (neutral)—one sentence is positive (0.85) and the other negative (0.6999999999999998)."
      ]
    },
    {
      "cell_type": "markdown",
      "metadata": {
        "id": "YqYP-MKbIlgK",
        "colab_type": "text"
      },
      "source": [
        "## Sentiment Analysis with the NaiveBayesAnalyzer"
      ]
    },
    {
      "cell_type": "markdown",
      "metadata": {
        "id": "1Y7u253FImqJ",
        "colab_type": "text"
      },
      "source": [
        "By default, a TextBlob and the Sentences and Words you get from it determine sentiment using a PatternAnalyzer, which uses the same sentiment analysis techniques as in the Pattern library. \n",
        "\n",
        "The TextBlob library also comes with a NaiveBayesAnalyzer which was trained on a database of movie reviews. Naive Bayes is a commonly used machine learning text classification algorithm."
      ]
    },
    {
      "cell_type": "code",
      "metadata": {
        "id": "dF5Ci4FtIRzH",
        "colab_type": "code",
        "outputId": "1509c178-3357-44eb-a738-e09b1b200224",
        "colab": {
          "base_uri": "https://localhost:8080/",
          "height": 35
        }
      },
      "source": [
        "from textblob.sentiments import NaiveBayesAnalyzer\n",
        "\n",
        "blob = TextBlob(text, analyzer=NaiveBayesAnalyzer())\n",
        "blob"
      ],
      "execution_count": 14,
      "outputs": [
        {
          "output_type": "execute_result",
          "data": {
            "text/plain": [
              "TextBlob(\"Today is a beautiful day. Tomorrow looks like bad weather.\")"
            ]
          },
          "metadata": {
            "tags": []
          },
          "execution_count": 14
        }
      ]
    },
    {
      "cell_type": "code",
      "metadata": {
        "id": "-vfcaLlEJar2",
        "colab_type": "code",
        "outputId": "c80cde5a-6989-42ff-fea3-18a2262ab2d6",
        "colab": {
          "base_uri": "https://localhost:8080/",
          "height": 35
        }
      },
      "source": [
        "blob.sentiment"
      ],
      "execution_count": 15,
      "outputs": [
        {
          "output_type": "execute_result",
          "data": {
            "text/plain": [
              "Sentiment(classification='neg', p_pos=0.47662917962091056, p_neg=0.5233708203790892)"
            ]
          },
          "metadata": {
            "tags": []
          },
          "execution_count": 15
        }
      ]
    },
    {
      "cell_type": "markdown",
      "metadata": {
        "id": "Lhmhgs0WJtSK",
        "colab_type": "text"
      },
      "source": [
        "The overall sentiment is classified as negative (classification='neg'). The\n",
        "Sentiment object’s p_pos indicates that the TextBlob is 47.66% positive, and its p_neg indicates that the TextBlob is 52.34% negative. Since the overall sentiment is just slightly more negative we’d probably view this TextBlob’s sentiment as neutral overall.\n",
        "\n",
        "Now, let’s get the sentiment of each Sentence:"
      ]
    },
    {
      "cell_type": "code",
      "metadata": {
        "id": "kmwhL5CqJhS4",
        "colab_type": "code",
        "outputId": "d95810e7-f166-4b99-e067-9f988399dce8",
        "colab": {
          "base_uri": "https://localhost:8080/",
          "height": 52
        }
      },
      "source": [
        "for sentence in blob.sentences:\n",
        "  print(sentence.sentiment)"
      ],
      "execution_count": 16,
      "outputs": [
        {
          "output_type": "stream",
          "text": [
            "Sentiment(classification='pos', p_pos=0.8117563121751951, p_neg=0.18824368782480477)\n",
            "Sentiment(classification='neg', p_pos=0.174363226578349, p_neg=0.8256367734216521)\n"
          ],
          "name": "stdout"
        }
      ]
    },
    {
      "cell_type": "markdown",
      "metadata": {
        "id": "ISX5_lAPKOys",
        "colab_type": "text"
      },
      "source": [
        "Rather than polarity and subjectivity, the Sentiment objects we get from\n",
        "the NaiveBayesAnalyzer contain a classification—'pos' (positive) or 'neg' (negative)—and p_pos (percentage positive) and p_neg (percentage negative) values from 0.0 to 1.0."
      ]
    },
    {
      "cell_type": "markdown",
      "metadata": {
        "id": "DCt8NaKGMaKf",
        "colab_type": "text"
      },
      "source": [
        "## Language Detection and Translation"
      ]
    },
    {
      "cell_type": "markdown",
      "metadata": {
        "id": "RKoi3OyDMbXG",
        "colab_type": "text"
      },
      "source": [
        "Inter-language translation also is great for people traveling to foreign countries. They can use translation apps to translate menus, road signs and more. There are even efforts at live speech translation so that you’ll be able to converse in real time with people who do not know your natural language.Some smartphones, can now work together with in ear headphones to provide nearlive\n",
        "translation of many languages.\n",
        "\n",
        "The TextBlob library uses Google Translate to detect a text’s language and translate TextBlobs, Sentences and Words into other languages. Let’s use detect_language method to detect the language of the text we’re manipulating ('en' is English):"
      ]
    },
    {
      "cell_type": "code",
      "metadata": {
        "id": "USqA8iEmJ8WV",
        "colab_type": "code",
        "colab": {
          "base_uri": "https://localhost:8080/",
          "height": 35
        },
        "outputId": "a3ac305f-c8db-4738-9e3e-570007bcad99"
      },
      "source": [
        "blob.detect_language()"
      ],
      "execution_count": 17,
      "outputs": [
        {
          "output_type": "execute_result",
          "data": {
            "text/plain": [
              "'en'"
            ]
          },
          "metadata": {
            "tags": []
          },
          "execution_count": 17
        }
      ]
    },
    {
      "cell_type": "markdown",
      "metadata": {
        "id": "uPkpfBMcM6K4",
        "colab_type": "text"
      },
      "source": [
        "Next, let’s use the translate method to translate the text to Spanish ('es') then detect the language on the result. The to keyword argument specifies the target language."
      ]
    },
    {
      "cell_type": "code",
      "metadata": {
        "id": "g_f2U2crM0Wt",
        "colab_type": "code",
        "colab": {
          "base_uri": "https://localhost:8080/",
          "height": 35
        },
        "outputId": "f6f8418b-df0b-483e-9ff0-e2fd433a0ef4"
      },
      "source": [
        "spanish = blob.translate(to='es')\n",
        "spanish"
      ],
      "execution_count": 18,
      "outputs": [
        {
          "output_type": "execute_result",
          "data": {
            "text/plain": [
              "TextBlob(\"Hoy es un hermoso dia. Mañana parece mal tiempo.\")"
            ]
          },
          "metadata": {
            "tags": []
          },
          "execution_count": 18
        }
      ]
    },
    {
      "cell_type": "code",
      "metadata": {
        "id": "w8BfhPcENCfR",
        "colab_type": "code",
        "colab": {
          "base_uri": "https://localhost:8080/",
          "height": 35
        },
        "outputId": "afa32def-82e0-4ec6-d5f5-3a4d989e768c"
      },
      "source": [
        "spanish.detect_language()"
      ],
      "execution_count": 19,
      "outputs": [
        {
          "output_type": "execute_result",
          "data": {
            "text/plain": [
              "'es'"
            ]
          },
          "metadata": {
            "tags": []
          },
          "execution_count": 19
        }
      ]
    },
    {
      "cell_type": "markdown",
      "metadata": {
        "id": "tQESnA4dNOLE",
        "colab_type": "text"
      },
      "source": [
        "Next, let’s translate our TextBlob to simplified Chinese (specified as 'zh' or 'zhCN') then detect the language on the result:"
      ]
    },
    {
      "cell_type": "code",
      "metadata": {
        "id": "WFL9j8x-NIPG",
        "colab_type": "code",
        "colab": {
          "base_uri": "https://localhost:8080/",
          "height": 35
        },
        "outputId": "b8ab71a7-9080-4920-ce13-94a7a8f67985"
      },
      "source": [
        "chinese = blob.translate(to='zh')\n",
        "chinese"
      ],
      "execution_count": 21,
      "outputs": [
        {
          "output_type": "execute_result",
          "data": {
            "text/plain": [
              "TextBlob(\"今天是美好的一天。明天看起来天气不好。\")"
            ]
          },
          "metadata": {
            "tags": []
          },
          "execution_count": 21
        }
      ]
    },
    {
      "cell_type": "code",
      "metadata": {
        "id": "GICEtcxUNWbS",
        "colab_type": "code",
        "colab": {
          "base_uri": "https://localhost:8080/",
          "height": 35
        },
        "outputId": "363b1ebf-073d-489a-994f-5fb744f780bc"
      },
      "source": [
        "chinese.detect_language()"
      ],
      "execution_count": 22,
      "outputs": [
        {
          "output_type": "execute_result",
          "data": {
            "text/plain": [
              "'zh-CN'"
            ]
          },
          "metadata": {
            "tags": []
          },
          "execution_count": 22
        }
      ]
    },
    {
      "cell_type": "code",
      "metadata": {
        "id": "e6AosrzkNdOm",
        "colab_type": "code",
        "colab": {
          "base_uri": "https://localhost:8080/",
          "height": 35
        },
        "outputId": "e74e77d0-0810-47b9-8797-9ca4550e2173"
      },
      "source": [
        "hindi = blob.translate(to='hi')\n",
        "hindi"
      ],
      "execution_count": 23,
      "outputs": [
        {
          "output_type": "execute_result",
          "data": {
            "text/plain": [
              "TextBlob(\"आज का दिन बहुत ही अच्छा है। कल खराब मौसम जैसा लग रहा है।\")"
            ]
          },
          "metadata": {
            "tags": []
          },
          "execution_count": 23
        }
      ]
    },
    {
      "cell_type": "code",
      "metadata": {
        "id": "xKeoeYXzON1L",
        "colab_type": "code",
        "colab": {
          "base_uri": "https://localhost:8080/",
          "height": 35
        },
        "outputId": "bf6ee2a5-9286-4441-c4ec-f574911860c1"
      },
      "source": [
        "hindi.detect_language()"
      ],
      "execution_count": 24,
      "outputs": [
        {
          "output_type": "execute_result",
          "data": {
            "text/plain": [
              "'hi'"
            ]
          },
          "metadata": {
            "tags": []
          },
          "execution_count": 24
        }
      ]
    },
    {
      "cell_type": "markdown",
      "metadata": {
        "id": "mr5F4IchOkLy",
        "colab_type": "text"
      },
      "source": [
        "In each of the preceding cases, Google Translate automatically detects the source language.\n",
        "You can specify a source language explicitly by passing the from_lang keyword argument to\n",
        "the translate method."
      ]
    },
    {
      "cell_type": "code",
      "metadata": {
        "id": "6ZnIVG-FOWC1",
        "colab_type": "code",
        "colab": {
          "base_uri": "https://localhost:8080/",
          "height": 35
        },
        "outputId": "2561cb5c-0b55-4a53-8f96-8b0d0da0c618"
      },
      "source": [
        "chinese = blob.translate(from_lang='en', to='zh')\n",
        "chinese"
      ],
      "execution_count": 25,
      "outputs": [
        {
          "output_type": "execute_result",
          "data": {
            "text/plain": [
              "TextBlob(\"今天是美好的一天。明天看起来天气不好。\")"
            ]
          },
          "metadata": {
            "tags": []
          },
          "execution_count": 25
        }
      ]
    },
    {
      "cell_type": "code",
      "metadata": {
        "id": "vaCs7rouOtHQ",
        "colab_type": "code",
        "colab": {
          "base_uri": "https://localhost:8080/",
          "height": 35
        },
        "outputId": "b7736d9d-ac02-4263-c223-8b8bdb4e1cf0"
      },
      "source": [
        "hindi = blob.translate(from_lang='en', to='hi')\n",
        "hindi"
      ],
      "execution_count": 26,
      "outputs": [
        {
          "output_type": "execute_result",
          "data": {
            "text/plain": [
              "TextBlob(\"आज का दिन बहुत ही अच्छा है। कल खराब मौसम जैसा लग रहा है।\")"
            ]
          },
          "metadata": {
            "tags": []
          },
          "execution_count": 26
        }
      ]
    },
    {
      "cell_type": "markdown",
      "metadata": {
        "id": "4KkZc09mPF2c",
        "colab_type": "text"
      },
      "source": [
        "Calling translate without arguments translates from the detected source language to English:"
      ]
    },
    {
      "cell_type": "code",
      "metadata": {
        "id": "l2YyIdMNO0El",
        "colab_type": "code",
        "colab": {
          "base_uri": "https://localhost:8080/",
          "height": 35
        },
        "outputId": "0d29f8fe-2127-48d9-e778-10e2743d98aa"
      },
      "source": [
        "chinese.translate()\n",
        "chinese"
      ],
      "execution_count": 28,
      "outputs": [
        {
          "output_type": "execute_result",
          "data": {
            "text/plain": [
              "TextBlob(\"今天是美好的一天。明天看起来天气不好。\")"
            ]
          },
          "metadata": {
            "tags": []
          },
          "execution_count": 28
        }
      ]
    },
    {
      "cell_type": "code",
      "metadata": {
        "id": "xIgQX7sSPMXW",
        "colab_type": "code",
        "colab": {
          "base_uri": "https://localhost:8080/",
          "height": 35
        },
        "outputId": "83b3996c-a343-4462-aaae-3ff1a2887c83"
      },
      "source": [
        "hindi.translate()\n",
        "hindi"
      ],
      "execution_count": 29,
      "outputs": [
        {
          "output_type": "execute_result",
          "data": {
            "text/plain": [
              "TextBlob(\"आज का दिन बहुत ही अच्छा है। कल खराब मौसम जैसा लग रहा है।\")"
            ]
          },
          "metadata": {
            "tags": []
          },
          "execution_count": 29
        }
      ]
    },
    {
      "cell_type": "markdown",
      "metadata": {
        "id": "B9BkB5mBPjNW",
        "colab_type": "text"
      },
      "source": [
        "## Inflection: Pluralization and Singularization"
      ]
    },
    {
      "cell_type": "markdown",
      "metadata": {
        "id": "Tvknn0FpPkUq",
        "colab_type": "text"
      },
      "source": [
        "Inflections are different forms of the same words, such as singular and plural (like “person”\n",
        "and “people”) and different verb tenses (like “run” and “ran”). When you’re calculating word\n",
        "frequencies, you might first want to convert all inflected words to the same form for more\n",
        "accurate word frequencies. Words and WordLists each support converting words to their\n",
        "singular or plural forms.\n",
        "\n",
        "Let’s pluralize and singularize a couple of Word objects."
      ]
    },
    {
      "cell_type": "code",
      "metadata": {
        "id": "ct9A-t-uPc59",
        "colab_type": "code",
        "colab": {
          "base_uri": "https://localhost:8080/",
          "height": 35
        },
        "outputId": "df75c243-3e74-4231-ca05-f36de428dc24"
      },
      "source": [
        "from textblob import Word\n",
        "\n",
        "index = Word('index')\n",
        "index"
      ],
      "execution_count": 31,
      "outputs": [
        {
          "output_type": "execute_result",
          "data": {
            "text/plain": [
              "'index'"
            ]
          },
          "metadata": {
            "tags": []
          },
          "execution_count": 31
        }
      ]
    },
    {
      "cell_type": "code",
      "metadata": {
        "id": "X4eAfmTMQnMx",
        "colab_type": "code",
        "colab": {
          "base_uri": "https://localhost:8080/",
          "height": 35
        },
        "outputId": "0120d40f-6fad-4c8c-ce74-2b58557ad316"
      },
      "source": [
        "index.pluralize()"
      ],
      "execution_count": 32,
      "outputs": [
        {
          "output_type": "execute_result",
          "data": {
            "text/plain": [
              "'indices'"
            ]
          },
          "metadata": {
            "tags": []
          },
          "execution_count": 32
        }
      ]
    },
    {
      "cell_type": "code",
      "metadata": {
        "id": "m5EXnVOgQscO",
        "colab_type": "code",
        "colab": {}
      },
      "source": [
        "cacti = Word('cacti')"
      ],
      "execution_count": 0,
      "outputs": []
    },
    {
      "cell_type": "code",
      "metadata": {
        "id": "3vTFay82QyOG",
        "colab_type": "code",
        "colab": {
          "base_uri": "https://localhost:8080/",
          "height": 35
        },
        "outputId": "5efa0637-ffa5-4d88-a940-ee58eb6eb56e"
      },
      "source": [
        "cacti.singularize()"
      ],
      "execution_count": 34,
      "outputs": [
        {
          "output_type": "execute_result",
          "data": {
            "text/plain": [
              "'cactus'"
            ]
          },
          "metadata": {
            "tags": []
          },
          "execution_count": 34
        }
      ]
    },
    {
      "cell_type": "markdown",
      "metadata": {
        "id": "6BFCeuJ5Q5c-",
        "colab_type": "text"
      },
      "source": [
        "Pluralizing and singularizing are sophisticated tasks which, as you can see above, are not as\n",
        "simple as adding or removing an “s” or “es” at the end of a word."
      ]
    },
    {
      "cell_type": "code",
      "metadata": {
        "id": "oh5RCLaSQ0H3",
        "colab_type": "code",
        "colab": {}
      },
      "source": [
        "animals = TextBlob('dog cat fish bird').words"
      ],
      "execution_count": 0,
      "outputs": []
    },
    {
      "cell_type": "code",
      "metadata": {
        "id": "S3aSQ11sT_RM",
        "colab_type": "code",
        "colab": {
          "base_uri": "https://localhost:8080/",
          "height": 35
        },
        "outputId": "a951f6a2-9381-4ddb-9541-e7d3a6eb7a3a"
      },
      "source": [
        "animals.pluralize()"
      ],
      "execution_count": 36,
      "outputs": [
        {
          "output_type": "execute_result",
          "data": {
            "text/plain": [
              "WordList(['dogs', 'cats', 'fish', 'birds'])"
            ]
          },
          "metadata": {
            "tags": []
          },
          "execution_count": 36
        }
      ]
    },
    {
      "cell_type": "markdown",
      "metadata": {
        "id": "29iO3Cz6UGni",
        "colab_type": "text"
      },
      "source": [
        "## Spell Checking and Correction"
      ]
    },
    {
      "cell_type": "markdown",
      "metadata": {
        "id": "Pb2LfKVnUHiA",
        "colab_type": "text"
      },
      "source": [
        ""
      ]
    },
    {
      "cell_type": "code",
      "metadata": {
        "id": "YnCkY2LKUB8L",
        "colab_type": "code",
        "colab": {}
      },
      "source": [
        ""
      ],
      "execution_count": 0,
      "outputs": []
    }
  ]
}