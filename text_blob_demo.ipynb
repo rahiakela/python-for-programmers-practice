{
  "nbformat": 4,
  "nbformat_minor": 0,
  "metadata": {
    "colab": {
      "name": "text-blob-demo.ipynb",
      "provenance": [],
      "toc_visible": true,
      "include_colab_link": true
    },
    "kernelspec": {
      "name": "python3",
      "display_name": "Python 3"
    }
  },
  "cells": [
    {
      "cell_type": "markdown",
      "metadata": {
        "id": "view-in-github",
        "colab_type": "text"
      },
      "source": [
        "<a href=\"https://colab.research.google.com/github/rahiakela/python-for-programmers-practice/blob/natural-language-processing/text_blob_demo.ipynb\" target=\"_parent\"><img src=\"https://colab.research.google.com/assets/colab-badge.svg\" alt=\"Open In Colab\"/></a>"
      ]
    },
    {
      "cell_type": "markdown",
      "metadata": {
        "id": "VmQVnQim3q3i",
        "colab_type": "text"
      },
      "source": [
        "# TextBlob"
      ]
    },
    {
      "cell_type": "markdown",
      "metadata": {
        "id": "8_tuqLQ73sW2",
        "colab_type": "text"
      },
      "source": [
        "TextBlob is an objectoriented NLP textprocessing library that is built on the NLTK and pattern NLP libraries and simplifies many of their capabilities. Some of the NLP tasks TextBlob can perform include:\n",
        "\n",
        "* **Tokenization**—splitting text into pieces called tokens, which are meaningful units, such as words and numbers.\n",
        "* **Partsofspeech (POS) tagging**—identifying each word’s part of speech, such as noun, verb, adjective, etc.\n",
        "* **Noun phrase extraction**—locating groups of words that represent nouns, such as “red brick factory.”\n",
        "* **Sentiment analysis**—determining whether text has positive, neutral or negative sentiment.\n",
        "* **Inter-language translation and language detection** powered by Google Translate.\n",
        "* **Inflection** —pluralizing and singularizing words. There are other aspects of inflection that are not part of TextBlob.\n",
        "* **Spell checking and spelling correction**.\n",
        "* **Stemming**—reducing words to their stems by removing prefixes or suffixes. For example, the stem of “varieties” is “varieti.”\n",
        "* **Lemmatization**—like stemming, but produces real words based on the original words’ context. For example, the lemmatized form of “varieties” is “variety.”\n",
        "* **Word frequencies**—determining how often each word appears in a corpus.\n",
        "* **WordNet integration** for finding word definitions, synonyms and antonyms.\n",
        "* **Stop word elimination**—removing common words, such as a, an, the, I, we, you and more to analyze the important words in a corpus.\n",
        "* **ngrams**— producing sets of consecutive words in a corpus for use in identifying words that frequently appear adjacent to one another."
      ]
    },
    {
      "cell_type": "markdown",
      "metadata": {
        "id": "L7XAiqTx6sbo",
        "colab_type": "text"
      },
      "source": [
        "## Setup"
      ]
    },
    {
      "cell_type": "markdown",
      "metadata": {
        "id": "EkMDuKJj6vMB",
        "colab_type": "text"
      },
      "source": [
        "Now download the NLTK corpora used by TextBlob:"
      ]
    },
    {
      "cell_type": "code",
      "metadata": {
        "id": "BC-NTz-03RXa",
        "colab_type": "code",
        "colab": {
          "base_uri": "https://localhost:8080/",
          "height": 266
        },
        "outputId": "1f39cd42-58e2-41c0-8779-321f572fbc52"
      },
      "source": [
        "import textblob\n",
        "from textblob import TextBlob\n",
        "\n",
        "!python -m textblob.download_corpora"
      ],
      "execution_count": 5,
      "outputs": [
        {
          "output_type": "stream",
          "text": [
            "[nltk_data] Downloading package brown to /root/nltk_data...\n",
            "[nltk_data]   Unzipping corpora/brown.zip.\n",
            "[nltk_data] Downloading package punkt to /root/nltk_data...\n",
            "[nltk_data]   Unzipping tokenizers/punkt.zip.\n",
            "[nltk_data] Downloading package wordnet to /root/nltk_data...\n",
            "[nltk_data]   Unzipping corpora/wordnet.zip.\n",
            "[nltk_data] Downloading package averaged_perceptron_tagger to\n",
            "[nltk_data]     /root/nltk_data...\n",
            "[nltk_data]   Unzipping taggers/averaged_perceptron_tagger.zip.\n",
            "[nltk_data] Downloading package conll2000 to /root/nltk_data...\n",
            "[nltk_data]   Unzipping corpora/conll2000.zip.\n",
            "[nltk_data] Downloading package movie_reviews to /root/nltk_data...\n",
            "[nltk_data]   Unzipping corpora/movie_reviews.zip.\n",
            "Finished.\n"
          ],
          "name": "stdout"
        }
      ]
    },
    {
      "cell_type": "markdown",
      "metadata": {
        "id": "3rQYAnqK6ZCQ",
        "colab_type": "text"
      },
      "source": [
        "## Create a TextBlob"
      ]
    },
    {
      "cell_type": "markdown",
      "metadata": {
        "id": "Uge1r35g6aHB",
        "colab_type": "text"
      },
      "source": [
        "TextBlob is the fundamental class for NLP with the textblob module. Let’s create a TextBlob containing two sentences:"
      ]
    },
    {
      "cell_type": "code",
      "metadata": {
        "id": "ufbhPGDL5g44",
        "colab_type": "code",
        "colab": {
          "base_uri": "https://localhost:8080/",
          "height": 35
        },
        "outputId": "7fd90168-9913-478e-801d-7ae7426de667"
      },
      "source": [
        "text = 'Today is a beautiful day. Tomorrow looks like bad weather.'\n",
        "\n",
        "blob = TextBlob(text)\n",
        "blob"
      ],
      "execution_count": 6,
      "outputs": [
        {
          "output_type": "execute_result",
          "data": {
            "text/plain": [
              "TextBlob(\"Today is a beautiful day. Tomorrow looks like bad weather.\")"
            ]
          },
          "metadata": {
            "tags": []
          },
          "execution_count": 6
        }
      ]
    },
    {
      "cell_type": "markdown",
      "metadata": {
        "id": "FNzIhKOd6x9K",
        "colab_type": "text"
      },
      "source": [
        "## Tokenizing Text into Sentences and Words"
      ]
    },
    {
      "cell_type": "markdown",
      "metadata": {
        "id": "uPcCA9416zxm",
        "colab_type": "text"
      },
      "source": [
        "Natural language processing often requires tokenizing text before performing other NLP tasks. TextBlob provides convenient properties for accessing the sentences and words in TextBlobs. \n",
        "\n",
        "Let’s use the sentence property to get a list of Sentence objects:"
      ]
    },
    {
      "cell_type": "code",
      "metadata": {
        "id": "nVb9o8cf6fW3",
        "colab_type": "code",
        "colab": {
          "base_uri": "https://localhost:8080/",
          "height": 52
        },
        "outputId": "4078fa4e-6077-4c21-8446-6eac1b7516b3"
      },
      "source": [
        "blob.sentences"
      ],
      "execution_count": 7,
      "outputs": [
        {
          "output_type": "execute_result",
          "data": {
            "text/plain": [
              "[Sentence(\"Today is a beautiful day.\"),\n",
              " Sentence(\"Tomorrow looks like bad weather.\")]"
            ]
          },
          "metadata": {
            "tags": []
          },
          "execution_count": 7
        }
      ]
    },
    {
      "cell_type": "markdown",
      "metadata": {
        "id": "pA3g53E67LUE",
        "colab_type": "text"
      },
      "source": [
        "The words property returns a WordList object containing a list of Word objects,\n",
        "representing each word in the TextBlob with the punctuation removed:"
      ]
    },
    {
      "cell_type": "code",
      "metadata": {
        "id": "eJfrWIGG7Ekh",
        "colab_type": "code",
        "colab": {
          "base_uri": "https://localhost:8080/",
          "height": 35
        },
        "outputId": "7dcf6c60-1319-4d19-c3be-9f921963b8cb"
      },
      "source": [
        "blob.words"
      ],
      "execution_count": 8,
      "outputs": [
        {
          "output_type": "execute_result",
          "data": {
            "text/plain": [
              "WordList(['Today', 'is', 'a', 'beautiful', 'day', 'Tomorrow', 'looks', 'like', 'bad', 'weather'])"
            ]
          },
          "metadata": {
            "tags": []
          },
          "execution_count": 8
        }
      ]
    },
    {
      "cell_type": "code",
      "metadata": {
        "id": "P4zcs9B77O1x",
        "colab_type": "code",
        "colab": {
          "base_uri": "https://localhost:8080/",
          "height": 212
        },
        "outputId": "7082dc95-d1c3-4af7-dac9-da424332fc13"
      },
      "source": [
        "# get every word count\n",
        "blob.word_counts"
      ],
      "execution_count": 9,
      "outputs": [
        {
          "output_type": "execute_result",
          "data": {
            "text/plain": [
              "defaultdict(int,\n",
              "            {'a': 1,\n",
              "             'bad': 1,\n",
              "             'beautiful': 1,\n",
              "             'day': 1,\n",
              "             'is': 1,\n",
              "             'like': 1,\n",
              "             'looks': 1,\n",
              "             'today': 1,\n",
              "             'tomorrow': 1,\n",
              "             'weather': 1})"
            ]
          },
          "metadata": {
            "tags": []
          },
          "execution_count": 9
        }
      ]
    },
    {
      "cell_type": "markdown",
      "metadata": {
        "id": "tBSryTDg7mw0",
        "colab_type": "text"
      },
      "source": [
        "## Parts-of-Speech Tagging"
      ]
    },
    {
      "cell_type": "markdown",
      "metadata": {
        "id": "MnfQ1mAX7nwa",
        "colab_type": "text"
      },
      "source": [
        "Partsofspeech (POS) tagging is the process of evaluating words based on their context to determine each word’s part of speech. There are eight primary English parts of speech— nouns, pronouns, verbs, adjectives, adverbs,prepositions, conjunctions and interjections (words that express emotion and that are typically followed by punctuation, like “Yes!” or “Ha!”). Within each category there are many subcategories.\n",
        "\n",
        "The tags property returns a list of tuples, each containing a word and a string representing its part-of-speech tag:"
      ]
    },
    {
      "cell_type": "code",
      "metadata": {
        "id": "F2wGVYLI7cFA",
        "colab_type": "code",
        "colab": {
          "base_uri": "https://localhost:8080/",
          "height": 195
        },
        "outputId": "15e6ccca-2e7b-44e4-c4c5-9302f3c75fd5"
      },
      "source": [
        "blob.tags"
      ],
      "execution_count": 10,
      "outputs": [
        {
          "output_type": "execute_result",
          "data": {
            "text/plain": [
              "[('Today', 'NN'),\n",
              " ('is', 'VBZ'),\n",
              " ('a', 'DT'),\n",
              " ('beautiful', 'JJ'),\n",
              " ('day', 'NN'),\n",
              " ('Tomorrow', 'NNP'),\n",
              " ('looks', 'VBZ'),\n",
              " ('like', 'IN'),\n",
              " ('bad', 'JJ'),\n",
              " ('weather', 'NN')]"
            ]
          },
          "metadata": {
            "tags": []
          },
          "execution_count": 10
        }
      ]
    },
    {
      "cell_type": "markdown",
      "metadata": {
        "id": "7lLw_VL18OGi",
        "colab_type": "text"
      },
      "source": [
        "Explanation:\n",
        "* **Today**, day and weather are tagged as NN—a singular noun or mass noun.\n",
        "* **is** and looks are tagged as VBZ—a third person singular present verb.\n",
        "* **a** is tagged as DT—a determiner.\n",
        "* **beautiful** and bad are tagged as JJ—an adjective.\n",
        "* **Tomorrow** is tagged as NNP—a proper singular noun.\n",
        "* **like** is tagged as IN—a subordinating conjunction or preposition.\n",
        "\n",
        "By default, TextBlob uses a PatternTagger to determine parts-of-speech.\n",
        "This class uses the partsofspeech tagging capabilities of the pattern library:"
      ]
    },
    {
      "cell_type": "markdown",
      "metadata": {
        "id": "9h9RZp9x9zQX",
        "colab_type": "text"
      },
      "source": [
        "## Extracting Noun Phrases"
      ]
    },
    {
      "cell_type": "markdown",
      "metadata": {
        "id": "-rjjMLRY90Oz",
        "colab_type": "text"
      },
      "source": [
        "A TextBlob’s noun_phrases property returns a WordList object containing a list of Word objects—one for each noun phrase in the text:"
      ]
    },
    {
      "cell_type": "code",
      "metadata": {
        "id": "6AgZm-V18Evh",
        "colab_type": "code",
        "colab": {
          "base_uri": "https://localhost:8080/",
          "height": 35
        },
        "outputId": "b2142723-3f0f-4443-c5d4-3dda248fc287"
      },
      "source": [
        "blob.noun_phrases"
      ],
      "execution_count": 11,
      "outputs": [
        {
          "output_type": "execute_result",
          "data": {
            "text/plain": [
              "WordList(['beautiful day', 'tomorrow', 'bad weather'])"
            ]
          },
          "metadata": {
            "tags": []
          },
          "execution_count": 11
        }
      ]
    },
    {
      "cell_type": "markdown",
      "metadata": {
        "id": "xTMUylK9-Rys",
        "colab_type": "text"
      },
      "source": [
        "Note that a Word representing a noun phrase can contain multiple words. A WordList is an extension of Python’s builtin list type. WordLists provide additional methods for stemming, lemmatizing, singularizing and pluralizing."
      ]
    },
    {
      "cell_type": "code",
      "metadata": {
        "id": "9HAY77v3-GaP",
        "colab_type": "code",
        "colab": {
          "base_uri": "https://localhost:8080/",
          "height": 35
        },
        "outputId": "917279f1-1b59-4010-a999-4d535d0d478f"
      },
      "source": [
        "blob.tokens"
      ],
      "execution_count": 12,
      "outputs": [
        {
          "output_type": "execute_result",
          "data": {
            "text/plain": [
              "WordList(['Today', 'is', 'a', 'beautiful', 'day', '.', 'Tomorrow', 'looks', 'like', 'bad', 'weather', '.'])"
            ]
          },
          "metadata": {
            "tags": []
          },
          "execution_count": 12
        }
      ]
    },
    {
      "cell_type": "code",
      "metadata": {
        "id": "_HEy0WyX-cY9",
        "colab_type": "code",
        "colab": {}
      },
      "source": [
        ""
      ],
      "execution_count": 0,
      "outputs": []
    }
  ]
}