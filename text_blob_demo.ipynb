{
  "nbformat": 4,
  "nbformat_minor": 0,
  "metadata": {
    "colab": {
      "name": "text-blob-demo.ipynb",
      "provenance": [],
      "toc_visible": true,
      "include_colab_link": true
    },
    "kernelspec": {
      "name": "python3",
      "display_name": "Python 3"
    }
  },
  "cells": [
    {
      "cell_type": "markdown",
      "metadata": {
        "id": "view-in-github",
        "colab_type": "text"
      },
      "source": [
        "<a href=\"https://colab.research.google.com/github/rahiakela/python-for-programmers-practice/blob/natural-language-processing/text_blob_demo.ipynb\" target=\"_parent\"><img src=\"https://colab.research.google.com/assets/colab-badge.svg\" alt=\"Open In Colab\"/></a>"
      ]
    },
    {
      "cell_type": "markdown",
      "metadata": {
        "id": "VmQVnQim3q3i",
        "colab_type": "text"
      },
      "source": [
        "# TextBlob"
      ]
    },
    {
      "cell_type": "markdown",
      "metadata": {
        "id": "8_tuqLQ73sW2",
        "colab_type": "text"
      },
      "source": [
        "TextBlob is an objectoriented NLP textprocessing library that is built on the NLTK and pattern NLP libraries and simplifies many of their capabilities. Some of the NLP tasks TextBlob can perform include:\n",
        "\n",
        "* **Tokenization**—splitting text into pieces called tokens, which are meaningful units, such as words and numbers.\n",
        "* **Partsofspeech (POS) tagging**—identifying each word’s part of speech, such as noun, verb, adjective, etc.\n",
        "* **Noun phrase extraction**—locating groups of words that represent nouns, such as “red brick factory.”\n",
        "* **Sentiment analysis**—determining whether text has positive, neutral or negative sentiment.\n",
        "* **Inter-language translation and language detection** powered by Google Translate.\n",
        "* **Inflection** —pluralizing and singularizing words. There are other aspects of inflection that are not part of TextBlob.\n",
        "* **Spell checking and spelling correction**.\n",
        "* **Stemming**—reducing words to their stems by removing prefixes or suffixes. For example, the stem of “varieties” is “varieti.”\n",
        "* **Lemmatization**—like stemming, but produces real words based on the original words’ context. For example, the lemmatized form of “varieties” is “variety.”\n",
        "* **Word frequencies**—determining how often each word appears in a corpus.\n",
        "* **WordNet integration** for finding word definitions, synonyms and antonyms.\n",
        "* **Stop word elimination**—removing common words, such as a, an, the, I, we, you and more to analyze the important words in a corpus.\n",
        "* **ngrams**— producing sets of consecutive words in a corpus for use in identifying words that frequently appear adjacent to one another."
      ]
    },
    {
      "cell_type": "markdown",
      "metadata": {
        "id": "L7XAiqTx6sbo",
        "colab_type": "text"
      },
      "source": [
        "## Setup"
      ]
    },
    {
      "cell_type": "markdown",
      "metadata": {
        "id": "EkMDuKJj6vMB",
        "colab_type": "text"
      },
      "source": [
        "Now download the NLTK corpora used by TextBlob:"
      ]
    },
    {
      "cell_type": "code",
      "metadata": {
        "id": "BC-NTz-03RXa",
        "colab_type": "code",
        "outputId": "5ac70860-3135-4585-ec14-cd3b07c55f11",
        "colab": {
          "base_uri": "https://localhost:8080/",
          "height": 266
        }
      },
      "source": [
        "import textblob\n",
        "from textblob import TextBlob\n",
        "\n",
        "!python -m textblob.download_corpora"
      ],
      "execution_count": 1,
      "outputs": [
        {
          "output_type": "stream",
          "text": [
            "[nltk_data] Downloading package brown to /root/nltk_data...\n",
            "[nltk_data]   Unzipping corpora/brown.zip.\n",
            "[nltk_data] Downloading package punkt to /root/nltk_data...\n",
            "[nltk_data]   Unzipping tokenizers/punkt.zip.\n",
            "[nltk_data] Downloading package wordnet to /root/nltk_data...\n",
            "[nltk_data]   Unzipping corpora/wordnet.zip.\n",
            "[nltk_data] Downloading package averaged_perceptron_tagger to\n",
            "[nltk_data]     /root/nltk_data...\n",
            "[nltk_data]   Unzipping taggers/averaged_perceptron_tagger.zip.\n",
            "[nltk_data] Downloading package conll2000 to /root/nltk_data...\n",
            "[nltk_data]   Unzipping corpora/conll2000.zip.\n",
            "[nltk_data] Downloading package movie_reviews to /root/nltk_data...\n",
            "[nltk_data]   Unzipping corpora/movie_reviews.zip.\n",
            "Finished.\n"
          ],
          "name": "stdout"
        }
      ]
    },
    {
      "cell_type": "markdown",
      "metadata": {
        "id": "3rQYAnqK6ZCQ",
        "colab_type": "text"
      },
      "source": [
        "## Create a TextBlob"
      ]
    },
    {
      "cell_type": "markdown",
      "metadata": {
        "id": "Uge1r35g6aHB",
        "colab_type": "text"
      },
      "source": [
        "TextBlob is the fundamental class for NLP with the textblob module. Let’s create a TextBlob containing two sentences:"
      ]
    },
    {
      "cell_type": "code",
      "metadata": {
        "id": "ufbhPGDL5g44",
        "colab_type": "code",
        "outputId": "3c5e826e-7a10-4159-ef1e-b4d585cc3ca9",
        "colab": {
          "base_uri": "https://localhost:8080/",
          "height": 35
        }
      },
      "source": [
        "text = 'Today is a beautiful day. Tomorrow looks like bad weather.'\n",
        "\n",
        "blob = TextBlob(text)\n",
        "blob"
      ],
      "execution_count": 2,
      "outputs": [
        {
          "output_type": "execute_result",
          "data": {
            "text/plain": [
              "TextBlob(\"Today is a beautiful day. Tomorrow looks like bad weather.\")"
            ]
          },
          "metadata": {
            "tags": []
          },
          "execution_count": 2
        }
      ]
    },
    {
      "cell_type": "markdown",
      "metadata": {
        "id": "FNzIhKOd6x9K",
        "colab_type": "text"
      },
      "source": [
        "## Tokenizing Text into Sentences and Words"
      ]
    },
    {
      "cell_type": "markdown",
      "metadata": {
        "id": "uPcCA9416zxm",
        "colab_type": "text"
      },
      "source": [
        "Natural language processing often requires tokenizing text before performing other NLP tasks. TextBlob provides convenient properties for accessing the sentences and words in TextBlobs. \n",
        "\n",
        "Let’s use the sentence property to get a list of Sentence objects:"
      ]
    },
    {
      "cell_type": "code",
      "metadata": {
        "id": "nVb9o8cf6fW3",
        "colab_type": "code",
        "outputId": "78521a88-11a7-4c33-b5a6-beb929c7b268",
        "colab": {
          "base_uri": "https://localhost:8080/",
          "height": 52
        }
      },
      "source": [
        "blob.sentences"
      ],
      "execution_count": 3,
      "outputs": [
        {
          "output_type": "execute_result",
          "data": {
            "text/plain": [
              "[Sentence(\"Today is a beautiful day.\"),\n",
              " Sentence(\"Tomorrow looks like bad weather.\")]"
            ]
          },
          "metadata": {
            "tags": []
          },
          "execution_count": 3
        }
      ]
    },
    {
      "cell_type": "markdown",
      "metadata": {
        "id": "pA3g53E67LUE",
        "colab_type": "text"
      },
      "source": [
        "The words property returns a WordList object containing a list of Word objects,\n",
        "representing each word in the TextBlob with the punctuation removed:"
      ]
    },
    {
      "cell_type": "code",
      "metadata": {
        "id": "eJfrWIGG7Ekh",
        "colab_type": "code",
        "outputId": "aaf6ebd7-8234-4b5e-8314-b83b6e2adadf",
        "colab": {
          "base_uri": "https://localhost:8080/",
          "height": 35
        }
      },
      "source": [
        "blob.words"
      ],
      "execution_count": 4,
      "outputs": [
        {
          "output_type": "execute_result",
          "data": {
            "text/plain": [
              "WordList(['Today', 'is', 'a', 'beautiful', 'day', 'Tomorrow', 'looks', 'like', 'bad', 'weather'])"
            ]
          },
          "metadata": {
            "tags": []
          },
          "execution_count": 4
        }
      ]
    },
    {
      "cell_type": "code",
      "metadata": {
        "id": "P4zcs9B77O1x",
        "colab_type": "code",
        "outputId": "457b9644-9fc2-4df0-85df-28a99aec89f2",
        "colab": {
          "base_uri": "https://localhost:8080/",
          "height": 212
        }
      },
      "source": [
        "# get every word count\n",
        "blob.word_counts"
      ],
      "execution_count": 5,
      "outputs": [
        {
          "output_type": "execute_result",
          "data": {
            "text/plain": [
              "defaultdict(int,\n",
              "            {'a': 1,\n",
              "             'bad': 1,\n",
              "             'beautiful': 1,\n",
              "             'day': 1,\n",
              "             'is': 1,\n",
              "             'like': 1,\n",
              "             'looks': 1,\n",
              "             'today': 1,\n",
              "             'tomorrow': 1,\n",
              "             'weather': 1})"
            ]
          },
          "metadata": {
            "tags": []
          },
          "execution_count": 5
        }
      ]
    },
    {
      "cell_type": "markdown",
      "metadata": {
        "id": "tBSryTDg7mw0",
        "colab_type": "text"
      },
      "source": [
        "## Parts-of-Speech Tagging"
      ]
    },
    {
      "cell_type": "markdown",
      "metadata": {
        "id": "MnfQ1mAX7nwa",
        "colab_type": "text"
      },
      "source": [
        "Partsofspeech (POS) tagging is the process of evaluating words based on their context to determine each word’s part of speech. There are eight primary English parts of speech— nouns, pronouns, verbs, adjectives, adverbs,prepositions, conjunctions and interjections (words that express emotion and that are typically followed by punctuation, like “Yes!” or “Ha!”). Within each category there are many subcategories.\n",
        "\n",
        "The tags property returns a list of tuples, each containing a word and a string representing its part-of-speech tag:"
      ]
    },
    {
      "cell_type": "code",
      "metadata": {
        "id": "F2wGVYLI7cFA",
        "colab_type": "code",
        "outputId": "19bccd8a-3377-4821-f4c1-3beb22034e14",
        "colab": {
          "base_uri": "https://localhost:8080/",
          "height": 195
        }
      },
      "source": [
        "blob.tags"
      ],
      "execution_count": 6,
      "outputs": [
        {
          "output_type": "execute_result",
          "data": {
            "text/plain": [
              "[('Today', 'NN'),\n",
              " ('is', 'VBZ'),\n",
              " ('a', 'DT'),\n",
              " ('beautiful', 'JJ'),\n",
              " ('day', 'NN'),\n",
              " ('Tomorrow', 'NNP'),\n",
              " ('looks', 'VBZ'),\n",
              " ('like', 'IN'),\n",
              " ('bad', 'JJ'),\n",
              " ('weather', 'NN')]"
            ]
          },
          "metadata": {
            "tags": []
          },
          "execution_count": 6
        }
      ]
    },
    {
      "cell_type": "markdown",
      "metadata": {
        "id": "7lLw_VL18OGi",
        "colab_type": "text"
      },
      "source": [
        "Explanation:\n",
        "* **Today**, day and weather are tagged as NN—a singular noun or mass noun.\n",
        "* **is** and looks are tagged as VBZ—a third person singular present verb.\n",
        "* **a** is tagged as DT—a determiner.\n",
        "* **beautiful** and bad are tagged as JJ—an adjective.\n",
        "* **Tomorrow** is tagged as NNP—a proper singular noun.\n",
        "* **like** is tagged as IN—a subordinating conjunction or preposition.\n",
        "\n",
        "By default, TextBlob uses a PatternTagger to determine parts-of-speech.\n",
        "This class uses the partsofspeech tagging capabilities of the pattern library:"
      ]
    },
    {
      "cell_type": "markdown",
      "metadata": {
        "id": "9h9RZp9x9zQX",
        "colab_type": "text"
      },
      "source": [
        "## Extracting Noun Phrases"
      ]
    },
    {
      "cell_type": "markdown",
      "metadata": {
        "id": "-rjjMLRY90Oz",
        "colab_type": "text"
      },
      "source": [
        "A TextBlob’s noun_phrases property returns a WordList object containing a list of Word objects—one for each noun phrase in the text:"
      ]
    },
    {
      "cell_type": "code",
      "metadata": {
        "id": "6AgZm-V18Evh",
        "colab_type": "code",
        "outputId": "c504a625-8a9a-4ce1-c42a-8f45da6b2579",
        "colab": {
          "base_uri": "https://localhost:8080/",
          "height": 35
        }
      },
      "source": [
        "blob.noun_phrases"
      ],
      "execution_count": 7,
      "outputs": [
        {
          "output_type": "execute_result",
          "data": {
            "text/plain": [
              "WordList(['beautiful day', 'tomorrow', 'bad weather'])"
            ]
          },
          "metadata": {
            "tags": []
          },
          "execution_count": 7
        }
      ]
    },
    {
      "cell_type": "markdown",
      "metadata": {
        "id": "xTMUylK9-Rys",
        "colab_type": "text"
      },
      "source": [
        "Note that a Word representing a noun phrase can contain multiple words. A WordList is an extension of Python’s builtin list type. WordLists provide additional methods for stemming, lemmatizing, singularizing and pluralizing."
      ]
    },
    {
      "cell_type": "code",
      "metadata": {
        "id": "9HAY77v3-GaP",
        "colab_type": "code",
        "outputId": "84f64676-259e-43e5-bc72-098c68d189ae",
        "colab": {
          "base_uri": "https://localhost:8080/",
          "height": 35
        }
      },
      "source": [
        "blob.tokens"
      ],
      "execution_count": 8,
      "outputs": [
        {
          "output_type": "execute_result",
          "data": {
            "text/plain": [
              "WordList(['Today', 'is', 'a', 'beautiful', 'day', '.', 'Tomorrow', 'looks', 'like', 'bad', 'weather', '.'])"
            ]
          },
          "metadata": {
            "tags": []
          },
          "execution_count": 8
        }
      ]
    },
    {
      "cell_type": "markdown",
      "metadata": {
        "id": "E0Ii5RHCEurH",
        "colab_type": "text"
      },
      "source": [
        "## Sentiment Analysis with TextBlob’s Default Sentiment Analyzer"
      ]
    },
    {
      "cell_type": "markdown",
      "metadata": {
        "id": "YH_siSuYEx9I",
        "colab_type": "text"
      },
      "source": [
        "One of the most common and valuable NLP tasks is sentiment analysis, which determines whether text is positive, neutral or negative. For instance, companies might use this to determine whether people are speaking positively or negatively online about their products. \n",
        "\n",
        "Consider the positive word “good” and the negative word “bad.” Just because a sentence contains “good” or “bad” does not mean the sentence’s sentiment necessarily is positive or negative. \n",
        "\n",
        "For example, the sentence--\n",
        "The food is not good.\n",
        "clearly has negative sentiment. \n",
        "\n",
        "Similarly, the sentence--The movie was not bad.\n",
        "\n",
        "clearly has positive sentiment, though perhaps not as positive as something like\n",
        "\n",
        "The movie was excellent!\n",
        "\n",
        "Sentiment analysis is a complex machinelearning problem. However, libraries like TextBlob have pretrained machine learning models for performing sentiment analysis."
      ]
    },
    {
      "cell_type": "markdown",
      "metadata": {
        "id": "HT5N_QT7F7Fl",
        "colab_type": "text"
      },
      "source": [
        "### Getting the Sentiment of a TextBlob"
      ]
    },
    {
      "cell_type": "markdown",
      "metadata": {
        "id": "YonI9OlfF8Ne",
        "colab_type": "text"
      },
      "source": [
        "A TextBlob’s sentiment property returns a Sentiment object indicating whether the text is positive or negative and whether it’s objective or subjective:"
      ]
    },
    {
      "cell_type": "code",
      "metadata": {
        "id": "_HEy0WyX-cY9",
        "colab_type": "code",
        "colab": {
          "base_uri": "https://localhost:8080/",
          "height": 35
        },
        "outputId": "63e0ed30-f97b-40ed-b35a-3e68cd8bbff6"
      },
      "source": [
        "blob"
      ],
      "execution_count": 9,
      "outputs": [
        {
          "output_type": "execute_result",
          "data": {
            "text/plain": [
              "TextBlob(\"Today is a beautiful day. Tomorrow looks like bad weather.\")"
            ]
          },
          "metadata": {
            "tags": []
          },
          "execution_count": 9
        }
      ]
    },
    {
      "cell_type": "code",
      "metadata": {
        "id": "fzzVvT3HGJg7",
        "colab_type": "code",
        "colab": {
          "base_uri": "https://localhost:8080/",
          "height": 35
        },
        "outputId": "299701b1-1ddd-402b-db6c-2bf1e6bbcb83"
      },
      "source": [
        "blob.sentiment"
      ],
      "execution_count": 10,
      "outputs": [
        {
          "output_type": "execute_result",
          "data": {
            "text/plain": [
              "Sentiment(polarity=0.07500000000000007, subjectivity=0.8333333333333333)"
            ]
          },
          "metadata": {
            "tags": []
          },
          "execution_count": 10
        }
      ]
    },
    {
      "cell_type": "markdown",
      "metadata": {
        "id": "k8S0MHZDGqFz",
        "colab_type": "text"
      },
      "source": [
        "the polarity indicates sentiment with a value from 1.0 (negative) to 1.0 (positive) with 0.0 being neutral. The subjectivity is a value from 0.0(objective) to 1.0 (subjective). Based on the values for our TextBlob, the overall sentiment is close to neutral, and the text is mostly subjective."
      ]
    },
    {
      "cell_type": "markdown",
      "metadata": {
        "id": "YqLRpMW6GxOX",
        "colab_type": "text"
      },
      "source": [
        "### Getting the polarity and subjectivity from the Sentiment Object"
      ]
    },
    {
      "cell_type": "markdown",
      "metadata": {
        "id": "y4ASzgY3GyRf",
        "colab_type": "text"
      },
      "source": [
        "The values displayed above probably provide more precision that you need in most cases.\n",
        "\n",
        "This can detract from numeric output’s readability. The IPython magic %precision allows you to specify the default precision for standalone float objects and float objects in builtin types like lists, dictionaries and tuples."
      ]
    },
    {
      "cell_type": "code",
      "metadata": {
        "id": "TVivM_FHGMzg",
        "colab_type": "code",
        "colab": {
          "base_uri": "https://localhost:8080/",
          "height": 35
        },
        "outputId": "dda94b82-3551-4e65-946e-5898a4914427"
      },
      "source": [
        "%precision 3\n",
        "\n",
        "blob.sentiment.polarity"
      ],
      "execution_count": 13,
      "outputs": [
        {
          "output_type": "execute_result",
          "data": {
            "text/plain": [
              "0.075"
            ]
          },
          "metadata": {
            "tags": []
          },
          "execution_count": 13
        }
      ]
    },
    {
      "cell_type": "code",
      "metadata": {
        "id": "YYdPmhN8HV4t",
        "colab_type": "code",
        "colab": {
          "base_uri": "https://localhost:8080/",
          "height": 35
        },
        "outputId": "879dde39-ccc6-4474-df6c-07788bfc4fab"
      },
      "source": [
        "blob.sentiment.subjectivity"
      ],
      "execution_count": 14,
      "outputs": [
        {
          "output_type": "execute_result",
          "data": {
            "text/plain": [
              "0.833"
            ]
          },
          "metadata": {
            "tags": []
          },
          "execution_count": 14
        }
      ]
    },
    {
      "cell_type": "markdown",
      "metadata": {
        "id": "seRzZ154HvMd",
        "colab_type": "text"
      },
      "source": [
        "### Getting the Sentiment of a Sentence"
      ]
    },
    {
      "cell_type": "markdown",
      "metadata": {
        "id": "wJ6IbV5RHwHf",
        "colab_type": "text"
      },
      "source": [
        "You also can get the sentiment at the individual sentence level. \n",
        "\n",
        "Let’s use the sentence property to get a list of Sentence objects, then iterate through them and display each Sentence’s sentiment property:"
      ]
    },
    {
      "cell_type": "code",
      "metadata": {
        "id": "d9F23kwRHZbV",
        "colab_type": "code",
        "colab": {
          "base_uri": "https://localhost:8080/",
          "height": 52
        },
        "outputId": "0e864455-5cab-4fc3-f528-38c613ca0c14"
      },
      "source": [
        "for sentence in blob.sentences:\n",
        "  print(sentence.sentiment)"
      ],
      "execution_count": 15,
      "outputs": [
        {
          "output_type": "stream",
          "text": [
            "Sentiment(polarity=0.85, subjectivity=1.0)\n",
            "Sentiment(polarity=-0.6999999999999998, subjectivity=0.6666666666666666)\n"
          ],
          "name": "stdout"
        }
      ]
    },
    {
      "cell_type": "markdown",
      "metadata": {
        "id": "nDc7d9b_Igdu",
        "colab_type": "text"
      },
      "source": [
        "This might explain why the entire TextBlob’s sentiment is close to 0.0 (neutral)—one sentence is positive (0.85) and the other negative (0.6999999999999998)."
      ]
    },
    {
      "cell_type": "markdown",
      "metadata": {
        "id": "YqYP-MKbIlgK",
        "colab_type": "text"
      },
      "source": [
        "## Sentiment Analysis with the NaiveBayesAnalyzer"
      ]
    },
    {
      "cell_type": "markdown",
      "metadata": {
        "id": "1Y7u253FImqJ",
        "colab_type": "text"
      },
      "source": [
        "By default, a TextBlob and the Sentences and Words you get from it determine sentiment using a PatternAnalyzer, which uses the same sentiment analysis techniques as in the Pattern library. \n",
        "\n",
        "The TextBlob library also comes with a NaiveBayesAnalyzer which was trained on a database of movie reviews. Naive Bayes is a commonly used machine learning text classification algorithm."
      ]
    },
    {
      "cell_type": "code",
      "metadata": {
        "id": "dF5Ci4FtIRzH",
        "colab_type": "code",
        "colab": {
          "base_uri": "https://localhost:8080/",
          "height": 35
        },
        "outputId": "9f33e151-2607-42a5-df67-4db241d92a5b"
      },
      "source": [
        "from textblob.sentiments import NaiveBayesAnalyzer\n",
        "\n",
        "blob = TextBlob(text, analyzer=NaiveBayesAnalyzer())\n",
        "blob"
      ],
      "execution_count": 16,
      "outputs": [
        {
          "output_type": "execute_result",
          "data": {
            "text/plain": [
              "TextBlob(\"Today is a beautiful day. Tomorrow looks like bad weather.\")"
            ]
          },
          "metadata": {
            "tags": []
          },
          "execution_count": 16
        }
      ]
    },
    {
      "cell_type": "code",
      "metadata": {
        "id": "-vfcaLlEJar2",
        "colab_type": "code",
        "colab": {
          "base_uri": "https://localhost:8080/",
          "height": 35
        },
        "outputId": "dc32d837-7eae-4eb6-b031-7687740b250d"
      },
      "source": [
        "blob.sentiment"
      ],
      "execution_count": 17,
      "outputs": [
        {
          "output_type": "execute_result",
          "data": {
            "text/plain": [
              "Sentiment(classification='neg', p_pos=0.47662917962091056, p_neg=0.5233708203790892)"
            ]
          },
          "metadata": {
            "tags": []
          },
          "execution_count": 17
        }
      ]
    },
    {
      "cell_type": "markdown",
      "metadata": {
        "id": "Lhmhgs0WJtSK",
        "colab_type": "text"
      },
      "source": [
        "The overall sentiment is classified as negative (classification='neg'). The\n",
        "Sentiment object’s p_pos indicates that the TextBlob is 47.66% positive, and its p_neg indicates that the TextBlob is 52.34% negative. Since the overall sentiment is just slightly more negative we’d probably view this TextBlob’s sentiment as neutral overall.\n",
        "\n",
        "Now, let’s get the sentiment of each Sentence:"
      ]
    },
    {
      "cell_type": "code",
      "metadata": {
        "id": "kmwhL5CqJhS4",
        "colab_type": "code",
        "colab": {
          "base_uri": "https://localhost:8080/",
          "height": 52
        },
        "outputId": "c8da1c4d-7b42-4ef8-d727-e36c2f9f7e88"
      },
      "source": [
        "for sentence in blob.sentences:\n",
        "  print(sentence.sentiment)"
      ],
      "execution_count": 18,
      "outputs": [
        {
          "output_type": "stream",
          "text": [
            "Sentiment(classification='pos', p_pos=0.8117563121751951, p_neg=0.18824368782480477)\n",
            "Sentiment(classification='neg', p_pos=0.174363226578349, p_neg=0.8256367734216521)\n"
          ],
          "name": "stdout"
        }
      ]
    },
    {
      "cell_type": "markdown",
      "metadata": {
        "id": "ISX5_lAPKOys",
        "colab_type": "text"
      },
      "source": [
        "Rather than polarity and subjectivity, the Sentiment objects we get from\n",
        "the NaiveBayesAnalyzer contain a classification—'pos' (positive) or 'neg' (negative)—and p_pos (percentage positive) and p_neg (percentage negative) values from 0.0 to 1.0."
      ]
    },
    {
      "cell_type": "code",
      "metadata": {
        "id": "USqA8iEmJ8WV",
        "colab_type": "code",
        "colab": {}
      },
      "source": [
        ""
      ],
      "execution_count": 0,
      "outputs": []
    }
  ]
}